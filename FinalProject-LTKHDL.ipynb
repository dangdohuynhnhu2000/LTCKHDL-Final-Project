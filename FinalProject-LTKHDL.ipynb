{
 "cells": [
  {
   "cell_type": "markdown",
   "id": "955534fe",
   "metadata": {},
   "source": [
    "# FINAL PROJECT\n",
    "\n",
    "Người thực hiện\n",
    "\n",
    "    Họ tên: Nguyễn Đình Tuyên. MSSV: 1712888\n",
    "\n",
    "    Họ tên: Đặng Đỗ Huỳnh Như. MSSV: 18120219"
   ]
  },
  {
   "cell_type": "markdown",
   "id": "f5555776",
   "metadata": {},
   "source": [
    "## Link github\n",
    "https://github.com/dangdohuynhnhu2000/LTCKHDL-Final-Project"
   ]
  },
  {
   "cell_type": "markdown",
   "id": "af15f91c",
   "metadata": {},
   "source": [
    "## Import các thư viện cần thiết"
   ]
  },
  {
   "cell_type": "code",
   "execution_count": 1,
   "id": "b6b2543e",
   "metadata": {},
   "outputs": [],
   "source": [
    "import numpy as np\n",
    "import pandas as pd\n",
    "import matplotlib.pyplot as plt\n",
    "import seaborn as sns"
   ]
  },
  {
   "cell_type": "markdown",
   "id": "60f156dc",
   "metadata": {},
   "source": [
    "## 1. Thu thập dữ liệu"
   ]
  },
  {
   "cell_type": "markdown",
   "id": "b3716408",
   "metadata": {},
   "source": [
    "- Dữ liệu trong file \"data_scientist_salary.csv\" được lấy trên kaggle mô tả về mức lương của nhà khoa học dữ liệu tại các bang của nước Mỹ. "
   ]
  },
  {
   "cell_type": "markdown",
   "id": "8c149556",
   "metadata": {},
   "source": [
    "- License của dữ liệu là CC0: Public domain. Do đó, dữ liệu cho phép sử dụng."
   ]
  },
  {
   "cell_type": "markdown",
   "id": "f43aa96e",
   "metadata": {},
   "source": [
    "- Dữ liệu được thu thập từ trang web GlassDoor bằng cách sử dụng trình quét Selenium."
   ]
  },
  {
   "cell_type": "markdown",
   "id": "f1561b40",
   "metadata": {},
   "source": [
    "## 2. Khám phá dữ liệu"
   ]
  },
  {
   "cell_type": "markdown",
   "id": "0620edb1",
   "metadata": {},
   "source": [
    "### Đọc dữ liệu từ file csv vào dataframe"
   ]
  },
  {
   "cell_type": "code",
   "execution_count": 2,
   "id": "0fecc741",
   "metadata": {
    "scrolled": true
   },
   "outputs": [
    {
     "data": {
      "text/html": [
       "<div>\n",
       "<style scoped>\n",
       "    .dataframe tbody tr th:only-of-type {\n",
       "        vertical-align: middle;\n",
       "    }\n",
       "\n",
       "    .dataframe tbody tr th {\n",
       "        vertical-align: top;\n",
       "    }\n",
       "\n",
       "    .dataframe thead th {\n",
       "        text-align: right;\n",
       "    }\n",
       "</style>\n",
       "<table border=\"1\" class=\"dataframe\">\n",
       "  <thead>\n",
       "    <tr style=\"text-align: right;\">\n",
       "      <th></th>\n",
       "      <th>index</th>\n",
       "      <th>Job Title</th>\n",
       "      <th>Salary Estimate</th>\n",
       "      <th>Job Description</th>\n",
       "      <th>Rating</th>\n",
       "      <th>Company Name</th>\n",
       "      <th>Location</th>\n",
       "      <th>Headquarters</th>\n",
       "      <th>Size</th>\n",
       "      <th>Founded</th>\n",
       "      <th>...</th>\n",
       "      <th>tensor</th>\n",
       "      <th>hadoop</th>\n",
       "      <th>tableau</th>\n",
       "      <th>bi</th>\n",
       "      <th>flink</th>\n",
       "      <th>mongo</th>\n",
       "      <th>google_an</th>\n",
       "      <th>job_title_sim</th>\n",
       "      <th>seniority_by_title</th>\n",
       "      <th>Degree</th>\n",
       "    </tr>\n",
       "  </thead>\n",
       "  <tbody>\n",
       "    <tr>\n",
       "      <th>0</th>\n",
       "      <td>0</td>\n",
       "      <td>Data Scientist</td>\n",
       "      <td>$53K-$91K (Glassdoor est.)</td>\n",
       "      <td>Data Scientist\\nLocation: Albuquerque, NM\\nEdu...</td>\n",
       "      <td>3.8</td>\n",
       "      <td>Tecolote Research\\n3.8</td>\n",
       "      <td>Albuquerque, NM</td>\n",
       "      <td>Goleta, CA</td>\n",
       "      <td>501 - 1000</td>\n",
       "      <td>1973</td>\n",
       "      <td>...</td>\n",
       "      <td>0</td>\n",
       "      <td>0</td>\n",
       "      <td>1</td>\n",
       "      <td>1</td>\n",
       "      <td>0</td>\n",
       "      <td>0</td>\n",
       "      <td>0</td>\n",
       "      <td>data scientist</td>\n",
       "      <td>na</td>\n",
       "      <td>M</td>\n",
       "    </tr>\n",
       "    <tr>\n",
       "      <th>1</th>\n",
       "      <td>1</td>\n",
       "      <td>Healthcare Data Scientist</td>\n",
       "      <td>$63K-$112K (Glassdoor est.)</td>\n",
       "      <td>What You Will Do:\\n\\nI. General Summary\\n\\nThe...</td>\n",
       "      <td>3.4</td>\n",
       "      <td>University of Maryland Medical System\\n3.4</td>\n",
       "      <td>Linthicum, MD</td>\n",
       "      <td>Baltimore, MD</td>\n",
       "      <td>10000+</td>\n",
       "      <td>1984</td>\n",
       "      <td>...</td>\n",
       "      <td>0</td>\n",
       "      <td>0</td>\n",
       "      <td>0</td>\n",
       "      <td>0</td>\n",
       "      <td>0</td>\n",
       "      <td>0</td>\n",
       "      <td>0</td>\n",
       "      <td>data scientist</td>\n",
       "      <td>na</td>\n",
       "      <td>M</td>\n",
       "    </tr>\n",
       "    <tr>\n",
       "      <th>2</th>\n",
       "      <td>2</td>\n",
       "      <td>Data Scientist</td>\n",
       "      <td>$80K-$90K (Glassdoor est.)</td>\n",
       "      <td>KnowBe4, Inc. is a high growth information sec...</td>\n",
       "      <td>4.8</td>\n",
       "      <td>KnowBe4\\n4.8</td>\n",
       "      <td>Clearwater, FL</td>\n",
       "      <td>Clearwater, FL</td>\n",
       "      <td>501 - 1000</td>\n",
       "      <td>2010</td>\n",
       "      <td>...</td>\n",
       "      <td>0</td>\n",
       "      <td>0</td>\n",
       "      <td>0</td>\n",
       "      <td>0</td>\n",
       "      <td>0</td>\n",
       "      <td>0</td>\n",
       "      <td>0</td>\n",
       "      <td>data scientist</td>\n",
       "      <td>na</td>\n",
       "      <td>M</td>\n",
       "    </tr>\n",
       "    <tr>\n",
       "      <th>3</th>\n",
       "      <td>3</td>\n",
       "      <td>Data Scientist</td>\n",
       "      <td>$56K-$97K (Glassdoor est.)</td>\n",
       "      <td>*Organization and Job ID**\\nJob ID: 310709\\n\\n...</td>\n",
       "      <td>3.8</td>\n",
       "      <td>PNNL\\n3.8</td>\n",
       "      <td>Richland, WA</td>\n",
       "      <td>Richland, WA</td>\n",
       "      <td>1001 - 5000</td>\n",
       "      <td>1965</td>\n",
       "      <td>...</td>\n",
       "      <td>0</td>\n",
       "      <td>0</td>\n",
       "      <td>0</td>\n",
       "      <td>0</td>\n",
       "      <td>0</td>\n",
       "      <td>0</td>\n",
       "      <td>0</td>\n",
       "      <td>data scientist</td>\n",
       "      <td>na</td>\n",
       "      <td>na</td>\n",
       "    </tr>\n",
       "    <tr>\n",
       "      <th>4</th>\n",
       "      <td>4</td>\n",
       "      <td>Data Scientist</td>\n",
       "      <td>$86K-$143K (Glassdoor est.)</td>\n",
       "      <td>Data Scientist\\nAffinity Solutions / Marketing...</td>\n",
       "      <td>2.9</td>\n",
       "      <td>Affinity Solutions\\n2.9</td>\n",
       "      <td>New York, NY</td>\n",
       "      <td>New York, NY</td>\n",
       "      <td>51 - 200</td>\n",
       "      <td>1998</td>\n",
       "      <td>...</td>\n",
       "      <td>0</td>\n",
       "      <td>0</td>\n",
       "      <td>0</td>\n",
       "      <td>0</td>\n",
       "      <td>0</td>\n",
       "      <td>0</td>\n",
       "      <td>0</td>\n",
       "      <td>data scientist</td>\n",
       "      <td>na</td>\n",
       "      <td>na</td>\n",
       "    </tr>\n",
       "  </tbody>\n",
       "</table>\n",
       "<p>5 rows × 42 columns</p>\n",
       "</div>"
      ],
      "text/plain": [
       "   index                  Job Title              Salary Estimate  \\\n",
       "0      0             Data Scientist   $53K-$91K (Glassdoor est.)   \n",
       "1      1  Healthcare Data Scientist  $63K-$112K (Glassdoor est.)   \n",
       "2      2             Data Scientist   $80K-$90K (Glassdoor est.)   \n",
       "3      3             Data Scientist   $56K-$97K (Glassdoor est.)   \n",
       "4      4             Data Scientist  $86K-$143K (Glassdoor est.)   \n",
       "\n",
       "                                     Job Description  Rating  \\\n",
       "0  Data Scientist\\nLocation: Albuquerque, NM\\nEdu...     3.8   \n",
       "1  What You Will Do:\\n\\nI. General Summary\\n\\nThe...     3.4   \n",
       "2  KnowBe4, Inc. is a high growth information sec...     4.8   \n",
       "3  *Organization and Job ID**\\nJob ID: 310709\\n\\n...     3.8   \n",
       "4  Data Scientist\\nAffinity Solutions / Marketing...     2.9   \n",
       "\n",
       "                                 Company Name         Location  \\\n",
       "0                      Tecolote Research\\n3.8  Albuquerque, NM   \n",
       "1  University of Maryland Medical System\\n3.4    Linthicum, MD   \n",
       "2                                KnowBe4\\n4.8   Clearwater, FL   \n",
       "3                                   PNNL\\n3.8     Richland, WA   \n",
       "4                     Affinity Solutions\\n2.9     New York, NY   \n",
       "\n",
       "     Headquarters          Size  Founded  ... tensor hadoop tableau bi flink  \\\n",
       "0      Goleta, CA   501 - 1000      1973  ...      0      0       1  1     0   \n",
       "1   Baltimore, MD       10000+      1984  ...      0      0       0  0     0   \n",
       "2  Clearwater, FL   501 - 1000      2010  ...      0      0       0  0     0   \n",
       "3    Richland, WA  1001 - 5000      1965  ...      0      0       0  0     0   \n",
       "4    New York, NY     51 - 200      1998  ...      0      0       0  0     0   \n",
       "\n",
       "   mongo  google_an   job_title_sim  seniority_by_title  Degree  \n",
       "0      0          0  data scientist                  na       M  \n",
       "1      0          0  data scientist                  na       M  \n",
       "2      0          0  data scientist                  na       M  \n",
       "3      0          0  data scientist                  na      na  \n",
       "4      0          0  data scientist                  na      na  \n",
       "\n",
       "[5 rows x 42 columns]"
      ]
     },
     "execution_count": 2,
     "metadata": {},
     "output_type": "execute_result"
    }
   ],
   "source": [
    "ds_salary_df = pd.read_csv('data_scientist_salary.csv')\n",
    "ds_salary_df.head()"
   ]
  },
  {
   "cell_type": "markdown",
   "id": "753f15bc",
   "metadata": {
    "scrolled": true
   },
   "source": [
    "- Bỏ cột **index**, sử dụng theo index của pandas, vì theo quan sát ta thấy cột này chỉ chỉ mục của dòng nhưng lại không liên tục."
   ]
  },
  {
   "cell_type": "code",
   "execution_count": 3,
   "id": "1a861a63",
   "metadata": {},
   "outputs": [],
   "source": [
    "ds_salary_df = ds_salary_df.drop(columns = ['index'])"
   ]
  },
  {
   "cell_type": "markdown",
   "id": "4ee0f0a0",
   "metadata": {},
   "source": [
    "### Dữ liệu có bao nhiêu dòng và bao nhiêu cột?"
   ]
  },
  {
   "cell_type": "markdown",
   "id": "804974aa",
   "metadata": {},
   "source": [
    "- Biến num_rows và num_columns chỉ số dòng và số cột của dữ liệu"
   ]
  },
  {
   "cell_type": "code",
   "execution_count": 4,
   "id": "0c5a8af3",
   "metadata": {},
   "outputs": [
    {
     "data": {
      "text/plain": [
       "(742, 41)"
      ]
     },
     "execution_count": 4,
     "metadata": {},
     "output_type": "execute_result"
    }
   ],
   "source": [
    "num_rows = len(ds_salary_df)\n",
    "num_columns = len(ds_salary_df.columns)\n",
    "num_rows, num_columns"
   ]
  },
  {
   "cell_type": "markdown",
   "id": "12cbc8f1",
   "metadata": {},
   "source": [
    "- Dữ liệu có 742 dòng và 42 cột"
   ]
  },
  {
   "cell_type": "markdown",
   "id": "ad5d6834",
   "metadata": {},
   "source": [
    "### Mỗi dòng có ý nghĩa gì? Có vấn đề các dòng có ý nghĩa khác nhau không?"
   ]
  },
  {
   "cell_type": "markdown",
   "id": "7e9b7687",
   "metadata": {},
   "source": [
    "- Mỗi dòng có thông tin về mức lương tối thiểu, mức lương tối đa, mô tả về công việc, công ty,... liên quan đến nhà khoa học dữ liệu. Theo quan sát sơ bộ và mô tả về dữ liệu thì không có dòng nào có ý nghĩa khác."
   ]
  },
  {
   "cell_type": "markdown",
   "id": "1d34acfd",
   "metadata": {},
   "source": [
    "### Dữ liệu có các dòng bị lặp không?"
   ]
  },
  {
   "cell_type": "markdown",
   "id": "05a59c9e",
   "metadata": {},
   "source": [
    "- Biến duplicated_rows dùng để kiểm tra có dòng lặp hay không bằng phương thức duplicated của pandas, trả về True nếu bị lặp, ngược lại là False."
   ]
  },
  {
   "cell_type": "code",
   "execution_count": 5,
   "id": "80b8fc77",
   "metadata": {
    "scrolled": false
   },
   "outputs": [
    {
     "data": {
      "text/plain": [
       "True"
      ]
     },
     "execution_count": 5,
     "metadata": {},
     "output_type": "execute_result"
    }
   ],
   "source": [
    "duplicated_rows = ds_salary_df.duplicated().any()\n",
    "duplicated_rows"
   ]
  },
  {
   "cell_type": "markdown",
   "id": "bfa3db1c",
   "metadata": {},
   "source": [
    "- Do dữ liệu có dòng bị lặp nên mình tiến hành loại bỏ các dòng bị lặp, chỉ giữ lại dòng đầu tiên."
   ]
  },
  {
   "cell_type": "code",
   "execution_count": 6,
   "id": "fcece5f3",
   "metadata": {},
   "outputs": [
    {
     "data": {
      "text/plain": [
       "(467, 41)"
      ]
     },
     "execution_count": 6,
     "metadata": {},
     "output_type": "execute_result"
    }
   ],
   "source": [
    "ds_salary_df = ds_salary_df.drop_duplicates()\n",
    "ds_salary_df.shape"
   ]
  },
  {
   "cell_type": "markdown",
   "id": "6e3af157",
   "metadata": {},
   "source": [
    "### Mỗi cột có ý nghĩa gì?"
   ]
  },
  {
   "cell_type": "markdown",
   "id": "b1025521",
   "metadata": {},
   "source": [
    "Dưới đây là phần mô tả về các cột trong file \"data_scientist_salary\":\n",
    "- **Job title**: Chức danh của công việc, ví dụ: Data scientist, junior data scientist, senior data scientist, ...\n",
    "- **Salary Estimate**: Khoảng lương và nguồn lấy thông tin.\n",
    "- **Job Description**: Mô tả chung về công việc, cho biết các yêu cầu kỹ năng mà công ty mong muốn và những việc mà người trúng tuyển sẽ đảm nhiệm.\n",
    "- **Rating**: Điểm đánh giá cho công ty.\n",
    "- **Company Name**: Tên công ty.\n",
    "- **Location**: Địa điểm làm việc.\n",
    "- **Headquarters**: Địa điểm trụ sở chính của công ty.\n",
    "- **Size**: Quy mô nhân lực của công ty.\n",
    "- **Founded**: Năm thành lập công ty. \n",
    "- **Type of ownership**: Cho biết đây là công ty tư nhân, đại chúng hay thuộc nhà nước. \n",
    "- **Industry**: Cho biết hoạt động kinh doanh của công ty thuộc ngành công nghiệp nào, ví dụ: công nghệ thông tin, công nghiệp dược phẩm, ... \n",
    "- **Sector**: Lĩnh vực mà công ty hoạt động.\n",
    "- **Revenue**: Tổng số doanh thu hàng năm của công ty. \n",
    "- **Competitors**: Cho biết những đối thủ cạnh tranh hiện tại của công ty. \n",
    "- **Hourly**: Có giá trị 1 nếu mức lương được báo cáo theo giờ và có giá trị là 0 ở các trường hợp còn lại.\n",
    "- **Employer provided**: Có giá trị là 1 nếu mức lương được cung cấp bởi nhà tuyển dụng và có giá trị là 0 ở các trường hợp còn lại.\n",
    "- **Lower Salary**: Mức lương tối thiểu cho công việc này của công ty.\n",
    "- **Upper Salary**: Mức lương tối đa cho công việc này của công ty.\n",
    "- **Avg Salary(K)**: Mức lương trung bình cho công việc này của công ty (K ở đây là đơn vị nghìn).\n",
    "- **company_txt**: Chứa tên công ty.\n",
    "- **Job Location**: Tên viết tắt của vị trí công ty (bang).\n",
    "- **Age**: Tuổi của công ty (tính theo năm).\n",
    "- **Python -> google_an**: Có giá trị là 1 nếu công việc đòi hỏi kỹ năng ..., ngược lại có giá trị 0.\n",
    "- **job_title_sim**: Tên đơn giản của chức danh công việc.\n",
    "- **seniority_by_title**: Có chữ senior trong chức danh.\n",
    "- **Degree**: Có giá trị M nếu công việc yêu cầu bằng cấp hoặc số năm kinh nghiệm; có giá trị P trong các trường hợp còn lại."
   ]
  },
  {
   "cell_type": "markdown",
   "id": "0416cd1a",
   "metadata": {},
   "source": [
    "**Nhận xét**\n",
    "- Ở đây có quá nhiều cột dữ liệu, vì vậy để dễ dàng theo dõi và nhận xét thì ta sẽ bỏ bớt các cột không cần thiết ví dụ như:\n",
    "    - Bỏ các cột có thông tin ngoài lề như: **Headquarters**(vị trí trụ sở), **Competitors**(Đối thủ cạnh tranh của cty), **Hourly**(lương theo giờ hay không), **Employer provided**(thông tin do nhân viên cung cấp hay không).\n",
    "    - Bỏ cột trùng dữ liệu: **company_txt**(tên của công ty) trùng với Company Name."
   ]
  },
  {
   "cell_type": "code",
   "execution_count": 7,
   "id": "d746acfc",
   "metadata": {},
   "outputs": [
    {
     "data": {
      "text/plain": [
       "(467, 36)"
      ]
     },
     "execution_count": 7,
     "metadata": {},
     "output_type": "execute_result"
    }
   ],
   "source": [
    "ds_salary_df = ds_salary_df.drop(columns = ['Headquarters','Competitors','Hourly', \\\n",
    "                                            'Employer provided','company_txt'])\n",
    "ds_salary_df.shape"
   ]
  },
  {
   "cell_type": "markdown",
   "id": "71eff4ce",
   "metadata": {},
   "source": [
    "### Mỗi cột hiện đang có kiểu dữ liệu gì? Có cột nào có kiểu dữ liệu chưa phù hợp để có thể xử lý tiếp không?"
   ]
  },
  {
   "cell_type": "markdown",
   "id": "d3fd89a3",
   "metadata": {},
   "source": [
    "- Dùng chức năng dtypes để xem kiểu dữ liệu của các cột."
   ]
  },
  {
   "cell_type": "code",
   "execution_count": 8,
   "id": "fb419a45",
   "metadata": {
    "scrolled": true
   },
   "outputs": [
    {
     "data": {
      "text/plain": [
       "Job Title              object\n",
       "Salary Estimate        object\n",
       "Job Description        object\n",
       "Rating                float64\n",
       "Company Name           object\n",
       "Location               object\n",
       "Size                   object\n",
       "Founded                 int64\n",
       "Type of ownership      object\n",
       "Industry               object\n",
       "Sector                 object\n",
       "Revenue                object\n",
       "Lower Salary            int64\n",
       "Upper Salary            int64\n",
       "Avg Salary(K)         float64\n",
       "Job Location           object\n",
       "Age                     int64\n",
       "Python                  int64\n",
       "spark                   int64\n",
       "aws                     int64\n",
       "excel                   int64\n",
       "sql                     int64\n",
       "sas                     int64\n",
       "keras                   int64\n",
       "pytorch                 int64\n",
       "scikit                  int64\n",
       "tensor                  int64\n",
       "hadoop                  int64\n",
       "tableau                 int64\n",
       "bi                      int64\n",
       "flink                   int64\n",
       "mongo                   int64\n",
       "google_an               int64\n",
       "job_title_sim          object\n",
       "seniority_by_title     object\n",
       "Degree                 object\n",
       "dtype: object"
      ]
     },
     "execution_count": 8,
     "metadata": {},
     "output_type": "execute_result"
    }
   ],
   "source": [
    "col_dtypes = ds_salary_df.dtypes\n",
    "col_dtypes"
   ]
  },
  {
   "cell_type": "markdown",
   "id": "245b28e6",
   "metadata": {},
   "source": [
    "- Các cột có kiểu dữ liệu đã phù hợp ngoại trừ cột **Founded**: dùng để chỉ năm thành lập của công ty, nên chuyển thành datetime với format là '%Y'.\n",
    "- Tuy nhiên khi xử lý sẽ gặp lỗi bởi vì các giá trị thiếu được điền là '-1'. Vì vậy để dễ xử lý ta cần thay đổi các giá trị '-1' thành np.NaN."
   ]
  },
  {
   "cell_type": "code",
   "execution_count": 9,
   "id": "27b47885",
   "metadata": {},
   "outputs": [
    {
     "data": {
      "text/plain": [
       "0   1973-01-01\n",
       "1   1984-01-01\n",
       "2   2010-01-01\n",
       "3   1965-01-01\n",
       "4   1998-01-01\n",
       "Name: Founded, dtype: datetime64[ns]"
      ]
     },
     "execution_count": 9,
     "metadata": {},
     "output_type": "execute_result"
    }
   ],
   "source": [
    "ds_salary_df = ds_salary_df.replace(-1, np.NaN)\n",
    "ds_salary_df['Founded'] = pd.to_datetime(ds_salary_df['Founded'],format = '%Y')\n",
    "ds_salary_df['Founded'].head()"
   ]
  },
  {
   "cell_type": "markdown",
   "id": "8723cd6a",
   "metadata": {},
   "source": [
    "### Với mỗi cột có kiểu dữ liệu dạng số (numerical), các giá trị được phân bố như thế nào?\n",
    "(tính tỉ lệ các giá trị thiếu, min/max của các cột có kiểu dữ liệu dạng số)"
   ]
  },
  {
   "cell_type": "markdown",
   "id": "b9274127",
   "metadata": {},
   "source": [
    "Vì các cột từ Python -> google_an: chỉ gồm 1 nếu công việc yêu cầu skill này hoặc ngược lại là 0 cho nên ta không cần xét sự phân bố các cột này. Các cột có kiểu dữ liệu dạng số (numerical) cần xét còn lại là: **\"Rating\", \"Lower Salary\", \"Upper Salary\", \"Avg Salary(K)\", \"Age\"**. \n",
    "\n",
    "Với mỗi cột này ta tính phần trăm các giá trị thiếu, min, max bằng cách dùng cấu trúc agg để tổng hợp các tính năng tính giá trị trong mỗi cột."
   ]
  },
  {
   "cell_type": "code",
   "execution_count": 10,
   "id": "2b903094",
   "metadata": {
    "scrolled": true
   },
   "outputs": [
    {
     "data": {
      "text/html": [
       "<div>\n",
       "<style scoped>\n",
       "    .dataframe tbody tr th:only-of-type {\n",
       "        vertical-align: middle;\n",
       "    }\n",
       "\n",
       "    .dataframe tbody tr th {\n",
       "        vertical-align: top;\n",
       "    }\n",
       "\n",
       "    .dataframe thead th {\n",
       "        text-align: right;\n",
       "    }\n",
       "</style>\n",
       "<table border=\"1\" class=\"dataframe\">\n",
       "  <thead>\n",
       "    <tr style=\"text-align: right;\">\n",
       "      <th></th>\n",
       "      <th>Rating</th>\n",
       "      <th>Lower Salary</th>\n",
       "      <th>Upper Salary</th>\n",
       "      <th>Avg Salary(K)</th>\n",
       "      <th>Age</th>\n",
       "    </tr>\n",
       "  </thead>\n",
       "  <tbody>\n",
       "    <tr>\n",
       "      <th>missing_ratio</th>\n",
       "      <td>1.498929</td>\n",
       "      <td>0.0</td>\n",
       "      <td>0.0</td>\n",
       "      <td>0.0</td>\n",
       "      <td>7.066381</td>\n",
       "    </tr>\n",
       "    <tr>\n",
       "      <th>min</th>\n",
       "      <td>1.900000</td>\n",
       "      <td>15.0</td>\n",
       "      <td>16.0</td>\n",
       "      <td>15.5</td>\n",
       "      <td>2.000000</td>\n",
       "    </tr>\n",
       "    <tr>\n",
       "      <th>max</th>\n",
       "      <td>5.000000</td>\n",
       "      <td>202.0</td>\n",
       "      <td>306.0</td>\n",
       "      <td>254.0</td>\n",
       "      <td>277.000000</td>\n",
       "    </tr>\n",
       "  </tbody>\n",
       "</table>\n",
       "</div>"
      ],
      "text/plain": [
       "                 Rating  Lower Salary  Upper Salary  Avg Salary(K)         Age\n",
       "missing_ratio  1.498929           0.0           0.0            0.0    7.066381\n",
       "min            1.900000          15.0          16.0           15.5    2.000000\n",
       "max            5.000000         202.0         306.0          254.0  277.000000"
      ]
     },
     "execution_count": 10,
     "metadata": {},
     "output_type": "execute_result"
    }
   ],
   "source": [
    "numerical_df = ds_salary_df[[\"Rating\", \"Lower Salary\", \"Upper Salary\", \"Avg Salary(K)\", \"Age\"]]\n",
    "def missing_ratio(x):\n",
    "    return x.isna().mean() * 100\n",
    "\n",
    "numerical_df = numerical_df.agg([missing_ratio, pd.Series.min, pd.Series.max])\n",
    "numerical_df"
   ]
  },
  {
   "cell_type": "markdown",
   "id": "68752b35",
   "metadata": {
    "scrolled": true
   },
   "source": [
    "- Ta có thể thấy min/max các cột không có gì bất thường, ngoại trừ Age của 1 công ty có tuổi '277'?"
   ]
  },
  {
   "cell_type": "markdown",
   "id": "1fad0f10",
   "metadata": {},
   "source": [
    "### Với mỗi cột có kiểu dữ liệu dạng phân loại (categorical), các giá trị được phân bố như thế nào?\n",
    "(tính tỉ lệ các giá trị thiếu, số lượng các giá trị khác nhau, show một vài giá trị)"
   ]
  },
  {
   "cell_type": "markdown",
   "id": "b1b00904",
   "metadata": {},
   "source": [
    "Theo như quan sát và tìm hiểu dữ liệu thì các cột categorical của dữ liệu trên sẽ là các cột có dtypes là object.\n",
    "\n",
    "Tuy nhiên: \n",
    "- Ở các cột **seniority_by_title**, **Degree** thì các giá trị thiếu được điền là na -> cần chuyển thành np.NaN để có thể hoạt động tốt trên các hàm của pandas.\n",
    "- Ở cột **Revenue** thì các giá trị thiếu được điền là Unknown -> cần chuyển thành np.NaN"
   ]
  },
  {
   "cell_type": "code",
   "execution_count": 11,
   "id": "1f35595a",
   "metadata": {},
   "outputs": [],
   "source": [
    "ds_salary_df = ds_salary_df.replace(['na', 'Unknown / Non-Applicable'], np.NaN)"
   ]
  },
  {
   "cell_type": "code",
   "execution_count": 12,
   "id": "59680ca6",
   "metadata": {
    "scrolled": true
   },
   "outputs": [
    {
     "data": {
      "text/html": [
       "<div>\n",
       "<style scoped>\n",
       "    .dataframe tbody tr th:only-of-type {\n",
       "        vertical-align: middle;\n",
       "    }\n",
       "\n",
       "    .dataframe tbody tr th {\n",
       "        vertical-align: top;\n",
       "    }\n",
       "\n",
       "    .dataframe thead th {\n",
       "        text-align: right;\n",
       "    }\n",
       "</style>\n",
       "<table border=\"1\" class=\"dataframe\">\n",
       "  <thead>\n",
       "    <tr style=\"text-align: right;\">\n",
       "      <th></th>\n",
       "      <th>Job Title</th>\n",
       "      <th>Salary Estimate</th>\n",
       "      <th>Job Description</th>\n",
       "      <th>Company Name</th>\n",
       "      <th>Location</th>\n",
       "      <th>Size</th>\n",
       "      <th>Type of ownership</th>\n",
       "      <th>Industry</th>\n",
       "      <th>Sector</th>\n",
       "      <th>Revenue</th>\n",
       "      <th>Job Location</th>\n",
       "      <th>job_title_sim</th>\n",
       "      <th>seniority_by_title</th>\n",
       "      <th>Degree</th>\n",
       "    </tr>\n",
       "  </thead>\n",
       "  <tbody>\n",
       "    <tr>\n",
       "      <th>missing_ratio</th>\n",
       "      <td>0.0</td>\n",
       "      <td>0.0</td>\n",
       "      <td>0.0</td>\n",
       "      <td>0.0</td>\n",
       "      <td>0.0</td>\n",
       "      <td>0.0</td>\n",
       "      <td>0.0</td>\n",
       "      <td>0.0</td>\n",
       "      <td>0.0</td>\n",
       "      <td>28.69379</td>\n",
       "      <td>0.0</td>\n",
       "      <td>1.284797</td>\n",
       "      <td>72.805139</td>\n",
       "      <td>52.462527</td>\n",
       "    </tr>\n",
       "    <tr>\n",
       "      <th>num_diff_vals</th>\n",
       "      <td>264</td>\n",
       "      <td>416</td>\n",
       "      <td>463</td>\n",
       "      <td>343</td>\n",
       "      <td>200</td>\n",
       "      <td>8</td>\n",
       "      <td>9</td>\n",
       "      <td>60</td>\n",
       "      <td>25</td>\n",
       "      <td>12</td>\n",
       "      <td>37</td>\n",
       "      <td>9</td>\n",
       "      <td>2</td>\n",
       "      <td>2</td>\n",
       "    </tr>\n",
       "    <tr>\n",
       "      <th>diff_vals</th>\n",
       "      <td>[Data Scientist, Healthcare Data Scientist, Re...</td>\n",
       "      <td>[$53K-$91K (Glassdoor est.), $63K-$112K (Glass...</td>\n",
       "      <td>[Data Scientist\\nLocation: Albuquerque, NM\\nEd...</td>\n",
       "      <td>[Tecolote Research\\n3.8, University of Marylan...</td>\n",
       "      <td>[Albuquerque, NM, Linthicum, MD, Clearwater, F...</td>\n",
       "      <td>[501 - 1000 , 10000+ , 1001 - 5000 , 51 - 200 ...</td>\n",
       "      <td>[Company - Private, Other Organization, Govern...</td>\n",
       "      <td>[Aerospace &amp; Defense, Health Care Services &amp; H...</td>\n",
       "      <td>[Aerospace &amp; Defense, Health Care, Business Se...</td>\n",
       "      <td>[$50 to $100 million (USD), $2 to $5 billion (...</td>\n",
       "      <td>[NM, MD, FL, WA, NY, TX, CA, VA, MA, NJ, CO, I...</td>\n",
       "      <td>[data scientist, other scientist, analyst, dat...</td>\n",
       "      <td>[sr, jr]</td>\n",
       "      <td>[M, P]</td>\n",
       "    </tr>\n",
       "  </tbody>\n",
       "</table>\n",
       "</div>"
      ],
      "text/plain": [
       "                                                       Job Title  \\\n",
       "missing_ratio                                                0.0   \n",
       "num_diff_vals                                                264   \n",
       "diff_vals      [Data Scientist, Healthcare Data Scientist, Re...   \n",
       "\n",
       "                                                 Salary Estimate  \\\n",
       "missing_ratio                                                0.0   \n",
       "num_diff_vals                                                416   \n",
       "diff_vals      [$53K-$91K (Glassdoor est.), $63K-$112K (Glass...   \n",
       "\n",
       "                                                 Job Description  \\\n",
       "missing_ratio                                                0.0   \n",
       "num_diff_vals                                                463   \n",
       "diff_vals      [Data Scientist\\nLocation: Albuquerque, NM\\nEd...   \n",
       "\n",
       "                                                    Company Name  \\\n",
       "missing_ratio                                                0.0   \n",
       "num_diff_vals                                                343   \n",
       "diff_vals      [Tecolote Research\\n3.8, University of Marylan...   \n",
       "\n",
       "                                                        Location  \\\n",
       "missing_ratio                                                0.0   \n",
       "num_diff_vals                                                200   \n",
       "diff_vals      [Albuquerque, NM, Linthicum, MD, Clearwater, F...   \n",
       "\n",
       "                                                            Size  \\\n",
       "missing_ratio                                                0.0   \n",
       "num_diff_vals                                                  8   \n",
       "diff_vals      [501 - 1000 , 10000+ , 1001 - 5000 , 51 - 200 ...   \n",
       "\n",
       "                                               Type of ownership  \\\n",
       "missing_ratio                                                0.0   \n",
       "num_diff_vals                                                  9   \n",
       "diff_vals      [Company - Private, Other Organization, Govern...   \n",
       "\n",
       "                                                        Industry  \\\n",
       "missing_ratio                                                0.0   \n",
       "num_diff_vals                                                 60   \n",
       "diff_vals      [Aerospace & Defense, Health Care Services & H...   \n",
       "\n",
       "                                                          Sector  \\\n",
       "missing_ratio                                                0.0   \n",
       "num_diff_vals                                                 25   \n",
       "diff_vals      [Aerospace & Defense, Health Care, Business Se...   \n",
       "\n",
       "                                                         Revenue  \\\n",
       "missing_ratio                                           28.69379   \n",
       "num_diff_vals                                                 12   \n",
       "diff_vals      [$50 to $100 million (USD), $2 to $5 billion (...   \n",
       "\n",
       "                                                    Job Location  \\\n",
       "missing_ratio                                                0.0   \n",
       "num_diff_vals                                                 37   \n",
       "diff_vals      [NM, MD, FL, WA, NY, TX, CA, VA, MA, NJ, CO, I...   \n",
       "\n",
       "                                                   job_title_sim  \\\n",
       "missing_ratio                                           1.284797   \n",
       "num_diff_vals                                                  9   \n",
       "diff_vals      [data scientist, other scientist, analyst, dat...   \n",
       "\n",
       "              seniority_by_title     Degree  \n",
       "missing_ratio          72.805139  52.462527  \n",
       "num_diff_vals                  2          2  \n",
       "diff_vals               [sr, jr]     [M, P]  "
      ]
     },
     "execution_count": 12,
     "metadata": {},
     "output_type": "execute_result"
    }
   ],
   "source": [
    "columns_cate = list(ds_salary_df.dtypes[ds_salary_df.dtypes == 'object'].index)\n",
    "categorical_df = ds_salary_df[columns_cate]\n",
    "def diff_vals(s):\n",
    "    return s.dropna().unique()\n",
    "def num_diff_vals(s):\n",
    "    return s.nunique()\n",
    "categorical_df = categorical_df.agg([missing_ratio,num_diff_vals,diff_vals])\n",
    "categorical_df"
   ]
  },
  {
   "cell_type": "markdown",
   "id": "2b5d02b1",
   "metadata": {},
   "source": [
    "## 3. Đưa ra các câu hỏi có ý nghĩa cần trả lời"
   ]
  },
  {
   "cell_type": "markdown",
   "id": "39e53f66",
   "metadata": {},
   "source": [
    "### Câu hỏi 1: \n",
    "***Các kĩ năng cần thiết của các công việc trong lĩnh vực khoa học dữ liệu là gì? Các công việc nào có lương trung bình cao nhất?***"
   ]
  },
  {
   "cell_type": "markdown",
   "id": "e1114d1c",
   "metadata": {},
   "source": [
    "- Trả lời được có lợi ích gì?\n",
    "\n",
    "Liên quan đến lĩnh vực khoa học dữ liệu cần có rất nhiều kĩ năng, tuy nhiên tùy vào mỗi công việc mà mình chọn thì chỉ nên tập trung vào các kĩ năng cần thiết. Vì vậy việc lọc các kĩ năng yêu cầu của từng công việc sẽ giúp người học có cái nhìn tổng quát và lựa chọn kĩ năng để có thể phù hợp với công việc đó. Ví dụ như công việc data scientist: mình sẽ nên học python, exel hay sql,... để phục vụ công việc chứ không nên học tất cả, còn data analyst thì sẽ có các yêu cầu kĩ năng khác.\n",
    "\n",
    "Bên cạnh đó, cũng biết được mức lương trung bình của các công việc thuộc lĩnh vực khoa học dữ liệu, người đọc có thể lựa chọn công việc mình theo đuổi rồi chuẩn bị các skill mà công việc yêu cầu."
   ]
  },
  {
   "cell_type": "markdown",
   "id": "b350e6c7",
   "metadata": {},
   "source": [
    "### Câu hỏi 2:"
   ]
  },
  {
   "cell_type": "markdown",
   "id": "3ad99770",
   "metadata": {},
   "source": [
    "***Những ngành công nghiệp nào tuyển nhiều vị trí liên quan đến khoa học dữ liệu nhất nhất? Liệu mức lương ở các ngành này có khác nhau và đâu là top các ngành có mức lương cao nhất?***"
   ]
  },
  {
   "cell_type": "markdown",
   "id": "8d1f752e",
   "metadata": {},
   "source": [
    "- Trả lời được có lợi ích gì?"
   ]
  },
  {
   "cell_type": "markdown",
   "id": "25f7c5a2",
   "metadata": {},
   "source": [
    "Các công việc liên quan đến khoa học dữ liệu không chỉ đòi hỏi nhà khoa học dữ liệu phải có kiến thức chuyên môn về khoa học dữ liệu mà còn đòi hỏi sự hiểu biết về dữ liệu trong lĩnh vực cụ thể mà họ đang nghiên cứu. Do đó, việc tìm hiểu xem các ngành nào tuyển nhiều vị trí liên quan dến khoa học dữ liệu và khám phá sự chênh lệch mức lương ở các ngành có thể giúp người học đưa ra định hướng nghề nghiệp phù hợp trong tương lai. (Ví dụ: nếu muốn làm việc trong lĩnh vực y tế, người học KHDL có thể tìm học các khóa học về xử lý dữ liệu trong ngành y).\n",
    "\n",
    "Ngoài ra, phân tích còn cung cấp một cái nhìn tổng quan về thực trạng ứng dụng khoa học dữ liệu vào các ngành công nghiệp và đời sống."
   ]
  },
  {
   "cell_type": "markdown",
   "id": "8a212e6e",
   "metadata": {},
   "source": [
    "### Câu hỏi 3:"
   ]
  },
  {
   "cell_type": "markdown",
   "id": "be7d194a",
   "metadata": {},
   "source": [
    "***Phân bố việc làm khoa học dữ liệu ở mỗi bang như thế nào? Đâu là top các bang và thành phố có nhiều việc làm liên quan đến khoa học dữ liệu nhất?***"
   ]
  },
  {
   "cell_type": "markdown",
   "id": "80deae85",
   "metadata": {},
   "source": [
    "- Trả lời được có lợi ích gì?"
   ]
  },
  {
   "cell_type": "markdown",
   "id": "97eb7336",
   "metadata": {},
   "source": [
    "Việc tìm ra các bang có phân bố việc làm liên quan đến KHDL lớn nhất có thể giúp cho người tìm việc đưa ra quyết định phù hợp về nơi mà họ sẽ định cư. Ví dụ, khi một nhà KHDL muốn chuyển công ty do muốn học hỏi thêm hoặc do không phù hợp với công ty hiện tại, nếu nhà KHDL này ở một bang có nhiều việc làm KHDL, việc chuyển đổi này sẽ diễn ra dễ dàng hơn.\n",
    "\n",
    "Vì phạm vi của mỗi bang là rất lớn, để thu hẹp hơn, ta đồng thời tìm ra top các thành phố mà có nhiều việc làm về KHDL nhất ở mỗi bang."
   ]
  },
  {
   "cell_type": "markdown",
   "id": "b7937443",
   "metadata": {},
   "source": [
    "## 4. Tiền xử lý và phân tích dữ liệu để trả lời các câu hỏi"
   ]
  },
  {
   "cell_type": "markdown",
   "id": "41417167",
   "metadata": {},
   "source": [
    "## Câu hỏi 1: \n",
    "***Các kĩ năng cần thiết của các công việc trong lĩnh vực khoa học dữ liệu là gì? Top các công việc có lương trung bình cao nhất?*** "
   ]
  },
  {
   "cell_type": "markdown",
   "id": "65996cff",
   "metadata": {},
   "source": [
    "### Phân tích dữ liệu\n",
    "#### Các kĩ năng cần thiết của các công việc trong lĩnh vực khoa học dữ liệu là gì?\n",
    "Trong dữ liệu trên, có các cột skill như Python, sql, excel, mongo,... khi nào công việc yêu cầu thì giá trị sẽ là 1, ngược lại sẽ là 0. Do đó để trả lời câu hỏi ta cần các bước sau:\n",
    "- Bước 1: Gom nhóm các đối tượng theo job title sim, rồi đếm tổng các giá trị của cột skill ứng với từng đối tượng.\n",
    "- Bước 2: Chuẩn hóa các hàng theo giá trị lớn nhất trong mỗi hàng. Từ kết quả này vẽ biểu đồ heatmap để thể hiện thông tin."
   ]
  },
  {
   "cell_type": "markdown",
   "id": "f8ce4499",
   "metadata": {},
   "source": [
    "Code bước 1"
   ]
  },
  {
   "cell_type": "code",
   "execution_count": 13,
   "id": "857ce18f",
   "metadata": {
    "scrolled": false
   },
   "outputs": [
    {
     "data": {
      "text/html": [
       "<div>\n",
       "<style scoped>\n",
       "    .dataframe tbody tr th:only-of-type {\n",
       "        vertical-align: middle;\n",
       "    }\n",
       "\n",
       "    .dataframe tbody tr th {\n",
       "        vertical-align: top;\n",
       "    }\n",
       "\n",
       "    .dataframe thead th {\n",
       "        text-align: right;\n",
       "    }\n",
       "</style>\n",
       "<table border=\"1\" class=\"dataframe\">\n",
       "  <thead>\n",
       "    <tr style=\"text-align: right;\">\n",
       "      <th></th>\n",
       "      <th>aws</th>\n",
       "      <th>Python</th>\n",
       "      <th>keras</th>\n",
       "      <th>spark</th>\n",
       "      <th>excel</th>\n",
       "      <th>tensor</th>\n",
       "      <th>pytorch</th>\n",
       "      <th>scikit</th>\n",
       "      <th>bi</th>\n",
       "      <th>sas</th>\n",
       "      <th>flink</th>\n",
       "      <th>sql</th>\n",
       "      <th>tableau</th>\n",
       "      <th>hadoop</th>\n",
       "      <th>mongo</th>\n",
       "      <th>google_an</th>\n",
       "    </tr>\n",
       "    <tr>\n",
       "      <th>job_title_sim</th>\n",
       "      <th></th>\n",
       "      <th></th>\n",
       "      <th></th>\n",
       "      <th></th>\n",
       "      <th></th>\n",
       "      <th></th>\n",
       "      <th></th>\n",
       "      <th></th>\n",
       "      <th></th>\n",
       "      <th></th>\n",
       "      <th></th>\n",
       "      <th></th>\n",
       "      <th></th>\n",
       "      <th></th>\n",
       "      <th></th>\n",
       "      <th></th>\n",
       "    </tr>\n",
       "  </thead>\n",
       "  <tbody>\n",
       "    <tr>\n",
       "      <th>Data scientist project manager</th>\n",
       "      <td>2</td>\n",
       "      <td>3</td>\n",
       "      <td>0</td>\n",
       "      <td>0</td>\n",
       "      <td>6</td>\n",
       "      <td>0</td>\n",
       "      <td>0</td>\n",
       "      <td>0</td>\n",
       "      <td>1</td>\n",
       "      <td>0</td>\n",
       "      <td>0</td>\n",
       "      <td>5</td>\n",
       "      <td>5</td>\n",
       "      <td>0</td>\n",
       "      <td>0</td>\n",
       "      <td>0</td>\n",
       "    </tr>\n",
       "    <tr>\n",
       "      <th>analyst</th>\n",
       "      <td>8</td>\n",
       "      <td>22</td>\n",
       "      <td>0</td>\n",
       "      <td>4</td>\n",
       "      <td>54</td>\n",
       "      <td>0</td>\n",
       "      <td>0</td>\n",
       "      <td>0</td>\n",
       "      <td>13</td>\n",
       "      <td>5</td>\n",
       "      <td>0</td>\n",
       "      <td>53</td>\n",
       "      <td>27</td>\n",
       "      <td>2</td>\n",
       "      <td>2</td>\n",
       "      <td>5</td>\n",
       "    </tr>\n",
       "    <tr>\n",
       "      <th>data analitics</th>\n",
       "      <td>0</td>\n",
       "      <td>4</td>\n",
       "      <td>0</td>\n",
       "      <td>0</td>\n",
       "      <td>2</td>\n",
       "      <td>0</td>\n",
       "      <td>0</td>\n",
       "      <td>0</td>\n",
       "      <td>1</td>\n",
       "      <td>1</td>\n",
       "      <td>0</td>\n",
       "      <td>3</td>\n",
       "      <td>3</td>\n",
       "      <td>0</td>\n",
       "      <td>0</td>\n",
       "      <td>0</td>\n",
       "    </tr>\n",
       "    <tr>\n",
       "      <th>data engineer</th>\n",
       "      <td>35</td>\n",
       "      <td>48</td>\n",
       "      <td>0</td>\n",
       "      <td>42</td>\n",
       "      <td>35</td>\n",
       "      <td>1</td>\n",
       "      <td>0</td>\n",
       "      <td>0</td>\n",
       "      <td>3</td>\n",
       "      <td>1</td>\n",
       "      <td>5</td>\n",
       "      <td>56</td>\n",
       "      <td>9</td>\n",
       "      <td>32</td>\n",
       "      <td>8</td>\n",
       "      <td>0</td>\n",
       "    </tr>\n",
       "    <tr>\n",
       "      <th>data modeler</th>\n",
       "      <td>2</td>\n",
       "      <td>1</td>\n",
       "      <td>0</td>\n",
       "      <td>1</td>\n",
       "      <td>3</td>\n",
       "      <td>0</td>\n",
       "      <td>0</td>\n",
       "      <td>0</td>\n",
       "      <td>1</td>\n",
       "      <td>0</td>\n",
       "      <td>0</td>\n",
       "      <td>3</td>\n",
       "      <td>0</td>\n",
       "      <td>1</td>\n",
       "      <td>0</td>\n",
       "      <td>0</td>\n",
       "    </tr>\n",
       "    <tr>\n",
       "      <th>data scientist</th>\n",
       "      <td>49</td>\n",
       "      <td>163</td>\n",
       "      <td>19</td>\n",
       "      <td>59</td>\n",
       "      <td>105</td>\n",
       "      <td>41</td>\n",
       "      <td>20</td>\n",
       "      <td>33</td>\n",
       "      <td>19</td>\n",
       "      <td>34</td>\n",
       "      <td>3</td>\n",
       "      <td>121</td>\n",
       "      <td>52</td>\n",
       "      <td>41</td>\n",
       "      <td>13</td>\n",
       "      <td>3</td>\n",
       "    </tr>\n",
       "    <tr>\n",
       "      <th>director</th>\n",
       "      <td>1</td>\n",
       "      <td>0</td>\n",
       "      <td>0</td>\n",
       "      <td>0</td>\n",
       "      <td>1</td>\n",
       "      <td>0</td>\n",
       "      <td>0</td>\n",
       "      <td>0</td>\n",
       "      <td>0</td>\n",
       "      <td>0</td>\n",
       "      <td>0</td>\n",
       "      <td>0</td>\n",
       "      <td>0</td>\n",
       "      <td>0</td>\n",
       "      <td>0</td>\n",
       "      <td>0</td>\n",
       "    </tr>\n",
       "    <tr>\n",
       "      <th>machine learning engineer</th>\n",
       "      <td>4</td>\n",
       "      <td>10</td>\n",
       "      <td>0</td>\n",
       "      <td>2</td>\n",
       "      <td>4</td>\n",
       "      <td>5</td>\n",
       "      <td>3</td>\n",
       "      <td>4</td>\n",
       "      <td>0</td>\n",
       "      <td>0</td>\n",
       "      <td>0</td>\n",
       "      <td>7</td>\n",
       "      <td>0</td>\n",
       "      <td>2</td>\n",
       "      <td>0</td>\n",
       "      <td>0</td>\n",
       "    </tr>\n",
       "    <tr>\n",
       "      <th>other scientist</th>\n",
       "      <td>8</td>\n",
       "      <td>6</td>\n",
       "      <td>0</td>\n",
       "      <td>0</td>\n",
       "      <td>35</td>\n",
       "      <td>1</td>\n",
       "      <td>1</td>\n",
       "      <td>0</td>\n",
       "      <td>0</td>\n",
       "      <td>1</td>\n",
       "      <td>0</td>\n",
       "      <td>2</td>\n",
       "      <td>0</td>\n",
       "      <td>0</td>\n",
       "      <td>0</td>\n",
       "      <td>0</td>\n",
       "    </tr>\n",
       "  </tbody>\n",
       "</table>\n",
       "</div>"
      ],
      "text/plain": [
       "                                aws  Python  keras  spark  excel  tensor  \\\n",
       "job_title_sim                                                              \n",
       "Data scientist project manager    2       3      0      0      6       0   \n",
       "analyst                           8      22      0      4     54       0   \n",
       "data analitics                    0       4      0      0      2       0   \n",
       "data engineer                    35      48      0     42     35       1   \n",
       "data modeler                      2       1      0      1      3       0   \n",
       "data scientist                   49     163     19     59    105      41   \n",
       "director                          1       0      0      0      1       0   \n",
       "machine learning engineer         4      10      0      2      4       5   \n",
       "other scientist                   8       6      0      0     35       1   \n",
       "\n",
       "                                pytorch  scikit  bi  sas  flink  sql  tableau  \\\n",
       "job_title_sim                                                                   \n",
       "Data scientist project manager        0       0   1    0      0    5        5   \n",
       "analyst                               0       0  13    5      0   53       27   \n",
       "data analitics                        0       0   1    1      0    3        3   \n",
       "data engineer                         0       0   3    1      5   56        9   \n",
       "data modeler                          0       0   1    0      0    3        0   \n",
       "data scientist                       20      33  19   34      3  121       52   \n",
       "director                              0       0   0    0      0    0        0   \n",
       "machine learning engineer             3       4   0    0      0    7        0   \n",
       "other scientist                       1       0   0    1      0    2        0   \n",
       "\n",
       "                                hadoop  mongo  google_an  \n",
       "job_title_sim                                             \n",
       "Data scientist project manager       0      0          0  \n",
       "analyst                              2      2          5  \n",
       "data analitics                       0      0          0  \n",
       "data engineer                       32      8          0  \n",
       "data modeler                         1      0          0  \n",
       "data scientist                      41     13          3  \n",
       "director                             0      0          0  \n",
       "machine learning engineer            2      0          0  \n",
       "other scientist                      0      0          0  "
      ]
     },
     "execution_count": 13,
     "metadata": {},
     "output_type": "execute_result"
    }
   ],
   "source": [
    "#Lấy các cột có kiểu dữ liệu là int và float.\n",
    "numerical_name = ds_salary_df.select_dtypes(include={'int64','float64'}).columns.tolist()\n",
    "\n",
    "#Skill names sẽ là tên các cột ở trên ngoại trừ các cột numerical_df đã xác định ở trước\n",
    "skill_names = list(set(numerical_name) - set(numerical_df.columns.tolist()))\n",
    "\n",
    "#gom nhóm theo job title, rồi tính tổng các cột trong skill name\n",
    "job_skills = ds_salary_df.groupby('job_title_sim')[skill_names].sum()\n",
    "job_skills"
   ]
  },
  {
   "cell_type": "markdown",
   "id": "1f574358",
   "metadata": {},
   "source": [
    "Code bước 2"
   ]
  },
  {
   "cell_type": "code",
   "execution_count": 14,
   "id": "7b298d1f",
   "metadata": {
    "scrolled": false
   },
   "outputs": [
    {
     "data": {
      "image/png": "[encoded data removed]",
      "text/plain": [
       "<Figure size 1080x1080 with 1 Axes>"
      ]
     },
     "metadata": {
      "needs_background": "light"
     },
     "output_type": "display_data"
    }
   ],
   "source": [
    "#Chuẩn hóa các giá trị theo max của từng hàng\n",
    "job_skills_normalize = job_skills.div(job_skills.max(axis=1), axis=0)\n",
    "\n",
    "#Vẽ biểu đồ heatmap để thể hiện\n",
    "plt.figure(figsize=(15, 15))\n",
    "sns.heatmap(job_skills_normalize, vmin=0, vmax=1, square=True, annot=True, cbar=False, cmap='Blues')\n",
    "plt.title('Kĩ năng cần thiết ứng với các công việc trong ngành khoa học dữ liệu',size=16)\n",
    "plt.xlabel('skills');"
   ]
  },
  {
   "cell_type": "markdown",
   "id": "8baddde9",
   "metadata": {},
   "source": [
    "- Theo như quan sát sơ bộ thì các công việc trong lĩnh vực khoa học dữ liệu đa số đều cần các kĩ năng như **python, excel, sql** (với tỉ lệ cao nhất = 1 rất nhiều). Tuy nhiên ta cũng có thể dễ dàng theo dõi từng công việc như sau:\n",
    "    - **Data analytst** thì cần nhiều nhất là python, sql, tableau,...\n",
    "    - **Data engineer** thì lại cần sql, python, spark, aws, excel,hadoop\n",
    "    - **Data modeler** cần excel, sql, aws,...\n",
    "    - **Data scientist** cần nhiều nhất là python, sql, exel, spark,...\n",
    "    -...\n",
    "    \n",
    "Ta thấy có rất nhiều skill về lĩnh vực khoa học dữ liệu vì vậy ta không thể nào học hết tất cả được. Do đó tùy vào công việc mình muốn theo đuổi mà mình nên học chuyên sâu tìm hiểu một số skill chính để đáp ứng yêu cầu công việc tốt nhất."
   ]
  },
  {
   "cell_type": "markdown",
   "id": "d0f6330f",
   "metadata": {},
   "source": [
    "#### Bên cạnh việc tìm hiểu các kĩ năng, người học cũng quan tâm rất nhiều về mức lương, vậy top các công việc có mức lương cao nhất trong lĩnh vực khoa học dữ liệu là gì?"
   ]
  },
  {
   "cell_type": "markdown",
   "id": "88962333",
   "metadata": {},
   "source": [
    "Để trả lời câu hỏi, ta thực hiện các bước sau:\n",
    "- Bước 1: Gom nhóm các đối tượng theo công việc(job title sim) rồi tính trung bình về mức lương.\n",
    "- Bước 2: Vẽ biểu đồ barh thể hiện."
   ]
  },
  {
   "cell_type": "markdown",
   "id": "0c632006",
   "metadata": {},
   "source": [
    "Code bước 1"
   ]
  },
  {
   "cell_type": "code",
   "execution_count": 15,
   "id": "f9d5e9ae",
   "metadata": {
    "scrolled": true
   },
   "outputs": [
    {
     "data": {
      "text/plain": [
       "job_title_sim\n",
       "director                          137.666667\n",
       "machine learning engineer         128.045455\n",
       "data scientist                    116.336493\n",
       "data engineer                     102.866667\n",
       "other scientist                    90.905405\n",
       "data modeler                       84.000000\n",
       "Data scientist project manager     74.562500\n",
       "data analitics                     72.500000\n",
       "analyst                            68.428571\n",
       "Name: Avg Salary(K), dtype: float64"
      ]
     },
     "execution_count": 15,
     "metadata": {},
     "output_type": "execute_result"
    }
   ],
   "source": [
    "#Gom nhóm công việc rồi tính lương trung bình, sau đó sort theo giá trị giảm dần.\n",
    "job_salary_avg = ds_salary_df.groupby('job_title_sim')['Avg Salary(K)'].mean()\n",
    "job_salary_avg = job_salary_avg.sort_values(ascending = False)\n",
    "job_salary_avg"
   ]
  },
  {
   "cell_type": "markdown",
   "id": "37e86d18",
   "metadata": {},
   "source": [
    "Code bước 2"
   ]
  },
  {
   "cell_type": "code",
   "execution_count": 16,
   "id": "6a46ba44",
   "metadata": {
    "scrolled": false
   },
   "outputs": [
    {
     "data": {
      "image/png": "[encoded data removed]",
      "text/plain": [
       "<Figure size 1080x504 with 1 Axes>"
      ]
     },
     "metadata": {
      "needs_background": "light"
     },
     "output_type": "display_data"
    }
   ],
   "source": [
    "#Vẽ biểu đồ barh để quan sát, điền thêm các giá trị của từng cột.\n",
    "plt.figure(figsize=(15, 7))\n",
    "ax = job_salary_avg.plot.barh()\n",
    "list_values = list(job_salary_avg.values.round(2))\n",
    "for i, v in enumerate(list_values):\n",
    "    ax.text(v, i - 0.1, str(v), color='blue', fontweight='bold')\n",
    "plt.title('Trung bình mức lương ứng với các công việc', size=16)\n",
    "plt.xlabel('Avg Salary');"
   ]
  },
  {
   "cell_type": "markdown",
   "id": "e967ef38",
   "metadata": {},
   "source": [
    "Không có gì bất ngờ khi director là công việc có lương trung bình cao nhất (137,67 K$). Tiếp theo là các công việc như machine learning engineer(128,05 K), data scientist(116,34 K), ... hoặc công việc có mức lương trung bình thấp nhất là analyst, data analyst.\n",
    "\n",
    "***Qua các phân tích ở trên ta biết được mức lương trung bình của các công việc cũng như các kĩ năng yêu cầu của các công việc này. Từ đó dễ dàng lựa chọn công việc cũng như các kĩ năng mà công việc yêu cầu để có thể tập trung chuyên sâu.***"
   ]
  },
  {
   "cell_type": "markdown",
   "id": "fee4f79f",
   "metadata": {},
   "source": [
    "## Câu hỏi 2:"
   ]
  },
  {
   "cell_type": "markdown",
   "id": "6c4125e6",
   "metadata": {},
   "source": [
    "***Những ngành công nghiệp nào tuyển nhiều vị trí liên quan đến khoa học dữ liệu nhất? Liệu mức lương ở các ngành này có khác nhau và đâu là top các ngành có mức lương cao nhất?***"
   ]
  },
  {
   "cell_type": "markdown",
   "id": "18670931",
   "metadata": {},
   "source": [
    "### Tiền xử lý"
   ]
  },
  {
   "cell_type": "markdown",
   "id": "d900f027",
   "metadata": {},
   "source": [
    "- Tạo ra một dataframe mới từ các cột Lower Salary, Upper Salary, Avg Salary(K), Industry để phục vụ cho việc phân tích và đưa ra câu trả lời."
   ]
  },
  {
   "cell_type": "code",
   "execution_count": 17,
   "id": "3987de2c",
   "metadata": {},
   "outputs": [
    {
     "data": {
      "text/html": [
       "<div>\n",
       "<style scoped>\n",
       "    .dataframe tbody tr th:only-of-type {\n",
       "        vertical-align: middle;\n",
       "    }\n",
       "\n",
       "    .dataframe tbody tr th {\n",
       "        vertical-align: top;\n",
       "    }\n",
       "\n",
       "    .dataframe thead th {\n",
       "        text-align: right;\n",
       "    }\n",
       "</style>\n",
       "<table border=\"1\" class=\"dataframe\">\n",
       "  <thead>\n",
       "    <tr style=\"text-align: right;\">\n",
       "      <th></th>\n",
       "      <th>Lower Salary</th>\n",
       "      <th>Upper Salary</th>\n",
       "      <th>Avg Salary(K)</th>\n",
       "      <th>Industry</th>\n",
       "    </tr>\n",
       "  </thead>\n",
       "  <tbody>\n",
       "    <tr>\n",
       "      <th>0</th>\n",
       "      <td>53</td>\n",
       "      <td>91</td>\n",
       "      <td>72.0</td>\n",
       "      <td>Aerospace &amp; Defense</td>\n",
       "    </tr>\n",
       "    <tr>\n",
       "      <th>1</th>\n",
       "      <td>63</td>\n",
       "      <td>112</td>\n",
       "      <td>87.5</td>\n",
       "      <td>Health Care Services &amp; Hospitals</td>\n",
       "    </tr>\n",
       "    <tr>\n",
       "      <th>2</th>\n",
       "      <td>80</td>\n",
       "      <td>90</td>\n",
       "      <td>85.0</td>\n",
       "      <td>Security Services</td>\n",
       "    </tr>\n",
       "  </tbody>\n",
       "</table>\n",
       "</div>"
      ],
      "text/plain": [
       "   Lower Salary  Upper Salary  Avg Salary(K)                          Industry\n",
       "0            53            91           72.0               Aerospace & Defense\n",
       "1            63           112           87.5  Health Care Services & Hospitals\n",
       "2            80            90           85.0                 Security Services"
      ]
     },
     "execution_count": 17,
     "metadata": {},
     "output_type": "execute_result"
    }
   ],
   "source": [
    "sub_df = ds_salary_df[[\"Lower Salary\", \"Upper Salary\", \"Avg Salary(K)\", \"Industry\"]]\n",
    "sub_df.head(3)"
   ]
  },
  {
   "cell_type": "markdown",
   "id": "d1e84e15",
   "metadata": {},
   "source": [
    "### Phân tích dữ liệu"
   ]
  },
  {
   "cell_type": "markdown",
   "id": "a66e3e53",
   "metadata": {},
   "source": [
    "#### Top 5 ngành tuyển dụng nhiều vị trí liên quan đến khoa học dữ liệu nhất và biểu đồ tỉ lệ giữa chúng."
   ]
  },
  {
   "cell_type": "markdown",
   "id": "f51f46b2",
   "metadata": {},
   "source": [
    "Các bước thực hiện:\n",
    "\n",
    "- Bước 1: Tính số lượng việc làm ở mỗi ngành và sắp xếp theo thứ tự giảm dần lưu vào biến num_jobs_per_industry, sau đó lấy ra top 5 ngành có số lượng việc làm nhiều nhất lưu vào biến top5_ratio.\n",
    "- Bước 2: Tính tỉ lệ số công việc ở mỗi ngành bằng cách chia số việc làm ở mỗi ngành trong top 5 cho tổng số việc làm của cả 5 ngành và lưu vào biến top5_ratio. Sau đó vẽ biểu đồ tròn thể hiện tỉ lệ giữa chúng."
   ]
  },
  {
   "cell_type": "markdown",
   "id": "2995f815",
   "metadata": {},
   "source": [
    "Code bước 1"
   ]
  },
  {
   "cell_type": "code",
   "execution_count": 18,
   "id": "30d06c6c",
   "metadata": {},
   "outputs": [],
   "source": [
    "num_jobs_per_industry = sub_df[\"Industry\"].value_counts()\n",
    "\n",
    "#lấy ra top 5 ngành tuyển dụng nhiều vị trí liên quan đến khdl nhất\n",
    "top5 = num_jobs_per_industry[:5]"
   ]
  },
  {
   "cell_type": "markdown",
   "id": "9a9d5d7b",
   "metadata": {},
   "source": [
    "Code bước 2"
   ]
  },
  {
   "cell_type": "code",
   "execution_count": 19,
   "id": "d9bc9730",
   "metadata": {},
   "outputs": [
    {
     "data": {
      "image/png": "[encoded data removed]",
      "text/plain": [
       "<Figure size 432x288 with 1 Axes>"
      ]
     },
     "metadata": {},
     "output_type": "display_data"
    }
   ],
   "source": [
    "#tính tỉ lệ số công việc ở mỗi ngành\n",
    "top5_ratio = top5 / top5.sum() * 100\n",
    "\n",
    "#vẽ biểu đồ tròn để minh họa\n",
    "my_explode=(0,0.1,0.1,0.1,0.1)\n",
    "plt.pie(top5_ratio, autopct='%1.2f%%',explode=my_explode, shadow=True,startangle=300)\n",
    "plt.title('\\n Top 5 ngành tuyển dụng nhiều vị trí liên quan đến khoa học dữ liệu nhất \\n', size=16, color='black')\n",
    "plt.legend(labels=list(top5_ratio.index), bbox_to_anchor=(1,1))\n",
    "plt.show()"
   ]
  },
  {
   "cell_type": "markdown",
   "id": "a4ae9abb",
   "metadata": {},
   "source": [
    "Kết quả khá bất ngờ khi một ngành không thuộc lĩnh vực IT là Biotech & Pharmaceuticals (công nghệ sinh học & dược phẩm) chiếm tỉ trọng lớn nhất và lớn hơn nhiều so với các ngành còn lại. Hai ngành xếp thứ 2 là Insurance Carriers (Bảo hiểm) và Computer Hardware & Software (Phần mềm và phần cứng máy tính). Tiếp theo, xếp hạng 3 là ngành IT services (dịch vụ công nghệ thông tin) và xếp thứ 4 là ngành Enterprise Software & Network Solutions (phần mềm doanh nghiệp và giải pháp mạng). Ta cũng thấy rằng các ngành xếp từ thứ 2 trở đi không chênh lệch nhau là bao."
   ]
  },
  {
   "cell_type": "markdown",
   "id": "5f5f2f17",
   "metadata": {},
   "source": [
    "#### Top 5 ngành có mức lương khoa học dữ liệu cao nhất"
   ]
  },
  {
   "cell_type": "markdown",
   "id": "dc705d0e",
   "metadata": {},
   "source": [
    "Các bước thực hiện:\n",
    "\n",
    "- Bước 1: Tính mức lương trung bình ở mỗi nhóm ngành bằng cách tính trung bình của cột Avg Salary(K) và lưu vào biến mean_vals.\n",
    "- Bước 2: Khảo sát sự chênh lệch mức lương giữa top 5 ngành tuyển dụng hiều vị trí liên quan đến KHDL nhất và mình họa bằng biểu đồ cột nhóm với ba giá trị mức lương tối thiểu (Lower Salary), mức lương trung bình (Avg Salary), mức lương tối đa (Upper Salary).\n",
    "- Bước 3: Tìm top 5 ngành có mức lương cao nhất (so sánh theo mức lương trung bình) trong số tất cả các ngành có mặt trong bộ dữ liệu và vẽ biểu đồ cột nhóm để minh họa như bước 2."
   ]
  },
  {
   "cell_type": "markdown",
   "id": "28f26b4b",
   "metadata": {},
   "source": [
    "Code bước 1:"
   ]
  },
  {
   "cell_type": "code",
   "execution_count": 20,
   "id": "276d6615",
   "metadata": {},
   "outputs": [],
   "source": [
    "#với mỗi ngành, tính giá trị trung bình (mean) cho mức lương tối thiểu, mức lương tối đa và mức lương trung bình\n",
    "mean_vals = sub_df[[\"Industry\", \"Lower Salary\", \"Avg Salary(K)\", \"Upper Salary\"]].groupby(\"Industry\").mean()"
   ]
  },
  {
   "cell_type": "markdown",
   "id": "a9acf904",
   "metadata": {},
   "source": [
    "Code bước 2:"
   ]
  },
  {
   "cell_type": "code",
   "execution_count": 21,
   "id": "9d56a474",
   "metadata": {},
   "outputs": [
    {
     "data": {
      "text/plain": [
       "<matplotlib.legend.Legend at 0x7fcd88b08580>"
      ]
     },
     "execution_count": 21,
     "metadata": {},
     "output_type": "execute_result"
    },
    {
     "data": {
      "image/png": "[encoded data removed]",
      "text/plain": [
       "<Figure size 432x288 with 1 Axes>"
      ]
     },
     "metadata": {
      "needs_background": "light"
     },
     "output_type": "display_data"
    }
   ],
   "source": [
    "#Lấy ra các giá trị tương ứng với 5 công ty trong top5\n",
    "top5_with_salary = mean_vals.loc[list(top5.index), :]\n",
    "\n",
    "axes = top5_with_salary.plot.bar()\n",
    "axes.legend(loc=(1,0.78)) "
   ]
  },
  {
   "cell_type": "markdown",
   "id": "f8d3756e",
   "metadata": {},
   "source": [
    "Kết quả cho thấy ngành Computer Hardware & Software có mức lương cao nhất (xét trên cả ba giá trị tối thiểu, trung bình và tối đa) trong nhóm top 5 ngành ở trên. Ngành Biotech & Pharmaceuticals cũng có mức lương khá cao, chỉ kém ngành Computer Hardware & Software một ít. Ta cũng thấy rằng mặc dù nằm trong top 3 ngành có việc làm liên quan đến KHDL nhiều nhất nhưng ngành Insurance Carriers lại có mức lương kém hơn nhiều so với 2 ngành còn lại trong top 3, trong khi ngành Enterprise Software & Network Solution lại có mức lương khá cao (gần bằng mức lương của 2 ngành có mức lương cao nhất)."
   ]
  },
  {
   "cell_type": "markdown",
   "id": "324bb23e",
   "metadata": {},
   "source": [
    "Code bước 3:"
   ]
  },
  {
   "cell_type": "code",
   "execution_count": 22,
   "id": "8b489e9d",
   "metadata": {},
   "outputs": [
    {
     "data": {
      "text/plain": [
       "<matplotlib.legend.Legend at 0x7fcd88af93a0>"
      ]
     },
     "execution_count": 22,
     "metadata": {},
     "output_type": "execute_result"
    },
    {
     "data": {
      "image/png": "[encoded data removed]",
      "text/plain": [
       "<Figure size 432x288 with 1 Axes>"
      ]
     },
     "metadata": {
      "needs_background": "light"
     },
     "output_type": "display_data"
    }
   ],
   "source": [
    "#sắp xếp lại theo mức lương trung bình giảm dần\n",
    "mean_vals = mean_vals.sort_values(by=\"Avg Salary(K)\", ascending=False)\n",
    "\n",
    "#Lấy ra 5 công ty có mức lương trung bình cao nhất\n",
    "top5_general = mean_vals[:5]\n",
    "\n",
    "axes = top5_general.plot.bar()\n",
    "axes.legend(loc=(1,0.78))"
   ]
  },
  {
   "cell_type": "markdown",
   "id": "9a5f126c",
   "metadata": {},
   "source": [
    "Kết quả khá bất ngờ khi không có ngành nào trong số top 5 ngành tuyển dụng nhiều nhất nằm trong top 5 ngành có mức lương cao nhất. Một câu hỏi được đặt ra là số lượng việc làm KHDL ở 5 ngành có mức lương cao nhất này là bao nhiêu."
   ]
  },
  {
   "cell_type": "code",
   "execution_count": 23,
   "id": "fcf7dff4",
   "metadata": {},
   "outputs": [
    {
     "data": {
      "image/png": "[encoded data removed]",
      "text/plain": [
       "<Figure size 432x288 with 1 Axes>"
      ]
     },
     "metadata": {
      "needs_background": "light"
     },
     "output_type": "display_data"
    }
   ],
   "source": [
    "num_jobs_per_industry = sub_df[\"Industry\"].value_counts()\n",
    "\n",
    "#lấy ra số việc làm ở 5 ngành có mức lương cao nhất\n",
    "num_jobs = num_jobs_per_industry.loc[list(top5_general.index)]\n",
    "\n",
    "#thêm vào dữ liệu của 5 ngành có số việc làm cao nhất để tiện quan sát\n",
    "num_jobs = num_jobs.append(top5)\n",
    "\n",
    "axes = num_jobs.plot.bar()"
   ]
  },
  {
   "cell_type": "markdown",
   "id": "a96234e8",
   "metadata": {},
   "source": [
    "Ta thấy rằng số việc làm KHDL ở 5 ngành này là ít hơn rất nhiều so với các ngành trong top 5 ngành tuyển dụng KHDL nhiều nhất. Do đó, người tìm việc cần hết sức cẩn trọng và cân nhắc trước khi lựa chọn lĩnh vực mà mình muốn làm việc."
   ]
  },
  {
   "cell_type": "markdown",
   "id": "c58b142d",
   "metadata": {},
   "source": [
    "## Câu hỏi 3:"
   ]
  },
  {
   "cell_type": "markdown",
   "id": "0d4002ca",
   "metadata": {},
   "source": [
    "***Phân bố việc làm khoa học dữ liệu ở mỗi bang như thế nào? Đâu là top các bang và thành phố có nhiều việc làm liên quan đến khoa học dữ liệu nhất?***"
   ]
  },
  {
   "cell_type": "markdown",
   "id": "3b53a0c4",
   "metadata": {},
   "source": [
    "### Tiền xử lý\n",
    "Các bước thực hiện:\n",
    "- Lấy ra cột Location là cột chứa dữ liệu cần để trả lời câu hỏi. Tuy nhiên, cột Location là tổ hợp của 2 thông tin gồm tên thành phố (hoặc thị trấn, ta xem như là tên thành phố) và tên bang. Do đó, ta cần tách cột Location ra thành 2 cột tên thành phố (City) và tên bang (State)."
   ]
  },
  {
   "cell_type": "code",
   "execution_count": 24,
   "id": "ce162fc7",
   "metadata": {},
   "outputs": [
    {
     "data": {
      "text/html": [
       "<div>\n",
       "<style scoped>\n",
       "    .dataframe tbody tr th:only-of-type {\n",
       "        vertical-align: middle;\n",
       "    }\n",
       "\n",
       "    .dataframe tbody tr th {\n",
       "        vertical-align: top;\n",
       "    }\n",
       "\n",
       "    .dataframe thead th {\n",
       "        text-align: right;\n",
       "    }\n",
       "</style>\n",
       "<table border=\"1\" class=\"dataframe\">\n",
       "  <thead>\n",
       "    <tr style=\"text-align: right;\">\n",
       "      <th></th>\n",
       "      <th>0</th>\n",
       "      <th>1</th>\n",
       "      <th>2</th>\n",
       "    </tr>\n",
       "  </thead>\n",
       "  <tbody>\n",
       "    <tr>\n",
       "      <th>0</th>\n",
       "      <td>Albuquerque</td>\n",
       "      <td>NM</td>\n",
       "      <td>None</td>\n",
       "    </tr>\n",
       "    <tr>\n",
       "      <th>1</th>\n",
       "      <td>Linthicum</td>\n",
       "      <td>MD</td>\n",
       "      <td>None</td>\n",
       "    </tr>\n",
       "    <tr>\n",
       "      <th>2</th>\n",
       "      <td>Clearwater</td>\n",
       "      <td>FL</td>\n",
       "      <td>None</td>\n",
       "    </tr>\n",
       "  </tbody>\n",
       "</table>\n",
       "</div>"
      ],
      "text/plain": [
       "             0   1     2\n",
       "0  Albuquerque  NM  None\n",
       "1    Linthicum  MD  None\n",
       "2   Clearwater  FL  None"
      ]
     },
     "execution_count": 24,
     "metadata": {},
     "output_type": "execute_result"
    }
   ],
   "source": [
    "#lấy ra cột Location và thực hiện tách cột\n",
    "sub_df = ds_salary_df[\"Location\"]\n",
    "sub_df = sub_df.str.split(pat=\", \", expand=True)\n",
    "sub_df.head(3)"
   ]
  },
  {
   "cell_type": "markdown",
   "id": "48facba3",
   "metadata": {},
   "source": [
    "Cột Location chỉ chứa 2 thông tin là tên thành phố (hoặc tên thị trấn) và tên bang, nhưng kết quả số cột sau khi tách ra từ cột Location lại là 3. Để tìm hiểu điều này, ta in ra tất cả các giá trị khác nhau trong cột thứ 3 này."
   ]
  },
  {
   "cell_type": "code",
   "execution_count": 25,
   "id": "522d742d",
   "metadata": {},
   "outputs": [
    {
     "data": {
      "text/plain": [
       "array([None, 'CA'], dtype=object)"
      ]
     },
     "execution_count": 25,
     "metadata": {},
     "output_type": "execute_result"
    }
   ],
   "source": [
    "sub_df[2].unique()"
   ]
  },
  {
   "cell_type": "markdown",
   "id": "1ec990a8",
   "metadata": {},
   "source": [
    "Kết quả cho thấy ngoài các giá trị None, cột này có xuất hiện giá trị \"CA\". Do đó, ta sẽ tìm tất cả các dòng có giá trị \"CA\" ở cột thứ 3 này."
   ]
  },
  {
   "cell_type": "code",
   "execution_count": 26,
   "id": "54789493",
   "metadata": {},
   "outputs": [
    {
     "data": {
      "text/html": [
       "<div>\n",
       "<style scoped>\n",
       "    .dataframe tbody tr th:only-of-type {\n",
       "        vertical-align: middle;\n",
       "    }\n",
       "\n",
       "    .dataframe tbody tr th {\n",
       "        vertical-align: top;\n",
       "    }\n",
       "\n",
       "    .dataframe thead th {\n",
       "        text-align: right;\n",
       "    }\n",
       "</style>\n",
       "<table border=\"1\" class=\"dataframe\">\n",
       "  <thead>\n",
       "    <tr style=\"text-align: right;\">\n",
       "      <th></th>\n",
       "      <th>0</th>\n",
       "      <th>1</th>\n",
       "      <th>2</th>\n",
       "    </tr>\n",
       "  </thead>\n",
       "  <tbody>\n",
       "    <tr>\n",
       "      <th>126</th>\n",
       "      <td>Santa Fe Springs</td>\n",
       "      <td>Los Angeles</td>\n",
       "      <td>CA</td>\n",
       "    </tr>\n",
       "  </tbody>\n",
       "</table>\n",
       "</div>"
      ],
      "text/plain": [
       "                    0            1   2\n",
       "126  Santa Fe Springs  Los Angeles  CA"
      ]
     },
     "execution_count": 26,
     "metadata": {},
     "output_type": "execute_result"
    }
   ],
   "source": [
    "sub_df[sub_df[2]==\"CA\"]"
   ]
  },
  {
   "cell_type": "markdown",
   "id": "3e3ac91d",
   "metadata": {},
   "source": [
    "Nguyên nhân do Santa Fe Springs là một thành phố nhỏ trong một thành phố lớn hơn là Los Angeles. Để xử lý ngoại lệ này, ta lựa chọn lấy tên thành phố là Los Angeles (vì các dòng dữ liệu khác cũng để tên thành phố là Los Angeles thay vì tên các thành phố nhỏ)."
   ]
  },
  {
   "cell_type": "code",
   "execution_count": 27,
   "id": "15cb1d30",
   "metadata": {},
   "outputs": [],
   "source": [
    "#xóa cột thứ 3 chứa toàn giá trị None\n",
    "sub_df = sub_df.drop([2], axis=1)\n",
    "\n",
    "#đổi tên các cột thành \"City\" và \"State\"\n",
    "sub_df.rename(columns={0: \"City\", 1: \"State\"}, inplace=True)\n",
    "\n",
    "#đổi giá trị City và State ở dòng 126 thành Los Angeles và CA\n",
    "sub_df.iloc[126] = [\"Los Angeles\", \"CA\"]"
   ]
  },
  {
   "cell_type": "markdown",
   "id": "cea36f7d",
   "metadata": {},
   "source": [
    "### Phân tích dữ liệu"
   ]
  },
  {
   "cell_type": "markdown",
   "id": "1af60d65",
   "metadata": {},
   "source": [
    "#### Các bang nào có số lượng việc làm liên quan đến KHDL cao nhất?"
   ]
  },
  {
   "cell_type": "markdown",
   "id": "84658bce",
   "metadata": {},
   "source": [
    "Để trả lời câu hỏi, ta thực hiện các bước sau:\n",
    "- Bước 1: Đếm số lượng việc làm ở mỗi bang và sắp xếp theo giá trị giảm dần, sau đó lấy ra top 5 bang có số lượng việc làm cao nhất.\n",
    "- Bước 2: Tính tỉ trọng của mỗi bang bằng cách lấy số việc làm ở mỗi bang chia cho tổng số việc làm ở cả 5 bang. Vẽ biểu đồ tròn để minh họa."
   ]
  },
  {
   "cell_type": "markdown",
   "id": "c7c481dd",
   "metadata": {},
   "source": [
    "Code bước 1:"
   ]
  },
  {
   "cell_type": "code",
   "execution_count": 28,
   "id": "c5356293",
   "metadata": {},
   "outputs": [],
   "source": [
    "#lấy ra top5\n",
    "top5_states = sub_df.groupby(\"State\").size().sort_values(ascending=False)[:5]"
   ]
  },
  {
   "cell_type": "markdown",
   "id": "07dbfbc7",
   "metadata": {},
   "source": [
    "Code bước 2:"
   ]
  },
  {
   "cell_type": "code",
   "execution_count": 29,
   "id": "c2755655",
   "metadata": {},
   "outputs": [
    {
     "data": {
      "image/png": "[encoded data removed]",
      "text/plain": [
       "<Figure size 432x288 with 1 Axes>"
      ]
     },
     "metadata": {},
     "output_type": "display_data"
    }
   ],
   "source": [
    "#tính tỉ lệ giữa các bang trong top 5 \n",
    "top5_ratio = top5_states / top5_states.sum() * 100\n",
    "\n",
    "#vẽ biểu đồ tròn để minh họa\n",
    "my_explode=(0.03, 0.1,0.1,0.1,0.1)\n",
    "plt.pie(top5_ratio, autopct='%1.2f%%',explode=my_explode, shadow=True,startangle=300)\n",
    "plt.title('\\n Top 5 bang tuyển dụng nhiều vị trí liên quan đến khoa học dữ liệu nhất \\n', size=12, color='black')\n",
    "plt.legend(labels=list(top5_ratio.index), bbox_to_anchor=(1,1))\n",
    "plt.show()"
   ]
  },
  {
   "cell_type": "markdown",
   "id": "73c21959",
   "metadata": {},
   "source": [
    "Kết quả cho thấy 5 bang tuyển dụng nhiều vị trí liên quan đến KHDL nhất lần lượt là California (CA), Massachusetts (MA), New York (NY), Virginia (VA) và Illinois (IL). Trong đó, 2 bang CA và MA chiếm tỉ trọng lớn hơn hẳn các bang còn lại."
   ]
  },
  {
   "cell_type": "markdown",
   "id": "43a92120",
   "metadata": {},
   "source": [
    "#### Ở mỗi bang, các thành phố nào có nhiều việc làm liên quan đến khoa học dữ liệu nhất?"
   ]
  },
  {
   "cell_type": "markdown",
   "id": "a493ba53",
   "metadata": {},
   "source": [
    "Để trả lời câu hỏi, ta thực hiện các bước sau:\n",
    "- Bước 1: Lấy ra các dòng dữ liệu có tên bang nằm trong top 5 bang có nhiều việc làm nhất và lưu vào biến top5_df.\n",
    "- Bước 2: Tính số lượng việc làm của mỗi thành phố thuộc các bang này, sau đó lọc ra 3 thành phố có nhiều việc làm nhất ở mỗi bang và lưu vào biến top_cities_states.\n",
    "- Bước 3: Vẽ biểu đồ cột minh họa sự chênh lệch số lượng việc làm ở mỗi thành phố."
   ]
  },
  {
   "cell_type": "markdown",
   "id": "625fb11c",
   "metadata": {},
   "source": [
    "Code bước 1:"
   ]
  },
  {
   "cell_type": "code",
   "execution_count": 30,
   "id": "0621f9ec",
   "metadata": {},
   "outputs": [],
   "source": [
    "#lấy ra các dòng có tên bang nằm trong top 5 bang\n",
    "top5_df = sub_df[sub_df[\"State\"].isin(list(top5_states.index))]"
   ]
  },
  {
   "cell_type": "markdown",
   "id": "8107aee9",
   "metadata": {},
   "source": [
    "Code bước 2:"
   ]
  },
  {
   "cell_type": "code",
   "execution_count": 31,
   "id": "8c73ff3d",
   "metadata": {},
   "outputs": [
    {
     "data": {
      "text/html": [
       "<div>\n",
       "<style scoped>\n",
       "    .dataframe tbody tr th:only-of-type {\n",
       "        vertical-align: middle;\n",
       "    }\n",
       "\n",
       "    .dataframe tbody tr th {\n",
       "        vertical-align: top;\n",
       "    }\n",
       "\n",
       "    .dataframe thead th {\n",
       "        text-align: right;\n",
       "    }\n",
       "</style>\n",
       "<table border=\"1\" class=\"dataframe\">\n",
       "  <thead>\n",
       "    <tr style=\"text-align: right;\">\n",
       "      <th></th>\n",
       "      <th>State</th>\n",
       "      <th>City</th>\n",
       "      <th>Counts</th>\n",
       "    </tr>\n",
       "  </thead>\n",
       "  <tbody>\n",
       "    <tr>\n",
       "      <th>0</th>\n",
       "      <td>CA</td>\n",
       "      <td>San Francisco</td>\n",
       "      <td>34</td>\n",
       "    </tr>\n",
       "    <tr>\n",
       "      <th>1</th>\n",
       "      <td>CA</td>\n",
       "      <td>San Jose</td>\n",
       "      <td>8</td>\n",
       "    </tr>\n",
       "    <tr>\n",
       "      <th>2</th>\n",
       "      <td>CA</td>\n",
       "      <td>South San Francisco</td>\n",
       "      <td>5</td>\n",
       "    </tr>\n",
       "    <tr>\n",
       "      <th>3</th>\n",
       "      <td>MA</td>\n",
       "      <td>Cambridge</td>\n",
       "      <td>28</td>\n",
       "    </tr>\n",
       "    <tr>\n",
       "      <th>4</th>\n",
       "      <td>MA</td>\n",
       "      <td>Boston</td>\n",
       "      <td>13</td>\n",
       "    </tr>\n",
       "    <tr>\n",
       "      <th>5</th>\n",
       "      <td>MA</td>\n",
       "      <td>Marlborough</td>\n",
       "      <td>3</td>\n",
       "    </tr>\n",
       "    <tr>\n",
       "      <th>6</th>\n",
       "      <td>MD</td>\n",
       "      <td>Rockville</td>\n",
       "      <td>5</td>\n",
       "    </tr>\n",
       "    <tr>\n",
       "      <th>7</th>\n",
       "      <td>MD</td>\n",
       "      <td>Gaithersburg</td>\n",
       "      <td>4</td>\n",
       "    </tr>\n",
       "    <tr>\n",
       "      <th>8</th>\n",
       "      <td>MD</td>\n",
       "      <td>Baltimore</td>\n",
       "      <td>2</td>\n",
       "    </tr>\n",
       "    <tr>\n",
       "      <th>9</th>\n",
       "      <td>NY</td>\n",
       "      <td>New York</td>\n",
       "      <td>37</td>\n",
       "    </tr>\n",
       "    <tr>\n",
       "      <th>10</th>\n",
       "      <td>NY</td>\n",
       "      <td>Rochester</td>\n",
       "      <td>3</td>\n",
       "    </tr>\n",
       "    <tr>\n",
       "      <th>11</th>\n",
       "      <td>NY</td>\n",
       "      <td>Armonk</td>\n",
       "      <td>2</td>\n",
       "    </tr>\n",
       "    <tr>\n",
       "      <th>12</th>\n",
       "      <td>VA</td>\n",
       "      <td>Herndon</td>\n",
       "      <td>7</td>\n",
       "    </tr>\n",
       "    <tr>\n",
       "      <th>13</th>\n",
       "      <td>VA</td>\n",
       "      <td>Chantilly</td>\n",
       "      <td>4</td>\n",
       "    </tr>\n",
       "    <tr>\n",
       "      <th>14</th>\n",
       "      <td>VA</td>\n",
       "      <td>Arlington</td>\n",
       "      <td>3</td>\n",
       "    </tr>\n",
       "  </tbody>\n",
       "</table>\n",
       "</div>"
      ],
      "text/plain": [
       "   State                 City  Counts\n",
       "0     CA        San Francisco      34\n",
       "1     CA             San Jose       8\n",
       "2     CA  South San Francisco       5\n",
       "3     MA            Cambridge      28\n",
       "4     MA               Boston      13\n",
       "5     MA          Marlborough       3\n",
       "6     MD            Rockville       5\n",
       "7     MD         Gaithersburg       4\n",
       "8     MD            Baltimore       2\n",
       "9     NY             New York      37\n",
       "10    NY            Rochester       3\n",
       "11    NY               Armonk       2\n",
       "12    VA              Herndon       7\n",
       "13    VA            Chantilly       4\n",
       "14    VA            Arlington       3"
      ]
     },
     "execution_count": 31,
     "metadata": {},
     "output_type": "execute_result"
    }
   ],
   "source": [
    "#tính số lượng việc làm ở mỗi thành phố\n",
    "top5_df = top5_df.groupby([\"State\", \"City\"]).size().reset_index(name=\"Counts\")\n",
    "\n",
    "#lấy ra 3 thành phố có nhiều việc làm nhất ở mỗi bang\n",
    "top_cities_states = top5_df.groupby(\"State\").apply(lambda x: (x.sort_values(\"Counts\", ascending=False)).head(3))\n",
    "top_cities_states = top_cities_states.reset_index(drop=True)\n",
    "top_cities_states"
   ]
  },
  {
   "cell_type": "markdown",
   "id": "63c0b86a",
   "metadata": {},
   "source": [
    "Ta thấy các thành phố có nhiều việc làm nhất ở các bang CA, IL, MA, NY và VG lần lượt là San Francisco, Chicago, Cambridge, New York và Herndon."
   ]
  },
  {
   "cell_type": "markdown",
   "id": "97ae1f7b",
   "metadata": {},
   "source": [
    "Code bước 3:"
   ]
  },
  {
   "cell_type": "code",
   "execution_count": 32,
   "id": "e4db0cf1",
   "metadata": {},
   "outputs": [
    {
     "data": {
      "text/plain": [
       "<AxesSubplot:xlabel='City'>"
      ]
     },
     "execution_count": 32,
     "metadata": {},
     "output_type": "execute_result"
    },
    {
     "data": {
      "image/png": "[encoded data removed]",
      "text/plain": [
       "<Figure size 432x288 with 1 Axes>"
      ]
     },
     "metadata": {
      "needs_background": "light"
     },
     "output_type": "display_data"
    }
   ],
   "source": [
    "#vẽ biểu đồ cột số lượng việc làm ở mỗi thành phố\n",
    "top_cities = top_cities_states[[\"City\", \"Counts\"]]\n",
    "top_cities = top_cities.set_index(\"City\")\n",
    "top_cities.plot.bar()"
   ]
  },
  {
   "cell_type": "markdown",
   "id": "efaa2744",
   "metadata": {},
   "source": [
    "Ta thấy 5 thành phố New York, San Francisco, Cambridge, Chicago và Boston có số lượng việc làm nổi bật hơn nhiều so với các thành phố còn lại. Ngoài ra, biểu đồ còn cho thấy bang MA có đến 2 thành phố nằm trong top 5, thành phố Boston của bang này có số lượng việc làm lớn hơn nhiều so với thành phố có nhiều việc làm nhất bang IL là Herndon. \n",
    "\n",
    "Vậy trong top 5 thành phố có nhiều việc làm nhất (xét trên toàn bộ dữ liệu), liệu có thành phố nào không nằm trong nhóm 15 thành phố ở trên không?"
   ]
  },
  {
   "cell_type": "code",
   "execution_count": 33,
   "id": "2c9b9a90",
   "metadata": {},
   "outputs": [
    {
     "data": {
      "text/html": [
       "<div>\n",
       "<style scoped>\n",
       "    .dataframe tbody tr th:only-of-type {\n",
       "        vertical-align: middle;\n",
       "    }\n",
       "\n",
       "    .dataframe tbody tr th {\n",
       "        vertical-align: top;\n",
       "    }\n",
       "\n",
       "    .dataframe thead th {\n",
       "        text-align: right;\n",
       "    }\n",
       "</style>\n",
       "<table border=\"1\" class=\"dataframe\">\n",
       "  <thead>\n",
       "    <tr style=\"text-align: right;\">\n",
       "      <th></th>\n",
       "      <th>City</th>\n",
       "      <th>Counts</th>\n",
       "    </tr>\n",
       "  </thead>\n",
       "  <tbody>\n",
       "    <tr>\n",
       "      <th>118</th>\n",
       "      <td>New York</td>\n",
       "      <td>37</td>\n",
       "    </tr>\n",
       "    <tr>\n",
       "      <th>159</th>\n",
       "      <td>San Francisco</td>\n",
       "      <td>34</td>\n",
       "    </tr>\n",
       "    <tr>\n",
       "      <th>28</th>\n",
       "      <td>Cambridge</td>\n",
       "      <td>29</td>\n",
       "    </tr>\n",
       "    <tr>\n",
       "      <th>37</th>\n",
       "      <td>Chicago</td>\n",
       "      <td>18</td>\n",
       "    </tr>\n",
       "    <tr>\n",
       "      <th>24</th>\n",
       "      <td>Boston</td>\n",
       "      <td>13</td>\n",
       "    </tr>\n",
       "  </tbody>\n",
       "</table>\n",
       "</div>"
      ],
      "text/plain": [
       "              City  Counts\n",
       "118       New York      37\n",
       "159  San Francisco      34\n",
       "28       Cambridge      29\n",
       "37         Chicago      18\n",
       "24          Boston      13"
      ]
     },
     "execution_count": 33,
     "metadata": {},
     "output_type": "execute_result"
    }
   ],
   "source": [
    "#Tính số lượng việc làm ở mỗi thành phố\n",
    "top_cities_general = sub_df.groupby(\"City\").size().reset_index(name=\"Counts\")\n",
    "\n",
    "#sắp xếp số lượng việc làm theo thứ tự giảm dần và lấy ra top 5 thành phố\n",
    "top_cities_general = top_cities_general.sort_values(by=\"Counts\", ascending=False)\n",
    "top_cities_general[:5]"
   ]
  },
  {
   "cell_type": "markdown",
   "id": "a9d9f3e8",
   "metadata": {},
   "source": [
    "Kết quả cho thấy top 5 thành phố có nhiều việc làm nhất cũng chính là các thành phố trong top 5 thành phố có nhiều việc làm nhất ở 5 bang. Điều này hoàn toàn hợp lý khi nhìn vào biểu đồ cột ở trên, ta thấy tổng số việc làm của cả 3 thành phố Herndon, Chantilly, Arlington của bang VA (bang cuối cùng trong top 5) cũng mới chỉ nhỉnh hơn một chút so với thành phố Boston (thành phố cuối cũng trong top 5). Do đó, sẽ không có thành phố nào ở các bang không nằm trong top có thể lọt vào top 5 thành phố nhiều việc làm nhất."
   ]
  },
  {
   "cell_type": "markdown",
   "id": "9337e895",
   "metadata": {},
   "source": [
    "## 5. Nhìn lại quá trình làm đồ án"
   ]
  },
  {
   "cell_type": "markdown",
   "id": "9d45c655",
   "metadata": {},
   "source": [
    "### Thành viên 1: Nguyễn Đình Tuyên"
   ]
  },
  {
   "cell_type": "markdown",
   "id": "a2ee9879",
   "metadata": {},
   "source": [
    "- Khó khăn:\n",
    "    - Khi tìm dữ liệu và đặt câu hỏi hợp lý có tính ứng dụng.\n",
    "    - Chưa sử dụng quen làm việc nhóm với git/github.\n",
    "- Học được gì khi làm đồ án và sau môn học:\n",
    "    - Hiểu được quy trình làm việc của nhà khoa học dữ liệu, biết được các bước làm từ thu thập dữ liệu đến tiền xử lý khám phá và đặt câu hỏi.\n",
    "    - Hiểu thêm về bản chất của các thư viện numpy/pandas.\n",
    "    - Học hỏi được một số code nhanh và gọn của thầy."
   ]
  },
  {
   "cell_type": "markdown",
   "id": "96bac4f9",
   "metadata": {},
   "source": [
    "### Thành viên 2: Đặng Đỗ Huỳnh Như"
   ]
  },
  {
   "cell_type": "markdown",
   "id": "2060b3ef",
   "metadata": {},
   "source": [
    "- Khó khăn:\n",
    "     - Việc đưa ra câu hỏi và tìm hiểu các thông tin để nhận định câu hỏi này có đủ quan trọng để trả lời hay không?\n",
    "- Học được gì khi làm đồ án và sau môn học:\n",
    "    - Biết cách sử dụng các thư viện như numpy, pandas, matplotlib của python, từ đó có thể áp dụng trong việc làm bài tập các môn khác.\n",
    "    - Cách dùng git để làm việc nhóm hiệu quả hơn."
   ]
  },
  {
   "cell_type": "markdown",
   "id": "9263f1cd",
   "metadata": {},
   "source": [
    "### Nhóm: Nếu có thêm thời gian thì sẽ làm gì?"
   ]
  },
  {
   "cell_type": "markdown",
   "id": "dd294887",
   "metadata": {},
   "source": [
    "- Tìm hiểu thêm 1 số câu hỏi có ích như: \n",
    "    - Tìm hiểu sự tương quan giữa mức lương với quy mô, tuổi đời và doanh thu của công ty?\n",
    "    - Các công việc nào yêu cầu bằng cấp hoặc số năm kinh nghiệm trong lĩnh vực khoa học dữ liệu? Tỉ lệ nhiều hay ít?\n",
    "- Suy nghĩ thêm và xử lý cột dữ liệu Job Description (mô tả chung về công việc, cho biết các yêu cầu kỹ năng mà công ty mong muốn và những việc mà người trúng tuyển sẽ đảm nhiệm) theo từng công việc như data scientist, data analyst, data engineer,..."
   ]
  },
  {
   "cell_type": "markdown",
   "id": "4ed1fa4a",
   "metadata": {},
   "source": [
    "## 6. Tài liệu tham khảo"
   ]
  },
  {
   "cell_type": "markdown",
   "id": "69a8d0db",
   "metadata": {},
   "source": [
    "*https://www.kaggle.com/nikhilbhathi/data-scientist-salary-us-glassdoor?fbclid=IwAR2sxmQ7q1nahrjXZ3AhhL1nBF5sMWPg__Pb-IW2_SDe7_sCcHcrKRStzyc*\n",
    "\n",
    "*https://seaborn.pydata.org/generated/seaborn.heatmap.html*\n",
    "\n",
    "*https://www.scouting.org/resources/los/states/*"
   ]
  },
  {
   "cell_type": "code",
   "execution_count": null,
   "id": "db47774a",
   "metadata": {},
   "outputs": [],
   "source": []
  }
 ],
 "metadata": {
  "kernelspec": {
   "display_name": "Python 3 (ipykernel)",
   "language": "python",
   "name": "python3"
  },
  "language_info": {
   "codemirror_mode": {
    "name": "ipython",
    "version": 3
   },
   "file_extension": ".py",
   "mimetype": "text/x-python",
   "name": "python",
   "nbconvert_exporter": "python",
   "pygments_lexer": "ipython3",
   "version": "3.9.7"
  }
 },
 "nbformat": 4,
 "nbformat_minor": 5
}
