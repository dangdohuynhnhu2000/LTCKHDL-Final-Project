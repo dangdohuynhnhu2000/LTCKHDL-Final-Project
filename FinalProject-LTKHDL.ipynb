{
 "cells": [
  {
   "cell_type": "markdown",
   "metadata": {},
   "source": [
    "# FINAL PROJECT\n",
    "\n",
    "Người thực hiện\n",
    "\n",
    "    Họ tên: Nguyễn Đình Tuyên. MSSV: 1712888\n",
    "\n",
    "    Họ tên: Đặng Đỗ Huỳnh Như. MSSV: 18120219"
   ]
  },
  {
   "cell_type": "markdown",
   "metadata": {},
   "source": [
    "## Import các thư viện cần thiết"
   ]
  },
  {
   "cell_type": "code",
   "execution_count": null,
   "metadata": {},
   "outputs": [],
   "source": [
    "import numpy as np\n",
    "import pandas as pd\n",
    "import matplotlib.pyplot as plt\n",
    "import seaborn as sns"
   ]
  },
  {
   "cell_type": "markdown",
   "metadata": {},
   "source": [
    "## 1. Thu thập dữ liệu"
   ]
  },
  {
   "cell_type": "markdown",
   "metadata": {},
   "source": [
    "- Dữ liệu trong file \"data_scientist_salary.csv\" được lấy trên kaggle mô tả về mức lương của nhà khoa học dữ liệu tại các bang của nước Mỹ. "
   ]
  },
  {
   "cell_type": "markdown",
   "metadata": {},
   "source": [
    "- License của dữ liệu là CC0: Public domain. Do đó, dữ liệu cho phép sử dụng."
   ]
  },
  {
   "cell_type": "markdown",
   "metadata": {},
   "source": [
    "- Dữ liệu được thu thập từ trang web GlassDoor bằng cách sử dụng trình quét Selenium."
   ]
  },
  {
   "cell_type": "markdown",
   "metadata": {},
   "source": [
    "## 2. Khám phá dữ liệu"
   ]
  },
  {
   "cell_type": "markdown",
   "metadata": {},
   "source": [
    "### Đọc dữ liệu từ file csv vào dataframe"
   ]
  },
  {
   "cell_type": "code",
   "execution_count": null,
   "metadata": {
    "scrolled": true
   },
   "outputs": [],
   "source": [
    "ds_salary_df = pd.read_csv('data_scientist_salary.csv')\n",
    "ds_salary_df.head()"
   ]
  },
  {
   "cell_type": "markdown",
   "metadata": {
    "scrolled": true
   },
   "source": [
    "- Bỏ cột **index**, sử dụng theo index của pandas, vì theo quan sát ta thấy cột này chỉ chỉ mục của dòng nhưng lại không liên tục."
   ]
  },
  {
   "cell_type": "code",
   "execution_count": null,
   "metadata": {},
   "outputs": [],
   "source": [
    "ds_salary_df = ds_salary_df.drop(columns = ['index'])"
   ]
  },
  {
   "cell_type": "markdown",
   "metadata": {},
   "source": [
    "### Dữ liệu có bao nhiêu dòng và bao nhiêu cột?"
   ]
  },
  {
   "cell_type": "markdown",
   "metadata": {},
   "source": [
    "- Biến num_rows và num_columns chỉ số dòng và số cột của dữ liệu"
   ]
  },
  {
   "cell_type": "code",
   "execution_count": null,
   "metadata": {},
   "outputs": [],
   "source": [
    "num_rows = len(ds_salary_df)\n",
    "num_columns = len(ds_salary_df.columns)\n",
    "num_rows, num_columns"
   ]
  },
  {
   "cell_type": "markdown",
   "metadata": {},
   "source": [
    "- Dữ liệu có 742 dòng và 42 cột"
   ]
  },
  {
   "cell_type": "markdown",
   "metadata": {},
   "source": [
    "### Mỗi dòng có ý nghĩa gì? Có vấn đề các dòng có ý nghĩa khác nhau không?"
   ]
  },
  {
   "cell_type": "markdown",
   "metadata": {},
   "source": [
    "- Mỗi dòng có thông tin về mức lương tối thiểu, mức lương tối đa, mô tả về công việc, công ty,... liên quan đến nhà khoa học dữ liệu. Theo quan sát sơ bộ và mô tả về dữ liệu thì không có dòng nào có ý nghĩa khác."
   ]
  },
  {
   "cell_type": "markdown",
   "metadata": {},
   "source": [
    "### Dữ liệu có các dòng bị lặp không?"
   ]
  },
  {
   "cell_type": "markdown",
   "metadata": {},
   "source": [
    "- Biến duplicated_rows dùng để kiểm tra có dòng lặp hay không bằng phương thức duplicated của pandas, trả về True nếu bị lặp, ngược lại là False."
   ]
  },
  {
   "cell_type": "code",
   "execution_count": null,
   "metadata": {
    "scrolled": false
   },
   "outputs": [],
   "source": [
    "duplicated_rows = ds_salary_df.duplicated().any()\n",
    "duplicated_rows"
   ]
  },
  {
   "cell_type": "markdown",
   "metadata": {},
   "source": [
    "- Do dữ liệu có dòng bị lặp nên mình tiến hành loại bỏ các dòng bị lặp, chỉ giữ lại dòng đầu tiên."
   ]
  },
  {
   "cell_type": "code",
   "execution_count": null,
   "metadata": {},
   "outputs": [],
   "source": [
    "ds_salary_df = ds_salary_df.drop_duplicates()\n",
    "ds_salary_df.shape"
   ]
  },
  {
   "cell_type": "markdown",
   "metadata": {},
   "source": [
    "### Mỗi cột có ý nghĩa gì?"
   ]
  },
  {
   "cell_type": "markdown",
   "metadata": {},
   "source": [
    "Dưới đây là phần mô tả về các cột trong file \"data_scientist_salary\":\n",
    "- **Job title**: Chức danh của công việc, ví dụ: Data scientist, junior data scientist, senior data scientist, ...\n",
    "- **Salary Estimate**: Khoảng lương và nguồn lấy thông tin.\n",
    "- **Job Description**: Mô tả chung về công việc, cho biết các yêu cầu kỹ năng mà công ty mong muốn và những việc mà người trúng tuyển sẽ đảm nhiệm.\n",
    "- **Rating**: Điểm đánh giá cho công ty.\n",
    "- **Company Name**: Tên công ty.\n",
    "- **Location**: Địa điểm làm việc.\n",
    "- **Headquarters**: Địa điểm trụ sở chính của công ty.\n",
    "- **Size**: Quy mô nhân lực của công ty.\n",
    "- **Founded**: Năm thành lập công ty. \n",
    "- **Type of ownership**: Cho biết đây là công ty tư nhân, đại chúng hay thuộc nhà nước. \n",
    "- **Industry**: Cho biết hoạt động kinh doanh của công ty thuộc ngành công nghiệp nào, ví dụ: công nghệ thông tin, công nghiệp dược phẩm, ... \n",
    "- **Sector**: Lĩnh vực mà công ty hoạt động.\n",
    "- **Revenue**: Tổng số doanh thu hàng năm của công ty. \n",
    "- **Competitors**: Cho biết những đối thủ cạnh tranh hiện tại của công ty. \n",
    "- **Hourly**: Có giá trị 1 nếu mức lương được báo cáo theo giờ và có giá trị là 0 ở các trường hợp còn lại.\n",
    "- **Employer provided**: Có giá trị là 1 nếu mức lương được cung cấp bởi nhà tuyển dụng và có giá trị là 0 ở các trường hợp còn lại.\n",
    "- **Lower Salary**: Mức lương tối thiểu cho công việc này của công ty.\n",
    "- **Upper Salary**: Mức lương tối đa cho công việc này của công ty.\n",
    "- **Avg Salary(K)**: Mức lương trung bình cho công việc này của công ty.\n",
    "- **company_txt**: Chứa tên công ty.\n",
    "- **Job Location**: Tên viết tắt của vị trí công ty (bang).\n",
    "- **Age**: Tuổi của công ty (tính theo năm).\n",
    "- **Python -> google_an**: Có giá trị là 1 nếu công việc đòi hỏi kỹ năng ..., ngược lại có giá trị 0.\n",
    "- **job_title_sim**: Tên đơn giản của chức danh công việc.\n",
    "- **seniority_by_title**: Có chữ senior trong chức danh.\n",
    "- **Degree**: Có giá trị M nếu công việc yêu cầu bằng cấp hoặc số năm kinh nghiệm; có giá trị P trong các trường hợp còn lại."
   ]
  },
  {
   "cell_type": "markdown",
   "metadata": {},
   "source": [
    "**Nhận xét**\n",
    "- Ở đây có quá nhiều cột dữ liệu, vì vậy để dễ dàng theo dõi và nhận xét thì ta sẽ bỏ bớt các cột không cần thiết ví dụ như:\n",
    "    - Bỏ các cột có thông tin ngoài lề như: **Headquarters**(vị trí trụ sở), **Competitors**(Đối thủ cạnh tranh của cty), **Hourly**(lương theo giờ hay không), **Employer provided**(thông tin do nhân viên cung cấp hay không).\n",
    "    - Bỏ cột trùng dữ liệu: **company_txt**(tên của công ty) trùng với Company Name."
   ]
  },
  {
   "cell_type": "code",
   "execution_count": null,
   "metadata": {},
   "outputs": [],
   "source": [
    "ds_salary_df = ds_salary_df.drop(columns = ['Headquarters','Competitors','Hourly', \\\n",
    "                                            'Employer provided','company_txt'])\n",
    "ds_salary_df.shape"
   ]
  },
  {
   "cell_type": "markdown",
   "metadata": {},
   "source": [
    "### Mỗi cột hiện đang có kiểu dữ liệu gì? Có cột nào có kiểu dữ liệu chưa phù hợp để có thể xử lý tiếp không?"
   ]
  },
  {
   "cell_type": "markdown",
   "metadata": {},
   "source": [
    "- Dùng chức năng dtypes để xem kiểu dữ liệu của các cột."
   ]
  },
  {
   "cell_type": "code",
   "execution_count": null,
   "metadata": {
    "scrolled": true
   },
   "outputs": [],
   "source": [
    "col_dtypes = ds_salary_df.dtypes\n",
    "col_dtypes"
   ]
  },
  {
   "cell_type": "markdown",
   "metadata": {},
   "source": [
    "- Các cột có kiểu dữ liệu đã phù hợp ngoại trừ cột **Founded**: dùng để chỉ năm thành lập của công ty, nên chuyển thành datetime với format là '%Y'.\n",
    "- Tuy nhiên khi xử lý sẽ gặp lỗi bởi vì các giá trị thiếu được điền là '-1'. Vì vậy để dễ xử lý ta cần thay đổi các giá trị '-1' thành np.NaN."
   ]
  },
  {
   "cell_type": "code",
   "execution_count": null,
   "metadata": {},
   "outputs": [],
   "source": [
    "ds_salary_df = ds_salary_df.replace(-1, np.NaN)\n",
    "ds_salary_df['Founded'] = pd.to_datetime(ds_salary_df['Founded'],format = '%Y')\n",
    "ds_salary_df['Founded'].head()"
   ]
  },
  {
   "cell_type": "markdown",
   "metadata": {},
   "source": [
    "### Với mỗi cột có kiểu dữ liệu dạng số (numerical), các giá trị được phân bố như thế nào?\n",
    "(tính tỉ lệ các giá trị thiếu, min/max của các cột có kiểu dữ liệu dạng số)"
   ]
  },
  {
   "cell_type": "markdown",
   "metadata": {},
   "source": [
    "Vì các cột từ Python -> google_an: chỉ gồm 1 nếu công việc yêu cầu skill này hoặc ngược lại là 0 cho nên ta không cần xét sự phân bố các cột này. Các cột có kiểu dữ liệu dạng số (numerical) cần xét còn lại là: **\"Rating\", \"Lower Salary\", \"Upper Salary\", \"Avg Salary(K)\", \"Age\"**. \n",
    "\n",
    "Với mỗi cột này ta tính phần trăm các giá trị thiếu, min, max bằng cách dùng cấu trúc agg để tổng hợp các tính năng tính giá trị trong mỗi cột."
   ]
  },
  {
   "cell_type": "code",
   "execution_count": null,
   "metadata": {
    "scrolled": true
   },
   "outputs": [],
   "source": [
    "numerical_df = ds_salary_df[[\"Rating\", \"Lower Salary\", \"Upper Salary\", \"Avg Salary(K)\", \"Age\"]]\n",
    "def missing_ratio(x):\n",
    "    return x.isna().mean() * 100\n",
    "\n",
    "numerical_df = numerical_df.agg([missing_ratio, pd.Series.min, pd.Series.max])\n",
    "numerical_df"
   ]
  },
  {
   "cell_type": "markdown",
   "metadata": {
    "scrolled": true
   },
   "source": [
    "- Ta có thể thấy min/max các cột không có gì bất thường, ngoại trừ Age của 1 công ty có tuổi '277'?"
   ]
  },
  {
   "cell_type": "markdown",
   "metadata": {},
   "source": [
    "### Với mỗi cột có kiểu dữ liệu dạng phân loại (categorical), các giá trị được phân bố như thế nào?\n",
    "(tính tỉ lệ các giá trị thiếu, số lượng các giá trị khác nhau, show một vài giá trị)"
   ]
  },
  {
   "cell_type": "markdown",
   "metadata": {},
   "source": [
    "Theo như quan sát và tìm hiểu dữ liệu thì các cột categorical của dữ liệu trên sẽ là các cột có dtypes là object.\n",
    "\n",
    "Tuy nhiên: \n",
    "- Ở các cột **seniority_by_title**, **Degree** thì các giá trị thiếu được điền là na -> cần chuyển thành np.NaN để có thể hoạt động tốt trên các hàm của pandas.\n",
    "- Ở cột **Revenue** thì các giá trị thiếu được điền là Unknown -> cần chuyển thành np.NaN"
   ]
  },
  {
   "cell_type": "code",
   "execution_count": null,
   "metadata": {},
   "outputs": [],
   "source": [
    "ds_salary_df = ds_salary_df.replace(['na', 'Unknown / Non-Applicable'], np.NaN)"
   ]
  },
  {
   "cell_type": "code",
   "execution_count": null,
   "metadata": {
    "scrolled": true
   },
   "outputs": [],
   "source": [
    "columns_cate = list(ds_salary_df.dtypes[ds_salary_df.dtypes == 'object'].index)\n",
    "categorical_df = ds_salary_df[columns_cate]\n",
    "def diff_vals(s):\n",
    "    return s.dropna().unique()\n",
    "def num_diff_vals(s):\n",
    "    return s.nunique()\n",
    "categorical_df = categorical_df.agg([missing_ratio,num_diff_vals,diff_vals])\n",
    "categorical_df"
   ]
  },
  {
   "cell_type": "markdown",
   "metadata": {},
   "source": [
    "## 3. Đưa ra các câu hỏi có ý nghĩa cần trả lời"
   ]
  },
  {
   "cell_type": "markdown",
   "metadata": {},
   "source": [
    "### Câu hỏi 1: \n",
    "***Các kĩ năng cần thiết của các công việc trong lĩnh vực khoa học dữ liệu là gì? Các công việc nào có lương trung bình cao nhất?***"
   ]
  },
  {
   "cell_type": "markdown",
   "metadata": {},
   "source": [
    "- Trả lời được có lợi ích gì?\n",
    "\n",
    "Liên quan đến lĩnh vực khoa học dữ liệu cần có rất nhiều kĩ năng, tuy nhiên tùy vào mỗi công việc mà mình chọn thì chỉ nên tập trung vào các kĩ năng cần thiết. Vì vậy việc lọc các kĩ năng yêu cầu của từng công việc sẽ giúp người học có cái nhìn tổng quát và lựa chọn kĩ năng để có thể phù hợp với công việc đó. Ví dụ như công việc data scientist: mình sẽ nên học python, exel hay sql,... để phục vụ công việc chứ không nên học tất cả, còn data analyst thì sẽ có các yêu cầu kĩ năng khác.\n",
    "\n",
    "Bên cạnh đó, cũng biết được mức lương trung bình của các công việc thuộc lĩnh vực khoa học dữ liệu, người đọc có thể lựa chọn công việc mình theo đuổi rồi chuẩn bị các skill mà công việc yêu cầu."
   ]
  },
  {
   "cell_type": "markdown",
   "metadata": {},
   "source": [
    "### Câu hỏi 2:"
   ]
  },
  {
   "cell_type": "markdown",
   "metadata": {},
   "source": [
    "***Những ngành công nghiệp nào tuyển nhiều vị trí liên quan đến khoa học dữ liệu nhất nhất? Liệu mức lương ở các ngành này có khác nhau và đâu là top các ngành có mức lương cao nhất?***"
   ]
  },
  {
   "cell_type": "markdown",
   "metadata": {},
   "source": [
    "- Trả lời được có lợi ích gì?"
   ]
  },
  {
   "cell_type": "markdown",
   "metadata": {},
   "source": [
    "Các công việc liên quan đến khoa học dữ liệu không chỉ đòi hỏi nhà khoa học dữ liệu phải có kiến thức chuyên môn về khoa học dữ liệu mà còn đòi hỏi sự hiểu biết về dữ liệu trong lĩnh vực cụ thể mà họ đang nghiên cứu. Do đó, việc tìm hiểu xem các ngành nào tuyển nhiều vị trí liên quan dến khoa học dữ liệu và khám phá sự chênh lệch mức lương ở các ngành có thể giúp người học đưa ra định hướng nghề nghiệp phù hợp trong tương lai. (Ví dụ: nếu muốn làm việc trong lĩnh vực y tế, người học KHDL có thể tìm học các khóa học về xử lý dữ liệu trong ngành y).\n",
    "\n",
    "Ngoài ra, phân tích còn cung cấp một cái nhìn tổng quan về thực trạng ứng dụng khoa học dữ liệu vào các ngành công nghiệp và đời sống."
   ]
  },
  {
   "cell_type": "markdown",
   "metadata": {},
   "source": [
    "### Câu hỏi 3:"
   ]
  },
  {
   "cell_type": "markdown",
   "metadata": {},
   "source": [
    "***Phân bố việc làm khoa học dữ liệu ở mỗi bang như thế nào? Đâu là top các bang và thành phố có nhiều việc làm liên quan đến khoa học dữ liệu nhất?***"
   ]
  },
  {
   "cell_type": "markdown",
   "metadata": {},
   "source": [
    "- Trả lời được có lợi ích gì?"
   ]
  },
  {
   "cell_type": "markdown",
   "metadata": {},
   "source": [
    "Việc tìm ra các bang có phân bố việc làm liên quan đến KHDL lớn nhất có thể giúp cho người tìm việc đưa ra quyết định phù hợp về nơi mà họ sẽ định cư. Ví dụ, khi một nhà KHDL muốn chuyển công ty do muốn học hỏi thêm hoặc do không phù hợp với công ty hiện tại, nếu nhà KHDL này ở một bang có nhiều việc làm KHDL, việc chuyển đổi này sẽ diễn ra dễ dàng hơn.\n",
    "\n",
    "Vì phạm vi của mỗi bang là rất lớn, để thu hẹp hơn, ta đồng thời tìm ra top các thành phố mà có nhiều việc làm về KHDL nhất ở mỗi bang."
   ]
  },
  {
   "cell_type": "markdown",
   "metadata": {},
   "source": [
    "## 4. Tiền xử lý và phân tích dữ liệu để trả lời các câu hỏi"
   ]
  },
  {
   "cell_type": "markdown",
   "metadata": {},
   "source": [
    "## Câu hỏi 1: \n",
    "***Các kĩ năng cần thiết của các công việc trong lĩnh vực khoa học dữ liệu là gì? Top các công việc có lương trung bình cao nhất?*** "
   ]
  },
  {
   "cell_type": "markdown",
   "metadata": {},
   "source": [
    "### Phân tích dữ liệu\n",
    "Trong dữ liệu trên, có các cột skill như Python, sql, excel, mongo,... khi nào công việc yêu cầu thì giá trị sẽ là 1, ngược lại sẽ là 0. Do đó để trả lời câu hỏi ta cần các bước sau:\n",
    "- Bước 1: Gom nhóm các đối tượng theo job title sim, rồi đếm tổng các giá trị của cột skill ứng với từng đối tượng.\n",
    "- Bước 2: Chuẩn hóa các hàng theo giá trị lớn nhất trong mỗi hàng. Từ kết quả này vẽ biểu đồ heatmap để thể hiện thông tin."
   ]
  },
  {
   "cell_type": "markdown",
   "metadata": {},
   "source": [
    "Code bước 1"
   ]
  },
  {
   "cell_type": "code",
   "execution_count": null,
   "metadata": {
    "scrolled": false
   },
   "outputs": [],
   "source": [
    "skill_names = ['Python','spark','aws','excel','sql','sas','keras','pytorch','scikit', \\\n",
    "               'tensor','hadoop','tableau','bi','flink','mongo','google_an']\n",
    "\n",
    "#gom nhóm theo job title, rồi tính tổng các cột trong skill name\n",
    "job_skills = ds_salary_df.groupby('job_title_sim')[skill_names].sum()\n",
    "job_skills"
   ]
  },
  {
   "cell_type": "markdown",
   "metadata": {},
   "source": [
    "Code bước 2"
   ]
  },
  {
   "cell_type": "code",
   "execution_count": null,
   "metadata": {
    "scrolled": false
   },
   "outputs": [],
   "source": [
    "#Chuẩn hóa các giá trị theo max của từng hàng\n",
    "job_skills_normalize = job_skills.div(job_skills.max(axis=1), axis=0)\n",
    "\n",
    "#Vẽ biểu đồ heatmap để thể hiện\n",
    "plt.figure(figsize=(15, 15))\n",
    "sns.heatmap(job_skills_normalize, vmin=0, vmax=1, square=True, annot=True, cbar=False, cmap='Blues')\n",
    "plt.title('Kĩ năng cần thiết ứng với các công việc trong ngành khoa học dữ liệu',size=16)\n",
    "plt.xlabel('skills');"
   ]
  },
  {
   "cell_type": "markdown",
   "metadata": {},
   "source": [
    "- Theo như quan sát sơ bộ thì các công việc trong lĩnh vực khoa học dữ liệu đa số đều cần các kĩ năng như **python, excel, sql** (với tỉ lệ cao nhất = 1 rất nhiều). Tuy nhiên ta cũng có thể dễ dàng theo dõi từng công việc như sau:\n",
    "    - **Data analytst** thì cần nhiều nhất là python, sql, tableau,...\n",
    "    - **Data engineer** thì lại cần sql, python, spark, aws, excel,hadoop\n",
    "    - **Data modeler** cần excel, sql, aws,...\n",
    "    - **Data scientist** cần nhiều nhất là python, sql, exel, spark,...\n",
    "    -...\n",
    "    \n",
    "Ta thấy có rất nhiều skill về lĩnh vực khoa học dữ liệu vì vậy ta không thể nào học hết tất cả được. Do đó tùy vào công việc mình muốn theo đuổi mà mình nên học chuyên sâu tìm hiểu một số skill chính để đáp ứng yêu cầu công việc tốt nhất."
   ]
  },
  {
   "cell_type": "markdown",
   "metadata": {},
   "source": [
    "***Bên cạnh việc tìm hiểu các kĩ năng, người học cũng quan tâm rất nhiều về mức lương, vậy top các công việc có mức lương cao nhất trong lĩnh vực khoa học dữ liệu là gì?***"
   ]
  },
  {
   "cell_type": "markdown",
   "metadata": {},
   "source": [
    "### Phân tích dữ liệu\n",
    "Để trả lời câu hỏi, ta thực hiện các bước sau:\n",
    "- Bước 1: Gom nhóm các đối tượng theo công việc(job title sim) rồi tính trung bình về mức lương.\n",
    "- Bước 2: Vẽ biểu đồ barh thể hiện."
   ]
  },
  {
   "cell_type": "markdown",
   "metadata": {},
   "source": [
    "Code bước 1"
   ]
  },
  {
   "cell_type": "code",
   "execution_count": null,
   "metadata": {
    "scrolled": true
   },
   "outputs": [],
   "source": [
    "#Gom nhóm công việc rồi tính lương trung bình, sau đó sort theo giá trị giảm dần.\n",
    "job_salary_avg = ds_salary_df.groupby('job_title_sim')['Avg Salary(K)'].mean()\n",
    "job_salary_avg = job_salary_avg.sort_values(ascending = False)\n",
    "job_salary_avg"
   ]
  },
  {
   "cell_type": "markdown",
   "metadata": {},
   "source": [
    "Code bước 2"
   ]
  },
  {
   "cell_type": "code",
   "execution_count": null,
   "metadata": {
    "scrolled": false
   },
   "outputs": [],
   "source": [
    "#Vẽ biểu đồ barh để quan sát, điền thêm các giá trị của từng cột.\n",
    "plt.figure(figsize=(15, 7))\n",
    "ax = job_salary_avg.plot.barh()\n",
    "list_values = list(job_salary_avg.values.round(2))\n",
    "for i, v in enumerate(list_values):\n",
    "    ax.text(v, i - 0.1, str(v), color='blue', fontweight='bold')\n",
    "plt.title('Trung bình mức lương ứng với các công việc', size=16)\n",
    "plt.xlabel('Avg Salary');"
   ]
  },
  {
   "cell_type": "markdown",
   "metadata": {},
   "source": [
    "Không có gì bất ngờ khi director là công việc có lương trung bình cao nhất (137,67 K$). Tiếp theo là các công việc như machine learning engineer(128,05 K), data scientist(116,34 K), ... hoặc công việc có mức lương trung bình thấp nhất là analyst, data analyst.\n",
    "\n",
    "***Qua các phân tích ở trên ta biết được mức lương trung bình của các công việc cũng như các kĩ năng yêu cầu của các công việc này. Từ đó dễ dàng lựa chọn công việc cũng như các kĩ năng mà công việc yêu cầu để có thể tập trung chuyên sâu.***"
   ]
  },
  {
   "cell_type": "markdown",
   "metadata": {},
   "source": [
    "## Câu hỏi 2:"
   ]
  },
  {
   "cell_type": "markdown",
   "metadata": {},
   "source": [
    "***Phân bố việc làm khoa học dữ liệu ở mỗi bang như thế nào? Đâu là top các bang và thành phố có nhiều việc làm liên quan đến khoa học dữ liệu nhất?***"
   ]
  },
  {
   "cell_type": "markdown",
   "metadata": {},
   "source": [
    "### Tiền xử lý\n",
    "Các bước thực hiện:\n",
    "- Lấy ra cột Location là cột chứa dữ liệu cần để trả lời câu hỏi. Tuy nhiên, cột Location là tổ hợp của 2 thông tin gồm tên thành phố (hoặc thị trấn, ta xem như là tên thành phố) và tên bang. Do đó, ta cần tách cột Location ra thành 2 cột tên thành phố (City) và tên bang (State)."
   ]
  },
  {
   "cell_type": "code",
   "execution_count": null,
   "metadata": {},
   "outputs": [],
   "source": [
    "#lấy ra cột Location và thực hiện tách cột\n",
    "sub_df = ds_salary_df[\"Location\"]\n",
    "sub_df = sub_df.str.split(pat=\", \", expand=True)\n",
    "sub_df.head(3)"
   ]
  },
  {
   "cell_type": "markdown",
   "metadata": {},
   "source": [
    "Cột Location chỉ chứa 2 thông tin là tên thành phố (hoặc tên thị trấn) và tên bang, nhưng kết quả số cột sau khi tách ra từ cột Location lại là 3. Để tìm hiểu điều này, ta in ra tất cả các giá trị khác nhau trong cột thứ 3 này."
   ]
  },
  {
   "cell_type": "code",
   "execution_count": null,
   "metadata": {},
   "outputs": [],
   "source": [
    "sub_df[2].unique()"
   ]
  },
  {
   "cell_type": "markdown",
   "metadata": {},
   "source": [
    "Kết quả cho thấy ngoài các giá trị None, cột này có xuất hiện giá trị \"CA\". Do đó, ta sẽ tìm tất cả các dòng có giá trị \"CA\" ở cột thứ 3 này."
   ]
  },
  {
   "cell_type": "code",
   "execution_count": null,
   "metadata": {},
   "outputs": [],
   "source": [
    "sub_df[sub_df[2]==\"CA\"]"
   ]
  },
  {
   "cell_type": "markdown",
   "metadata": {},
   "source": [
    "Nguyên nhân do Santa Fe Springs là một thành phố nhỏ trong một thành phố lớn hơn là Los Angeles. Để xử lý ngoại lệ này, ta lựa chọn lấy tên thành phố là Los Angeles (vì các dòng dữ liệu khác cũng để tên thành phố là Los Angeles thay vì tên các thành phố nhỏ)."
   ]
  },
  {
   "cell_type": "code",
   "execution_count": null,
   "metadata": {},
   "outputs": [],
   "source": [
    "#xóa cột thứ 3 chứa toàn giá trị None\n",
    "sub_df = sub_df.drop([2], axis=1)\n",
    "\n",
    "#đổi tên các cột thành \"City\" và \"State\"\n",
    "sub_df.rename(columns={0: \"City\", 1: \"State\"}, inplace=True)\n",
    "\n",
    "#đổi giá trị City và State ở dòng 126 thành Los Angeles và CA\n",
    "sub_df.iloc[126] = [\"Los Angeles\", \"CA\"]"
   ]
  },
  {
   "cell_type": "markdown",
   "metadata": {},
   "source": [
    "### Phân tích dữ liệu"
   ]
  },
  {
   "cell_type": "markdown",
   "metadata": {},
   "source": [
    "#### Các bang nào có số lượng việc làm liên quan đến KHDL cao nhất?"
   ]
  },
  {
   "cell_type": "markdown",
   "metadata": {},
   "source": [
    "Các bước thực hiện:\n",
    "- Bước 1: Đếm số lượng việc làm ở mỗi bang và sắp xếp theo giá trị giảm dần, sau đó lấy ra top 5 bang có số lượng việc làm cao nhất.\n",
    "- Bước 2: Tính tỉ trọng của mỗi bang bằng cách lấy số việc làm ở mỗi bang chia cho tổng số việc làm ở cả 5 bang. Vẽ biểu đồ tròn để minh họa."
   ]
  },
  {
   "cell_type": "markdown",
   "metadata": {},
   "source": [
    "Code bước 1:"
   ]
  },
  {
   "cell_type": "code",
   "execution_count": null,
   "metadata": {},
   "outputs": [],
   "source": [
    "#lấy ra top5\n",
    "top5_states = sub_df.groupby(\"State\").size().sort_values(ascending=False)[:5]"
   ]
  },
  {
   "cell_type": "markdown",
   "metadata": {},
   "source": [
    "Code bước 2:"
   ]
  },
  {
   "cell_type": "code",
   "execution_count": null,
   "metadata": {},
   "outputs": [],
   "source": [
    "#tính tỉ lệ giữa các bang trong top 5 \n",
    "top5_ratio = top5_states / top5_states.sum() * 100\n",
    "\n",
    "#vẽ biểu đồ tròn để minh họa\n",
    "my_explode=(0.03, 0.1,0.1,0.1,0.1)\n",
    "plt.pie(top5_ratio, autopct='%1.2f%%',explode=my_explode, shadow=True,startangle=300)\n",
    "plt.title('\\n Top 5 bang tuyển dụng nhiều vị trí liên quan đến khoa học dữ liệu nhất \\n', size=12, color='black')\n",
    "plt.legend(labels=list(top5_ratio.index), bbox_to_anchor=(1,1))\n",
    "plt.show()"
   ]
  },
  {
   "cell_type": "markdown",
   "metadata": {},
   "source": [
    "Kết quả cho thấy 5 bang tuyển dụng nhiều vị trí liên quan đến KHDL nhất lần lượt là California (CA), Massachusetts (MA), New York (NY), Virginia (VA) và Illinois (IL). Trong đó, 2 bang CA và MA chiếm tỉ trọng lớn hơn hẳn các bang còn lại."
   ]
  },
  {
   "cell_type": "markdown",
   "metadata": {},
   "source": [
    "#### Ở mỗi bang, các thành phố nào có nhiều việc làm liên quan đến khoa học dữ liệu nhất?"
   ]
  },
  {
   "cell_type": "markdown",
   "metadata": {},
   "source": [
    "Các bước thực hiện:\n",
    "- Bước 1: Lấy ra các dòng dữ liệu có tên bang nằm trong top 5 bang có nhiều việc làm nhất và lưu vào biến top5_df.\n",
    "- Bước 2: Tính số lượng việc làm của mỗi thành phố thuộc các bang này, sau đó lọc ra 3 thành phố có nhiều việc làm nhất ở mỗi bang và lưu vào biến top_cities_states.\n",
    "- Bước 3: Vẽ biểu đồ cột minh họa sự chênh lệch số lượng việc làm ở mỗi thành phố."
   ]
  },
  {
   "cell_type": "markdown",
   "metadata": {},
   "source": [
    "Code bước 1:"
   ]
  },
  {
   "cell_type": "code",
   "execution_count": null,
   "metadata": {},
   "outputs": [],
   "source": [
    "#lấy ra các dòng có tên bang nằm trong top 5 bang\n",
    "top5_df = sub_df[sub_df[\"State\"].isin(list(top5_states.index))]"
   ]
  },
  {
   "cell_type": "markdown",
   "metadata": {},
   "source": [
    "Code bước 2:"
   ]
  },
  {
   "cell_type": "code",
   "execution_count": null,
   "metadata": {},
   "outputs": [],
   "source": [
    "#tính số lượng việc làm ở mỗi thành phố\n",
    "top5_df = top5_df.groupby([\"State\", \"City\"]).size().reset_index(name=\"Counts\")\n",
    "\n",
    "#lấy ra 3 thành phố có nhiều việc làm nhất ở mỗi bang\n",
    "top_cities_states = top5_df.groupby(\"State\").apply(lambda x: (x.sort_values(\"Counts\", ascending=False)).head(3))\n",
    "top_cities_states = top_cities_states.reset_index(drop=True)\n",
    "top_cities_states"
   ]
  },
  {
   "cell_type": "markdown",
   "metadata": {},
   "source": [
    "Ta thấy các thành phố có nhiều việc làm nhất ở các bang CA, IL, MA, NY và VG lần lượt là San Francisco, Chicago, Cambridge, New York và Herndon."
   ]
  },
  {
   "cell_type": "markdown",
   "metadata": {},
   "source": [
    "Code bước 3:"
   ]
  },
  {
   "cell_type": "code",
   "execution_count": null,
   "metadata": {},
   "outputs": [],
   "source": [
    "#vẽ biểu đồ cột số lượng việc làm ở mỗi thành phố\n",
    "top_cities = top_cities_states[[\"City\", \"Counts\"]]\n",
    "top_cities = top_cities.set_index(\"City\")\n",
    "top_cities.plot.bar()"
   ]
  },
  {
   "cell_type": "markdown",
   "metadata": {},
   "source": [
    "Ta thấy 5 thành phố New York, San Francisco, Cambridge, Chicago và Boston có số lượng việc làm nổi bật hơn nhiều so với các thành phố còn lại. Ngoài ra, biểu đồ còn cho thấy bang MA có đến 2 thành phố nằm trong top 5, thành phố Boston của bang này có số lượng việc làm lớn hơn nhiều so với thành phố có nhiều việc làm nhất bang IL là Herndon. \n",
    "\n",
    "Vậy trong top 5 thành phố có nhiều việc làm nhất (xét trên toàn bộ dữ liệu), liệu có thành phố nào không nằm trong nhóm 15 thành phố ở trên không?"
   ]
  },
  {
   "cell_type": "code",
   "execution_count": null,
   "metadata": {},
   "outputs": [],
   "source": [
    "#Tính số lượng việc làm ở mỗi thành phố\n",
    "top_cities_general = sub_df.groupby(\"City\").size().reset_index(name=\"Counts\")\n",
    "\n",
    "#sắp xếp số lượng việc làm theo thứ tự giảm dần và lấy ra top 5 thành phố\n",
    "top_cities_general = top_cities_general.sort_values(by=\"Counts\", ascending=False)\n",
    "top_cities_general[:5]"
   ]
  },
  {
   "cell_type": "markdown",
   "metadata": {},
   "source": [
    "Kết quả cho thấy top 5 thành phố có nhiều việc làm nhất cũng chính là các thành phố trong top 5 thành phố có nhiều việc làm nhất ở 5 bang. Điều này hoàn toàn hợp lý khi nhìn vào biểu đồ cột ở trên, ta thấy tổng số việc làm của cả 3 thành phố Herndon, Chantilly, Arlington của bang VA (bang cuối cùng trong top 5) cũng mới chỉ nhỉnh hơn một chút so với thành phố Boston (thành phố cuối cũng trong top 5). Do đó, sẽ không có thành phố nào ở các bang không nằm trong top có thể lọt vào top 5 thành phố nhiều việc làm nhất."
   ]
  },
  {
   "cell_type": "markdown",
   "metadata": {},
   "source": [
    "## 5. Nhìn lại quá trình làm đồ án"
   ]
  },
  {
   "cell_type": "markdown",
   "metadata": {},
   "source": [
    "- TV1 : Những khó khăn?\n",
    "        Học được gì?"
   ]
  },
  {
   "cell_type": "markdown",
   "metadata": {},
   "source": [
    "- TV2: Những khó khăn?\n",
    "        Học được gì?"
   ]
  },
  {
   "cell_type": "markdown",
   "metadata": {},
   "source": [
    "- Nhóm: nếu có thêm thời gian thì sẽ làm gì?"
   ]
  },
  {
   "cell_type": "markdown",
   "metadata": {},
   "source": [
    "## 6. Tài liệu tham khảo"
   ]
  },
  {
   "cell_type": "code",
   "execution_count": null,
   "metadata": {},
   "outputs": [],
   "source": []
  }
 ],
 "metadata": {
  "kernelspec": {
   "display_name": "Python 3",
   "language": "python",
   "name": "python3"
  },
  "language_info": {
   "codemirror_mode": {
    "name": "ipython",
    "version": 3
   },
   "file_extension": ".py",
   "mimetype": "text/x-python",
   "name": "python",
   "nbconvert_exporter": "python",
   "pygments_lexer": "ipython3",
   "version": "3.8.3"
  }
 },
 "nbformat": 4,
 "nbformat_minor": 5
}
