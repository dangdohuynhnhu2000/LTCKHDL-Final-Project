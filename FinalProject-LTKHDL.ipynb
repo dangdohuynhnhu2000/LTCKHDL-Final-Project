{
 "cells": [
  {
   "cell_type": "markdown",
   "metadata": {},
   "source": [
    "# FINAL PROJECT\n",
    "\n",
    "Người thực hiện\n",
    "\n",
    "    Họ tên: Nguyễn Đình Tuyên. MSSV: 1712888\n",
    "\n",
    "    Họ tên: Đặng Đỗ Huỳnh Như. MSSV: 18120219"
   ]
  },
  {
   "cell_type": "markdown",
   "metadata": {},
   "source": [
    "## Import các thư viện cần thiết"
   ]
  },
  {
   "cell_type": "code",
   "execution_count": 49,
   "metadata": {},
   "outputs": [],
   "source": [
    "import numpy as np\n",
    "import pandas as pd\n",
    "import matplotlib.pyplot as plt\n",
    "import seaborn as sns"
   ]
  },
  {
   "cell_type": "markdown",
   "metadata": {},
   "source": [
    "## 1. Thu thập dữ liệu"
   ]
  },
  {
   "cell_type": "markdown",
   "metadata": {},
   "source": [
    "- Dữ liệu trong file \"data_scientist_salary.csv\" được lấy trên kaggle mô tả về mức lương của nhà khoa học dữ liệu tại các bang của nước Mỹ. "
   ]
  },
  {
   "cell_type": "markdown",
   "metadata": {},
   "source": [
    "- License của dữ liệu là CC0: Public domain. Do đó, dữ liệu cho phép sử dụng."
   ]
  },
  {
   "cell_type": "markdown",
   "metadata": {},
   "source": [
    "- Dữ liệu được thu thập từ trang web GlassDoor bằng cách sử dụng trình quét Selenium."
   ]
  },
  {
   "cell_type": "markdown",
   "metadata": {},
   "source": [
    "## 2. Khám phá dữ liệu"
   ]
  },
  {
   "cell_type": "markdown",
   "metadata": {},
   "source": [
    "### Đọc dữ liệu từ file csv vào dataframe"
   ]
  },
  {
   "cell_type": "code",
   "execution_count": 50,
   "metadata": {
    "scrolled": true
   },
   "outputs": [
    {
     "data": {
      "text/html": [
       "<div>\n",
       "<style scoped>\n",
       "    .dataframe tbody tr th:only-of-type {\n",
       "        vertical-align: middle;\n",
       "    }\n",
       "\n",
       "    .dataframe tbody tr th {\n",
       "        vertical-align: top;\n",
       "    }\n",
       "\n",
       "    .dataframe thead th {\n",
       "        text-align: right;\n",
       "    }\n",
       "</style>\n",
       "<table border=\"1\" class=\"dataframe\">\n",
       "  <thead>\n",
       "    <tr style=\"text-align: right;\">\n",
       "      <th></th>\n",
       "      <th>index</th>\n",
       "      <th>Job Title</th>\n",
       "      <th>Salary Estimate</th>\n",
       "      <th>Job Description</th>\n",
       "      <th>Rating</th>\n",
       "      <th>Company Name</th>\n",
       "      <th>Location</th>\n",
       "      <th>Headquarters</th>\n",
       "      <th>Size</th>\n",
       "      <th>Founded</th>\n",
       "      <th>...</th>\n",
       "      <th>tensor</th>\n",
       "      <th>hadoop</th>\n",
       "      <th>tableau</th>\n",
       "      <th>bi</th>\n",
       "      <th>flink</th>\n",
       "      <th>mongo</th>\n",
       "      <th>google_an</th>\n",
       "      <th>job_title_sim</th>\n",
       "      <th>seniority_by_title</th>\n",
       "      <th>Degree</th>\n",
       "    </tr>\n",
       "  </thead>\n",
       "  <tbody>\n",
       "    <tr>\n",
       "      <th>0</th>\n",
       "      <td>0</td>\n",
       "      <td>Data Scientist</td>\n",
       "      <td>$53K-$91K (Glassdoor est.)</td>\n",
       "      <td>Data Scientist\\r\\nLocation: Albuquerque, NM\\r\\...</td>\n",
       "      <td>3.8</td>\n",
       "      <td>Tecolote Research\\r\\n3.8</td>\n",
       "      <td>Albuquerque, NM</td>\n",
       "      <td>Goleta, CA</td>\n",
       "      <td>501 - 1000</td>\n",
       "      <td>1973</td>\n",
       "      <td>...</td>\n",
       "      <td>0</td>\n",
       "      <td>0</td>\n",
       "      <td>1</td>\n",
       "      <td>1</td>\n",
       "      <td>0</td>\n",
       "      <td>0</td>\n",
       "      <td>0</td>\n",
       "      <td>data scientist</td>\n",
       "      <td>na</td>\n",
       "      <td>M</td>\n",
       "    </tr>\n",
       "    <tr>\n",
       "      <th>1</th>\n",
       "      <td>1</td>\n",
       "      <td>Healthcare Data Scientist</td>\n",
       "      <td>$63K-$112K (Glassdoor est.)</td>\n",
       "      <td>What You Will Do:\\r\\n\\r\\nI. General Summary\\r\\...</td>\n",
       "      <td>3.4</td>\n",
       "      <td>University of Maryland Medical System\\r\\n3.4</td>\n",
       "      <td>Linthicum, MD</td>\n",
       "      <td>Baltimore, MD</td>\n",
       "      <td>10000+</td>\n",
       "      <td>1984</td>\n",
       "      <td>...</td>\n",
       "      <td>0</td>\n",
       "      <td>0</td>\n",
       "      <td>0</td>\n",
       "      <td>0</td>\n",
       "      <td>0</td>\n",
       "      <td>0</td>\n",
       "      <td>0</td>\n",
       "      <td>data scientist</td>\n",
       "      <td>na</td>\n",
       "      <td>M</td>\n",
       "    </tr>\n",
       "    <tr>\n",
       "      <th>2</th>\n",
       "      <td>2</td>\n",
       "      <td>Data Scientist</td>\n",
       "      <td>$80K-$90K (Glassdoor est.)</td>\n",
       "      <td>KnowBe4, Inc. is a high growth information sec...</td>\n",
       "      <td>4.8</td>\n",
       "      <td>KnowBe4\\r\\n4.8</td>\n",
       "      <td>Clearwater, FL</td>\n",
       "      <td>Clearwater, FL</td>\n",
       "      <td>501 - 1000</td>\n",
       "      <td>2010</td>\n",
       "      <td>...</td>\n",
       "      <td>0</td>\n",
       "      <td>0</td>\n",
       "      <td>0</td>\n",
       "      <td>0</td>\n",
       "      <td>0</td>\n",
       "      <td>0</td>\n",
       "      <td>0</td>\n",
       "      <td>data scientist</td>\n",
       "      <td>na</td>\n",
       "      <td>M</td>\n",
       "    </tr>\n",
       "    <tr>\n",
       "      <th>3</th>\n",
       "      <td>3</td>\n",
       "      <td>Data Scientist</td>\n",
       "      <td>$56K-$97K (Glassdoor est.)</td>\n",
       "      <td>*Organization and Job ID**\\r\\nJob ID: 310709\\r...</td>\n",
       "      <td>3.8</td>\n",
       "      <td>PNNL\\r\\n3.8</td>\n",
       "      <td>Richland, WA</td>\n",
       "      <td>Richland, WA</td>\n",
       "      <td>1001 - 5000</td>\n",
       "      <td>1965</td>\n",
       "      <td>...</td>\n",
       "      <td>0</td>\n",
       "      <td>0</td>\n",
       "      <td>0</td>\n",
       "      <td>0</td>\n",
       "      <td>0</td>\n",
       "      <td>0</td>\n",
       "      <td>0</td>\n",
       "      <td>data scientist</td>\n",
       "      <td>na</td>\n",
       "      <td>na</td>\n",
       "    </tr>\n",
       "    <tr>\n",
       "      <th>4</th>\n",
       "      <td>4</td>\n",
       "      <td>Data Scientist</td>\n",
       "      <td>$86K-$143K (Glassdoor est.)</td>\n",
       "      <td>Data Scientist\\r\\nAffinity Solutions / Marketi...</td>\n",
       "      <td>2.9</td>\n",
       "      <td>Affinity Solutions\\r\\n2.9</td>\n",
       "      <td>New York, NY</td>\n",
       "      <td>New York, NY</td>\n",
       "      <td>51 - 200</td>\n",
       "      <td>1998</td>\n",
       "      <td>...</td>\n",
       "      <td>0</td>\n",
       "      <td>0</td>\n",
       "      <td>0</td>\n",
       "      <td>0</td>\n",
       "      <td>0</td>\n",
       "      <td>0</td>\n",
       "      <td>0</td>\n",
       "      <td>data scientist</td>\n",
       "      <td>na</td>\n",
       "      <td>na</td>\n",
       "    </tr>\n",
       "  </tbody>\n",
       "</table>\n",
       "<p>5 rows × 42 columns</p>\n",
       "</div>"
      ],
      "text/plain": [
       "   index                  Job Title              Salary Estimate  \\\n",
       "0      0             Data Scientist   $53K-$91K (Glassdoor est.)   \n",
       "1      1  Healthcare Data Scientist  $63K-$112K (Glassdoor est.)   \n",
       "2      2             Data Scientist   $80K-$90K (Glassdoor est.)   \n",
       "3      3             Data Scientist   $56K-$97K (Glassdoor est.)   \n",
       "4      4             Data Scientist  $86K-$143K (Glassdoor est.)   \n",
       "\n",
       "                                     Job Description  Rating  \\\n",
       "0  Data Scientist\\r\\nLocation: Albuquerque, NM\\r\\...     3.8   \n",
       "1  What You Will Do:\\r\\n\\r\\nI. General Summary\\r\\...     3.4   \n",
       "2  KnowBe4, Inc. is a high growth information sec...     4.8   \n",
       "3  *Organization and Job ID**\\r\\nJob ID: 310709\\r...     3.8   \n",
       "4  Data Scientist\\r\\nAffinity Solutions / Marketi...     2.9   \n",
       "\n",
       "                                   Company Name         Location  \\\n",
       "0                      Tecolote Research\\r\\n3.8  Albuquerque, NM   \n",
       "1  University of Maryland Medical System\\r\\n3.4    Linthicum, MD   \n",
       "2                                KnowBe4\\r\\n4.8   Clearwater, FL   \n",
       "3                                   PNNL\\r\\n3.8     Richland, WA   \n",
       "4                     Affinity Solutions\\r\\n2.9     New York, NY   \n",
       "\n",
       "     Headquarters          Size  Founded  ... tensor hadoop tableau bi flink  \\\n",
       "0      Goleta, CA   501 - 1000      1973  ...      0      0       1  1     0   \n",
       "1   Baltimore, MD       10000+      1984  ...      0      0       0  0     0   \n",
       "2  Clearwater, FL   501 - 1000      2010  ...      0      0       0  0     0   \n",
       "3    Richland, WA  1001 - 5000      1965  ...      0      0       0  0     0   \n",
       "4    New York, NY     51 - 200      1998  ...      0      0       0  0     0   \n",
       "\n",
       "   mongo  google_an   job_title_sim  seniority_by_title  Degree  \n",
       "0      0          0  data scientist                  na       M  \n",
       "1      0          0  data scientist                  na       M  \n",
       "2      0          0  data scientist                  na       M  \n",
       "3      0          0  data scientist                  na      na  \n",
       "4      0          0  data scientist                  na      na  \n",
       "\n",
       "[5 rows x 42 columns]"
      ]
     },
     "execution_count": 50,
     "metadata": {},
     "output_type": "execute_result"
    }
   ],
   "source": [
    "ds_salary_df = pd.read_csv('data_scientist_salary.csv')\n",
    "ds_salary_df.head()"
   ]
  },
  {
   "cell_type": "markdown",
   "metadata": {
    "scrolled": true
   },
   "source": [
    "- Bỏ cột **index**, sử dụng theo index của pandas, vì theo quan sát ta thấy cột này chỉ chỉ mục của dòng nhưng lại không liên tục."
   ]
  },
  {
   "cell_type": "code",
   "execution_count": 51,
   "metadata": {},
   "outputs": [],
   "source": [
    "ds_salary_df = ds_salary_df.drop(columns = ['index'])"
   ]
  },
  {
   "cell_type": "markdown",
   "metadata": {},
   "source": [
    "### Dữ liệu có bao nhiêu dòng và bao nhiêu cột?"
   ]
  },
  {
   "cell_type": "markdown",
   "metadata": {},
   "source": [
    "- Biến num_rows và num_columns chỉ số dòng và số cột của dữ liệu"
   ]
  },
  {
   "cell_type": "code",
   "execution_count": 52,
   "metadata": {},
   "outputs": [
    {
     "data": {
      "text/plain": [
       "(742, 41)"
      ]
     },
     "execution_count": 52,
     "metadata": {},
     "output_type": "execute_result"
    }
   ],
   "source": [
    "num_rows = len(ds_salary_df)\n",
    "num_columns = len(ds_salary_df.columns)\n",
    "num_rows, num_columns"
   ]
  },
  {
   "cell_type": "markdown",
   "metadata": {},
   "source": [
    "- Dữ liệu có 742 dòng và 42 cột"
   ]
  },
  {
   "cell_type": "markdown",
   "metadata": {},
   "source": [
    "### Mỗi dòng có ý nghĩa gì? Có vấn đề các dòng có ý nghĩa khác nhau không?"
   ]
  },
  {
   "cell_type": "markdown",
   "metadata": {},
   "source": [
    "- Mỗi dòng có thông tin về mức lương tối thiểu, mức lương tối đa, mô tả về công việc, công ty,... liên quan đến nhà khoa học dữ liệu. Theo quan sát sơ bộ và mô tả về dữ liệu thì không có dòng nào có ý nghĩa khác."
   ]
  },
  {
   "cell_type": "markdown",
   "metadata": {},
   "source": [
    "### Dữ liệu có các dòng bị lặp không?"
   ]
  },
  {
   "cell_type": "markdown",
   "metadata": {},
   "source": [
    "- Biến duplicated_rows dùng để kiểm tra có dòng lặp hay không bằng phương thức duplicated của pandas, trả về True nếu bị lặp, ngược lại là False."
   ]
  },
  {
   "cell_type": "code",
   "execution_count": 53,
   "metadata": {
    "scrolled": false
   },
   "outputs": [
    {
     "data": {
      "text/plain": [
       "True"
      ]
     },
     "execution_count": 53,
     "metadata": {},
     "output_type": "execute_result"
    }
   ],
   "source": [
    "duplicated_rows = ds_salary_df.duplicated().any()\n",
    "duplicated_rows"
   ]
  },
  {
   "cell_type": "markdown",
   "metadata": {},
   "source": [
    "- Do dữ liệu có dòng bị lặp nên mình tiến hành loại bỏ các dòng bị lặp, chỉ giữ lại dòng đầu tiên."
   ]
  },
  {
   "cell_type": "code",
   "execution_count": 54,
   "metadata": {},
   "outputs": [
    {
     "data": {
      "text/plain": [
       "(467, 41)"
      ]
     },
     "execution_count": 54,
     "metadata": {},
     "output_type": "execute_result"
    }
   ],
   "source": [
    "ds_salary_df = ds_salary_df.drop_duplicates()\n",
    "ds_salary_df.shape"
   ]
  },
  {
   "cell_type": "markdown",
   "metadata": {},
   "source": [
    "### Mỗi cột có ý nghĩa gì?"
   ]
  },
  {
   "cell_type": "markdown",
   "metadata": {},
   "source": [
    "Dưới đây là phần mô tả về các cột trong file \"data_scientist_salary\":\n",
    "- **Job title**: Chức danh của công việc, ví dụ: Data scientist, junior data scientist, senior data scientist, ...\n",
    "- **Salary Estimate**: Khoảng lương và nguồn lấy thông tin.\n",
    "- **Job Description**: Mô tả chung về công việc, cho biết các yêu cầu kỹ năng mà công ty mong muốn và những việc mà người trúng tuyển sẽ đảm nhiệm.\n",
    "- **Rating**: Điểm đánh giá cho công ty.\n",
    "- **Company Name**: Tên công ty.\n",
    "- **Location**: Địa điểm làm việc.\n",
    "- **Headquarters**: Địa điểm trụ sở chính của công ty.\n",
    "- **Size**: Quy mô nhân lực của công ty.\n",
    "- **Founded**: Năm thành lập công ty. \n",
    "- **Type of ownership**: Cho biết đây là công ty tư nhân, đại chúng hay thuộc nhà nước. \n",
    "- **Industry**: Cho biết hoạt động kinh doanh của công ty thuộc ngành công nghiệp nào, ví dụ: công nghệ thông tin, công nghiệp dược phẩm, ... \n",
    "- **Sector**: Lĩnh vực mà công ty hoạt động.\n",
    "- **Revenue**: Tổng số doanh thu hàng năm của công ty. \n",
    "- **Competitors**: Cho biết những đối thủ cạnh tranh hiện tại của công ty. \n",
    "- **Hourly**: Có giá trị 1 nếu mức lương được báo cáo theo giờ và có giá trị là 0 ở các trường hợp còn lại.\n",
    "- **Employer provided**: Có giá trị là 1 nếu mức lương được cung cấp bởi nhà tuyển dụng và có giá trị là 0 ở các trường hợp còn lại.\n",
    "- **Lower Salary**: Mức lương tối thiểu cho công việc này của công ty.\n",
    "- **Upper Salary**: Mức lương tối đa cho công việc này của công ty.\n",
    "- **Avg Salary(K)**: Mức lương trung bình cho công việc này của công ty.\n",
    "- **company_txt**: Chứa tên công ty.\n",
    "- **Job Location**: Tên viết tắt của vị trí công ty (bang).\n",
    "- **Age**: Tuổi của công ty (tính theo năm).\n",
    "- **Python -> google_an**: Có giá trị là 1 nếu công việc đòi hỏi kỹ năng ..., ngược lại có giá trị 0.\n",
    "- **job_title_sim**: Tên đơn giản của chức danh công việc.\n",
    "- **seniority_by_title**: Có chữ senior trong chức danh.\n",
    "- **Degree**: Có giá trị M nếu công việc yêu cầu bằng cấp hoặc số năm kinh nghiệm; có giá trị P trong các trường hợp còn lại."
   ]
  },
  {
   "cell_type": "markdown",
   "metadata": {},
   "source": [
    "**Nhận xét**\n",
    "- Ở đây có quá nhiều cột dữ liệu, vì vậy để dễ dàng theo dõi và nhận xét thì ta sẽ bỏ bớt các cột không cần thiết ví dụ như:\n",
    "    - Bỏ các cột có thông tin ngoài lề như: **Headquarters**(vị trí trụ sở), **Competitors**(Đối thủ cạnh tranh của cty), **Hourly**(lương theo giờ hay không), **Employer provided**(thông tin do nhân viên cung cấp hay không).\n",
    "    - Bỏ cột trùng dữ liệu: **company_txt**(tên của công ty) trùng với Company Name."
   ]
  },
  {
   "cell_type": "code",
   "execution_count": 55,
   "metadata": {},
   "outputs": [
    {
     "data": {
      "text/plain": [
       "(467, 36)"
      ]
     },
     "execution_count": 55,
     "metadata": {},
     "output_type": "execute_result"
    }
   ],
   "source": [
    "ds_salary_df = ds_salary_df.drop(columns = ['Headquarters','Competitors','Hourly', \\\n",
    "                                            'Employer provided','company_txt'])\n",
    "ds_salary_df.shape"
   ]
  },
  {
   "cell_type": "markdown",
   "metadata": {},
   "source": [
    "### Mỗi cột hiện đang có kiểu dữ liệu gì? Có cột nào có kiểu dữ liệu chưa phù hợp để có thể xử lý tiếp không?"
   ]
  },
  {
   "cell_type": "markdown",
   "metadata": {},
   "source": [
    "- Dùng chức năng dtypes để xem kiểu dữ liệu của các cột."
   ]
  },
  {
   "cell_type": "code",
   "execution_count": 56,
   "metadata": {
    "scrolled": true
   },
   "outputs": [
    {
     "data": {
      "text/plain": [
       "Job Title              object\n",
       "Salary Estimate        object\n",
       "Job Description        object\n",
       "Rating                float64\n",
       "Company Name           object\n",
       "Location               object\n",
       "Size                   object\n",
       "Founded                 int64\n",
       "Type of ownership      object\n",
       "Industry               object\n",
       "Sector                 object\n",
       "Revenue                object\n",
       "Lower Salary            int64\n",
       "Upper Salary            int64\n",
       "Avg Salary(K)         float64\n",
       "Job Location           object\n",
       "Age                     int64\n",
       "Python                  int64\n",
       "spark                   int64\n",
       "aws                     int64\n",
       "excel                   int64\n",
       "sql                     int64\n",
       "sas                     int64\n",
       "keras                   int64\n",
       "pytorch                 int64\n",
       "scikit                  int64\n",
       "tensor                  int64\n",
       "hadoop                  int64\n",
       "tableau                 int64\n",
       "bi                      int64\n",
       "flink                   int64\n",
       "mongo                   int64\n",
       "google_an               int64\n",
       "job_title_sim          object\n",
       "seniority_by_title     object\n",
       "Degree                 object\n",
       "dtype: object"
      ]
     },
     "execution_count": 56,
     "metadata": {},
     "output_type": "execute_result"
    }
   ],
   "source": [
    "col_dtypes = ds_salary_df.dtypes\n",
    "col_dtypes"
   ]
  },
  {
   "cell_type": "markdown",
   "metadata": {},
   "source": [
    "- Các cột có kiểu dữ liệu đã phù hợp ngoại trừ cột **Founded**: dùng để chỉ năm thành lập của công ty, nên chuyển thành datetime với format là '%Y'.\n",
    "- Tuy nhiên khi xử lý sẽ gặp lỗi bởi vì các giá trị thiếu được điền là '-1'. Vì vậy để dễ xử lý ta cần thay đổi các giá trị '-1' thành np.NaN."
   ]
  },
  {
   "cell_type": "code",
   "execution_count": 57,
   "metadata": {},
   "outputs": [
    {
     "data": {
      "text/plain": [
       "0   1973-01-01\n",
       "1   1984-01-01\n",
       "2   2010-01-01\n",
       "3   1965-01-01\n",
       "4   1998-01-01\n",
       "Name: Founded, dtype: datetime64[ns]"
      ]
     },
     "execution_count": 57,
     "metadata": {},
     "output_type": "execute_result"
    }
   ],
   "source": [
    "ds_salary_df = ds_salary_df.replace(-1, np.NaN)\n",
    "ds_salary_df['Founded'] = pd.to_datetime(ds_salary_df['Founded'],format = '%Y')\n",
    "ds_salary_df['Founded'].head()"
   ]
  },
  {
   "cell_type": "markdown",
   "metadata": {},
   "source": [
    "### Với mỗi cột có kiểu dữ liệu dạng số (numerical), các giá trị được phân bố như thế nào?\n",
    "(tính tỉ lệ các giá trị thiếu, min/max của các cột có kiểu dữ liệu dạng số)"
   ]
  },
  {
   "cell_type": "markdown",
   "metadata": {},
   "source": [
    "Vì các cột từ Python -> google_an: chỉ gồm 1 nếu công việc yêu cầu skill này hoặc ngược lại là 0 cho nên ta không cần xét sự phân bố các cột này. Các cột có kiểu dữ liệu dạng số (numerical) cần xét còn lại là: **\"Rating\", \"Lower Salary\", \"Upper Salary\", \"Avg Salary(K)\", \"Age\"**. \n",
    "\n",
    "Với mỗi cột này ta tính phần trăm các giá trị thiếu, min, max bằng cách dùng cấu trúc agg để tổng hợp các tính năng tính giá trị trong mỗi cột."
   ]
  },
  {
   "cell_type": "code",
   "execution_count": 58,
   "metadata": {
    "scrolled": true
   },
   "outputs": [
    {
     "data": {
      "text/html": [
       "<div>\n",
       "<style scoped>\n",
       "    .dataframe tbody tr th:only-of-type {\n",
       "        vertical-align: middle;\n",
       "    }\n",
       "\n",
       "    .dataframe tbody tr th {\n",
       "        vertical-align: top;\n",
       "    }\n",
       "\n",
       "    .dataframe thead th {\n",
       "        text-align: right;\n",
       "    }\n",
       "</style>\n",
       "<table border=\"1\" class=\"dataframe\">\n",
       "  <thead>\n",
       "    <tr style=\"text-align: right;\">\n",
       "      <th></th>\n",
       "      <th>Rating</th>\n",
       "      <th>Lower Salary</th>\n",
       "      <th>Upper Salary</th>\n",
       "      <th>Avg Salary(K)</th>\n",
       "      <th>Age</th>\n",
       "    </tr>\n",
       "  </thead>\n",
       "  <tbody>\n",
       "    <tr>\n",
       "      <th>missing_ratio</th>\n",
       "      <td>1.498929</td>\n",
       "      <td>0.0</td>\n",
       "      <td>0.0</td>\n",
       "      <td>0.0</td>\n",
       "      <td>7.066381</td>\n",
       "    </tr>\n",
       "    <tr>\n",
       "      <th>min</th>\n",
       "      <td>1.900000</td>\n",
       "      <td>15.0</td>\n",
       "      <td>16.0</td>\n",
       "      <td>15.5</td>\n",
       "      <td>2.000000</td>\n",
       "    </tr>\n",
       "    <tr>\n",
       "      <th>max</th>\n",
       "      <td>5.000000</td>\n",
       "      <td>202.0</td>\n",
       "      <td>306.0</td>\n",
       "      <td>254.0</td>\n",
       "      <td>277.000000</td>\n",
       "    </tr>\n",
       "  </tbody>\n",
       "</table>\n",
       "</div>"
      ],
      "text/plain": [
       "                 Rating  Lower Salary  Upper Salary  Avg Salary(K)         Age\n",
       "missing_ratio  1.498929           0.0           0.0            0.0    7.066381\n",
       "min            1.900000          15.0          16.0           15.5    2.000000\n",
       "max            5.000000         202.0         306.0          254.0  277.000000"
      ]
     },
     "execution_count": 58,
     "metadata": {},
     "output_type": "execute_result"
    }
   ],
   "source": [
    "numerical_df = ds_salary_df[[\"Rating\", \"Lower Salary\", \"Upper Salary\", \"Avg Salary(K)\", \"Age\"]]\n",
    "def missing_ratio(x):\n",
    "    return x.isna().mean() * 100\n",
    "\n",
    "numerical_df = numerical_df.agg([missing_ratio, pd.Series.min, pd.Series.max])\n",
    "numerical_df"
   ]
  },
  {
   "cell_type": "markdown",
   "metadata": {
    "scrolled": true
   },
   "source": [
    "- Ta có thể thấy min/max các cột không có gì bất thường, ngoại trừ Age của 1 công ty có tuổi '277'?"
   ]
  },
  {
   "cell_type": "markdown",
   "metadata": {},
   "source": [
    "### Với mỗi cột có kiểu dữ liệu dạng phân loại (categorical), các giá trị được phân bố như thế nào?\n",
    "(tính tỉ lệ các giá trị thiếu, số lượng các giá trị khác nhau, show một vài giá trị)"
   ]
  },
  {
   "cell_type": "markdown",
   "metadata": {},
   "source": [
    "Theo như quan sát và tìm hiểu dữ liệu thì các cột categorical của dữ liệu trên sẽ là các cột có dtypes là object.\n",
    "\n",
    "Tuy nhiên: \n",
    "- Ở các cột **seniority_by_title**, **Degree** thì các giá trị thiếu được điền là na -> cần chuyển thành np.NaN để có thể hoạt động tốt trên các hàm của pandas.\n",
    "- Ở cột **Revenue** thì các giá trị thiếu được điền là Unknown -> cần chuyển thành np.NaN"
   ]
  },
  {
   "cell_type": "code",
   "execution_count": 59,
   "metadata": {},
   "outputs": [],
   "source": [
    "ds_salary_df = ds_salary_df.replace(['na', 'Unknown / Non-Applicable'], np.NaN)"
   ]
  },
  {
   "cell_type": "code",
   "execution_count": 60,
   "metadata": {
    "scrolled": true
   },
   "outputs": [
    {
     "data": {
      "text/html": [
       "<div>\n",
       "<style scoped>\n",
       "    .dataframe tbody tr th:only-of-type {\n",
       "        vertical-align: middle;\n",
       "    }\n",
       "\n",
       "    .dataframe tbody tr th {\n",
       "        vertical-align: top;\n",
       "    }\n",
       "\n",
       "    .dataframe thead th {\n",
       "        text-align: right;\n",
       "    }\n",
       "</style>\n",
       "<table border=\"1\" class=\"dataframe\">\n",
       "  <thead>\n",
       "    <tr style=\"text-align: right;\">\n",
       "      <th></th>\n",
       "      <th>Job Title</th>\n",
       "      <th>Salary Estimate</th>\n",
       "      <th>Job Description</th>\n",
       "      <th>Company Name</th>\n",
       "      <th>Location</th>\n",
       "      <th>Size</th>\n",
       "      <th>Type of ownership</th>\n",
       "      <th>Industry</th>\n",
       "      <th>Sector</th>\n",
       "      <th>Revenue</th>\n",
       "      <th>Job Location</th>\n",
       "      <th>job_title_sim</th>\n",
       "      <th>seniority_by_title</th>\n",
       "      <th>Degree</th>\n",
       "    </tr>\n",
       "  </thead>\n",
       "  <tbody>\n",
       "    <tr>\n",
       "      <th>missing_ratio</th>\n",
       "      <td>0</td>\n",
       "      <td>0</td>\n",
       "      <td>0</td>\n",
       "      <td>0</td>\n",
       "      <td>0</td>\n",
       "      <td>0</td>\n",
       "      <td>0</td>\n",
       "      <td>0</td>\n",
       "      <td>0</td>\n",
       "      <td>28.6938</td>\n",
       "      <td>0</td>\n",
       "      <td>1.2848</td>\n",
       "      <td>72.8051</td>\n",
       "      <td>52.4625</td>\n",
       "    </tr>\n",
       "    <tr>\n",
       "      <th>num_diff_vals</th>\n",
       "      <td>264</td>\n",
       "      <td>416</td>\n",
       "      <td>463</td>\n",
       "      <td>343</td>\n",
       "      <td>200</td>\n",
       "      <td>8</td>\n",
       "      <td>9</td>\n",
       "      <td>60</td>\n",
       "      <td>25</td>\n",
       "      <td>12</td>\n",
       "      <td>37</td>\n",
       "      <td>9</td>\n",
       "      <td>2</td>\n",
       "      <td>2</td>\n",
       "    </tr>\n",
       "    <tr>\n",
       "      <th>diff_vals</th>\n",
       "      <td>[Data Scientist, Healthcare Data Scientist, Re...</td>\n",
       "      <td>[$53K-$91K (Glassdoor est.), $63K-$112K (Glass...</td>\n",
       "      <td>[Data Scientist\\r\\nLocation: Albuquerque, NM\\r...</td>\n",
       "      <td>[Tecolote Research\\r\\n3.8, University of Maryl...</td>\n",
       "      <td>[Albuquerque, NM, Linthicum, MD, Clearwater, F...</td>\n",
       "      <td>[501 - 1000 , 10000+ , 1001 - 5000 , 51 - 200 ...</td>\n",
       "      <td>[Company - Private, Other Organization, Govern...</td>\n",
       "      <td>[Aerospace &amp; Defense, Health Care Services &amp; H...</td>\n",
       "      <td>[Aerospace &amp; Defense, Health Care, Business Se...</td>\n",
       "      <td>[$50 to $100 million (USD), $2 to $5 billion (...</td>\n",
       "      <td>[NM, MD, FL, WA, NY, TX, CA, VA, MA, NJ, CO, I...</td>\n",
       "      <td>[data scientist, other scientist, analyst, dat...</td>\n",
       "      <td>[sr, jr]</td>\n",
       "      <td>[M, P]</td>\n",
       "    </tr>\n",
       "  </tbody>\n",
       "</table>\n",
       "</div>"
      ],
      "text/plain": [
       "                                                       Job Title  \\\n",
       "missing_ratio                                                  0   \n",
       "num_diff_vals                                                264   \n",
       "diff_vals      [Data Scientist, Healthcare Data Scientist, Re...   \n",
       "\n",
       "                                                 Salary Estimate  \\\n",
       "missing_ratio                                                  0   \n",
       "num_diff_vals                                                416   \n",
       "diff_vals      [$53K-$91K (Glassdoor est.), $63K-$112K (Glass...   \n",
       "\n",
       "                                                 Job Description  \\\n",
       "missing_ratio                                                  0   \n",
       "num_diff_vals                                                463   \n",
       "diff_vals      [Data Scientist\\r\\nLocation: Albuquerque, NM\\r...   \n",
       "\n",
       "                                                    Company Name  \\\n",
       "missing_ratio                                                  0   \n",
       "num_diff_vals                                                343   \n",
       "diff_vals      [Tecolote Research\\r\\n3.8, University of Maryl...   \n",
       "\n",
       "                                                        Location  \\\n",
       "missing_ratio                                                  0   \n",
       "num_diff_vals                                                200   \n",
       "diff_vals      [Albuquerque, NM, Linthicum, MD, Clearwater, F...   \n",
       "\n",
       "                                                            Size  \\\n",
       "missing_ratio                                                  0   \n",
       "num_diff_vals                                                  8   \n",
       "diff_vals      [501 - 1000 , 10000+ , 1001 - 5000 , 51 - 200 ...   \n",
       "\n",
       "                                               Type of ownership  \\\n",
       "missing_ratio                                                  0   \n",
       "num_diff_vals                                                  9   \n",
       "diff_vals      [Company - Private, Other Organization, Govern...   \n",
       "\n",
       "                                                        Industry  \\\n",
       "missing_ratio                                                  0   \n",
       "num_diff_vals                                                 60   \n",
       "diff_vals      [Aerospace & Defense, Health Care Services & H...   \n",
       "\n",
       "                                                          Sector  \\\n",
       "missing_ratio                                                  0   \n",
       "num_diff_vals                                                 25   \n",
       "diff_vals      [Aerospace & Defense, Health Care, Business Se...   \n",
       "\n",
       "                                                         Revenue  \\\n",
       "missing_ratio                                            28.6938   \n",
       "num_diff_vals                                                 12   \n",
       "diff_vals      [$50 to $100 million (USD), $2 to $5 billion (...   \n",
       "\n",
       "                                                    Job Location  \\\n",
       "missing_ratio                                                  0   \n",
       "num_diff_vals                                                 37   \n",
       "diff_vals      [NM, MD, FL, WA, NY, TX, CA, VA, MA, NJ, CO, I...   \n",
       "\n",
       "                                                   job_title_sim  \\\n",
       "missing_ratio                                             1.2848   \n",
       "num_diff_vals                                                  9   \n",
       "diff_vals      [data scientist, other scientist, analyst, dat...   \n",
       "\n",
       "              seniority_by_title   Degree  \n",
       "missing_ratio            72.8051  52.4625  \n",
       "num_diff_vals                  2        2  \n",
       "diff_vals               [sr, jr]   [M, P]  "
      ]
     },
     "execution_count": 60,
     "metadata": {},
     "output_type": "execute_result"
    }
   ],
   "source": [
    "columns_cate = list(ds_salary_df.dtypes[ds_salary_df.dtypes == 'object'].index)\n",
    "categorical_df = ds_salary_df[columns_cate]\n",
    "def diff_vals(s):\n",
    "    return s.dropna().unique()\n",
    "def num_diff_vals(s):\n",
    "    return s.nunique()\n",
    "categorical_df = categorical_df.agg([missing_ratio,num_diff_vals,diff_vals])\n",
    "categorical_df"
   ]
  },
  {
   "cell_type": "markdown",
   "metadata": {},
   "source": [
    "## 3. Đưa ra các câu hỏi có ý nghĩa cần trả lời"
   ]
  },
  {
   "cell_type": "markdown",
   "metadata": {},
   "source": [
    "### Câu hỏi 1: \n",
    "***Các kĩ năng cần thiết của các công việc trong lĩnh vực khoa học dữ liệu là gì? Các công việc nào có lương trung bình cao nhất?***"
   ]
  },
  {
   "cell_type": "markdown",
   "metadata": {},
   "source": [
    "- Trả lời được có lợi ích gì?\n",
    "\n",
    "Liên quan đến lĩnh vực khoa học dữ liệu cần có rất nhiều kĩ năng, tuy nhiên tùy vào mỗi công việc mà mình chọn thì chỉ nên tập trung vào các kĩ năng cần thiết. Vì vậy việc lọc các kĩ năng yêu cầu của từng công việc sẽ giúp người học có cái nhìn tổng quát và lựa chọn kĩ năng để có thể phù hợp với công việc đó. Ví dụ như công việc data scientist: mình sẽ nên học python, exel hay sql,... để phục vụ công việc chứ không nên học tất cả, còn data analyst thì sẽ có các yêu cầu kĩ năng khác.\n",
    "\n",
    "Bên cạnh đó, cũng biết được mức lương trung bình của các công việc thuộc lĩnh vực khoa học dữ liệu, người đọc có thể lựa chọn công việc mình theo đuổi rồi chuẩn bị các skill mà công việc yêu cầu."
   ]
  },
  {
   "cell_type": "markdown",
   "metadata": {},
   "source": [
    "### Câu hỏi 2:"
   ]
  },
  {
   "cell_type": "markdown",
   "metadata": {},
   "source": [
    "***Những ngành công nghiệp nào tuyển nhiều vị trí liên quan đến khoa học dữ liệu nhất nhất? Liệu mức lương ở các ngành này có khác nhau và đâu là top các ngành có mức lương cao nhất?***"
   ]
  },
  {
   "cell_type": "markdown",
   "metadata": {},
   "source": [
    "- Trả lời được có lợi ích gì?"
   ]
  },
  {
   "cell_type": "markdown",
   "metadata": {},
   "source": [
    "Các công việc liên quan đến khoa học dữ liệu không chỉ đòi hỏi nhà khoa học dữ liệu phải có kiến thức chuyên môn về khoa học dữ liệu mà còn đòi hỏi sự hiểu biết về dữ liệu trong lĩnh vực cụ thể mà họ đang nghiên cứu. Do đó, việc tìm hiểu xem các ngành nào tuyển nhiều vị trí liên quan dến khoa học dữ liệu và khám phá sự chênh lệch mức lương ở các ngành có thể giúp người học đưa ra định hướng nghề nghiệp phù hợp trong tương lai. (Ví dụ: nếu muốn làm việc trong lĩnh vực y tế, người học KHDL có thể tìm học các khóa học về xử lý dữ liệu trong ngành y).\n",
    "\n",
    "Ngoài ra, phân tích còn cung cấp một cái nhìn tổng quan về thực trạng ứng dụng khoa học dữ liệu vào các ngành công nghiệp và đời sống."
   ]
  },
  {
   "cell_type": "markdown",
   "metadata": {},
   "source": [
    "### Câu hỏi 3:"
   ]
  },
  {
   "cell_type": "markdown",
   "metadata": {},
   "source": [
    "***Phân bố việc làm khoa học dữ liệu ở mỗi bang như thế nào? Đâu là top các bang và thành phố có nhiều việc làm liên quan đến khoa học dữ liệu nhất?***"
   ]
  },
  {
   "cell_type": "markdown",
   "metadata": {},
   "source": [
    "- Trả lời được có lợi ích gì?"
   ]
  },
  {
   "cell_type": "markdown",
   "metadata": {},
   "source": [
    "Việc tìm ra các bang có phân bố việc làm liên quan đến KHDL lớn nhất có thể giúp cho người tìm việc đưa ra quyết định phù hợp về nơi mà họ sẽ định cư. Ví dụ, khi một nhà KHDL muốn chuyển công ty do muốn học hỏi thêm hoặc do không phù hợp với công ty hiện tại, nếu nhà KHDL này ở một bang có nhiều việc làm KHDL, việc chuyển đổi này sẽ diễn ra dễ dàng hơn.\n",
    "\n",
    "Vì phạm vi của mỗi bang là rất lớn, để thu hẹp hơn, ta đồng thời tìm ra top các thành phố mà có nhiều việc làm về KHDL nhất ở mỗi bang."
   ]
  },
  {
   "cell_type": "markdown",
   "metadata": {},
   "source": [
    "## 4. Tiền xử lý và phân tích dữ liệu để trả lời các câu hỏi"
   ]
  },
  {
   "cell_type": "markdown",
   "metadata": {},
   "source": [
    "## Câu hỏi 1: \n",
    "***Các kĩ năng cần thiết của các công việc trong lĩnh vực khoa học dữ liệu là gì? Top các công việc có lương trung bình cao nhất?*** "
   ]
  },
  {
   "cell_type": "markdown",
   "metadata": {},
   "source": [
    "### Phân tích dữ liệu\n",
    "#### Các kĩ năng cần thiết của các công việc trong lĩnh vực khoa học dữ liệu là gì?\n",
    "Trong dữ liệu trên, có các cột skill như Python, sql, excel, mongo,... khi nào công việc yêu cầu thì giá trị sẽ là 1, ngược lại sẽ là 0. Do đó để trả lời câu hỏi ta cần các bước sau:\n",
    "- Bước 1: Gom nhóm các đối tượng theo job title sim, rồi đếm tổng các giá trị của cột skill ứng với từng đối tượng.\n",
    "- Bước 2: Chuẩn hóa các hàng theo giá trị lớn nhất trong mỗi hàng. Từ kết quả này vẽ biểu đồ heatmap để thể hiện thông tin."
   ]
  },
  {
   "cell_type": "markdown",
   "metadata": {},
   "source": [
    "Code bước 1"
   ]
  },
  {
   "cell_type": "code",
   "execution_count": 61,
   "metadata": {
    "scrolled": false
   },
   "outputs": [
    {
     "data": {
      "text/html": [
       "<div>\n",
       "<style scoped>\n",
       "    .dataframe tbody tr th:only-of-type {\n",
       "        vertical-align: middle;\n",
       "    }\n",
       "\n",
       "    .dataframe tbody tr th {\n",
       "        vertical-align: top;\n",
       "    }\n",
       "\n",
       "    .dataframe thead th {\n",
       "        text-align: right;\n",
       "    }\n",
       "</style>\n",
       "<table border=\"1\" class=\"dataframe\">\n",
       "  <thead>\n",
       "    <tr style=\"text-align: right;\">\n",
       "      <th></th>\n",
       "      <th>Python</th>\n",
       "      <th>spark</th>\n",
       "      <th>aws</th>\n",
       "      <th>excel</th>\n",
       "      <th>sql</th>\n",
       "      <th>sas</th>\n",
       "      <th>keras</th>\n",
       "      <th>pytorch</th>\n",
       "      <th>scikit</th>\n",
       "      <th>tensor</th>\n",
       "      <th>hadoop</th>\n",
       "      <th>tableau</th>\n",
       "      <th>bi</th>\n",
       "      <th>flink</th>\n",
       "      <th>mongo</th>\n",
       "      <th>google_an</th>\n",
       "    </tr>\n",
       "    <tr>\n",
       "      <th>job_title_sim</th>\n",
       "      <th></th>\n",
       "      <th></th>\n",
       "      <th></th>\n",
       "      <th></th>\n",
       "      <th></th>\n",
       "      <th></th>\n",
       "      <th></th>\n",
       "      <th></th>\n",
       "      <th></th>\n",
       "      <th></th>\n",
       "      <th></th>\n",
       "      <th></th>\n",
       "      <th></th>\n",
       "      <th></th>\n",
       "      <th></th>\n",
       "      <th></th>\n",
       "    </tr>\n",
       "  </thead>\n",
       "  <tbody>\n",
       "    <tr>\n",
       "      <th>Data scientist project manager</th>\n",
       "      <td>3</td>\n",
       "      <td>0</td>\n",
       "      <td>2</td>\n",
       "      <td>6</td>\n",
       "      <td>5</td>\n",
       "      <td>0</td>\n",
       "      <td>0</td>\n",
       "      <td>0</td>\n",
       "      <td>0</td>\n",
       "      <td>0</td>\n",
       "      <td>0</td>\n",
       "      <td>5</td>\n",
       "      <td>1</td>\n",
       "      <td>0</td>\n",
       "      <td>0</td>\n",
       "      <td>0</td>\n",
       "    </tr>\n",
       "    <tr>\n",
       "      <th>analyst</th>\n",
       "      <td>22</td>\n",
       "      <td>4</td>\n",
       "      <td>8</td>\n",
       "      <td>54</td>\n",
       "      <td>53</td>\n",
       "      <td>5</td>\n",
       "      <td>0</td>\n",
       "      <td>0</td>\n",
       "      <td>0</td>\n",
       "      <td>0</td>\n",
       "      <td>2</td>\n",
       "      <td>27</td>\n",
       "      <td>13</td>\n",
       "      <td>0</td>\n",
       "      <td>2</td>\n",
       "      <td>5</td>\n",
       "    </tr>\n",
       "    <tr>\n",
       "      <th>data analitics</th>\n",
       "      <td>4</td>\n",
       "      <td>0</td>\n",
       "      <td>0</td>\n",
       "      <td>2</td>\n",
       "      <td>3</td>\n",
       "      <td>1</td>\n",
       "      <td>0</td>\n",
       "      <td>0</td>\n",
       "      <td>0</td>\n",
       "      <td>0</td>\n",
       "      <td>0</td>\n",
       "      <td>3</td>\n",
       "      <td>1</td>\n",
       "      <td>0</td>\n",
       "      <td>0</td>\n",
       "      <td>0</td>\n",
       "    </tr>\n",
       "    <tr>\n",
       "      <th>data engineer</th>\n",
       "      <td>48</td>\n",
       "      <td>42</td>\n",
       "      <td>35</td>\n",
       "      <td>35</td>\n",
       "      <td>56</td>\n",
       "      <td>1</td>\n",
       "      <td>0</td>\n",
       "      <td>0</td>\n",
       "      <td>0</td>\n",
       "      <td>1</td>\n",
       "      <td>32</td>\n",
       "      <td>9</td>\n",
       "      <td>3</td>\n",
       "      <td>5</td>\n",
       "      <td>8</td>\n",
       "      <td>0</td>\n",
       "    </tr>\n",
       "    <tr>\n",
       "      <th>data modeler</th>\n",
       "      <td>1</td>\n",
       "      <td>1</td>\n",
       "      <td>2</td>\n",
       "      <td>3</td>\n",
       "      <td>3</td>\n",
       "      <td>0</td>\n",
       "      <td>0</td>\n",
       "      <td>0</td>\n",
       "      <td>0</td>\n",
       "      <td>0</td>\n",
       "      <td>1</td>\n",
       "      <td>0</td>\n",
       "      <td>1</td>\n",
       "      <td>0</td>\n",
       "      <td>0</td>\n",
       "      <td>0</td>\n",
       "    </tr>\n",
       "    <tr>\n",
       "      <th>data scientist</th>\n",
       "      <td>163</td>\n",
       "      <td>59</td>\n",
       "      <td>49</td>\n",
       "      <td>105</td>\n",
       "      <td>121</td>\n",
       "      <td>34</td>\n",
       "      <td>19</td>\n",
       "      <td>20</td>\n",
       "      <td>33</td>\n",
       "      <td>41</td>\n",
       "      <td>41</td>\n",
       "      <td>52</td>\n",
       "      <td>19</td>\n",
       "      <td>3</td>\n",
       "      <td>13</td>\n",
       "      <td>3</td>\n",
       "    </tr>\n",
       "    <tr>\n",
       "      <th>director</th>\n",
       "      <td>0</td>\n",
       "      <td>0</td>\n",
       "      <td>1</td>\n",
       "      <td>1</td>\n",
       "      <td>0</td>\n",
       "      <td>0</td>\n",
       "      <td>0</td>\n",
       "      <td>0</td>\n",
       "      <td>0</td>\n",
       "      <td>0</td>\n",
       "      <td>0</td>\n",
       "      <td>0</td>\n",
       "      <td>0</td>\n",
       "      <td>0</td>\n",
       "      <td>0</td>\n",
       "      <td>0</td>\n",
       "    </tr>\n",
       "    <tr>\n",
       "      <th>machine learning engineer</th>\n",
       "      <td>10</td>\n",
       "      <td>2</td>\n",
       "      <td>4</td>\n",
       "      <td>4</td>\n",
       "      <td>7</td>\n",
       "      <td>0</td>\n",
       "      <td>0</td>\n",
       "      <td>3</td>\n",
       "      <td>4</td>\n",
       "      <td>5</td>\n",
       "      <td>2</td>\n",
       "      <td>0</td>\n",
       "      <td>0</td>\n",
       "      <td>0</td>\n",
       "      <td>0</td>\n",
       "      <td>0</td>\n",
       "    </tr>\n",
       "    <tr>\n",
       "      <th>other scientist</th>\n",
       "      <td>6</td>\n",
       "      <td>0</td>\n",
       "      <td>8</td>\n",
       "      <td>35</td>\n",
       "      <td>2</td>\n",
       "      <td>1</td>\n",
       "      <td>0</td>\n",
       "      <td>1</td>\n",
       "      <td>0</td>\n",
       "      <td>1</td>\n",
       "      <td>0</td>\n",
       "      <td>0</td>\n",
       "      <td>0</td>\n",
       "      <td>0</td>\n",
       "      <td>0</td>\n",
       "      <td>0</td>\n",
       "    </tr>\n",
       "  </tbody>\n",
       "</table>\n",
       "</div>"
      ],
      "text/plain": [
       "                                Python  spark  aws  excel  sql  sas  keras  \\\n",
       "job_title_sim                                                                \n",
       "Data scientist project manager       3      0    2      6    5    0      0   \n",
       "analyst                             22      4    8     54   53    5      0   \n",
       "data analitics                       4      0    0      2    3    1      0   \n",
       "data engineer                       48     42   35     35   56    1      0   \n",
       "data modeler                         1      1    2      3    3    0      0   \n",
       "data scientist                     163     59   49    105  121   34     19   \n",
       "director                             0      0    1      1    0    0      0   \n",
       "machine learning engineer           10      2    4      4    7    0      0   \n",
       "other scientist                      6      0    8     35    2    1      0   \n",
       "\n",
       "                                pytorch  scikit  tensor  hadoop  tableau  bi  \\\n",
       "job_title_sim                                                                  \n",
       "Data scientist project manager        0       0       0       0        5   1   \n",
       "analyst                               0       0       0       2       27  13   \n",
       "data analitics                        0       0       0       0        3   1   \n",
       "data engineer                         0       0       1      32        9   3   \n",
       "data modeler                          0       0       0       1        0   1   \n",
       "data scientist                       20      33      41      41       52  19   \n",
       "director                              0       0       0       0        0   0   \n",
       "machine learning engineer             3       4       5       2        0   0   \n",
       "other scientist                       1       0       1       0        0   0   \n",
       "\n",
       "                                flink  mongo  google_an  \n",
       "job_title_sim                                            \n",
       "Data scientist project manager      0      0          0  \n",
       "analyst                             0      2          5  \n",
       "data analitics                      0      0          0  \n",
       "data engineer                       5      8          0  \n",
       "data modeler                        0      0          0  \n",
       "data scientist                      3     13          3  \n",
       "director                            0      0          0  \n",
       "machine learning engineer           0      0          0  \n",
       "other scientist                     0      0          0  "
      ]
     },
     "execution_count": 61,
     "metadata": {},
     "output_type": "execute_result"
    }
   ],
   "source": [
    "skill_names = ['Python','spark','aws','excel','sql','sas','keras','pytorch','scikit', \\\n",
    "               'tensor','hadoop','tableau','bi','flink','mongo','google_an']\n",
    "\n",
    "#gom nhóm theo job title, rồi tính tổng các cột trong skill name\n",
    "job_skills = ds_salary_df.groupby('job_title_sim')[skill_names].sum()\n",
    "job_skills"
   ]
  },
  {
   "cell_type": "markdown",
   "metadata": {},
   "source": [
    "Code bước 2"
   ]
  },
  {
   "cell_type": "code",
   "execution_count": 62,
   "metadata": {
    "scrolled": false
   },
   "outputs": [
    {
     "data": {
      "image/png": "[encoded data removed]",
      "text/plain": [
       "<Figure size 1080x1080 with 1 Axes>"
      ]
     },
     "metadata": {
      "needs_background": "light"
     },
     "output_type": "display_data"
    }
   ],
   "source": [
    "#Chuẩn hóa các giá trị theo max của từng hàng\n",
    "job_skills_normalize = job_skills.div(job_skills.max(axis=1), axis=0)\n",
    "\n",
    "#Vẽ biểu đồ heatmap để thể hiện\n",
    "plt.figure(figsize=(15, 15))\n",
    "sns.heatmap(job_skills_normalize, vmin=0, vmax=1, square=True, annot=True, cbar=False, cmap='Blues')\n",
    "plt.title('Kĩ năng cần thiết ứng với các công việc trong ngành khoa học dữ liệu',size=16)\n",
    "plt.xlabel('skills');"
   ]
  },
  {
   "cell_type": "markdown",
   "metadata": {},
   "source": [
    "- Theo như quan sát sơ bộ thì các công việc trong lĩnh vực khoa học dữ liệu đa số đều cần các kĩ năng như **python, excel, sql** (với tỉ lệ cao nhất = 1 rất nhiều). Tuy nhiên ta cũng có thể dễ dàng theo dõi từng công việc như sau:\n",
    "    - **Data analytst** thì cần nhiều nhất là python, sql, tableau,...\n",
    "    - **Data engineer** thì lại cần sql, python, spark, aws, excel,hadoop\n",
    "    - **Data modeler** cần excel, sql, aws,...\n",
    "    - **Data scientist** cần nhiều nhất là python, sql, exel, spark,...\n",
    "    -...\n",
    "    \n",
    "Ta thấy có rất nhiều skill về lĩnh vực khoa học dữ liệu vì vậy ta không thể nào học hết tất cả được. Do đó tùy vào công việc mình muốn theo đuổi mà mình nên học chuyên sâu tìm hiểu một số skill chính để đáp ứng yêu cầu công việc tốt nhất."
   ]
  },
  {
   "cell_type": "markdown",
   "metadata": {},
   "source": [
    "#### Bên cạnh việc tìm hiểu các kĩ năng, người học cũng quan tâm rất nhiều về mức lương, vậy top các công việc có mức lương cao nhất trong lĩnh vực khoa học dữ liệu là gì?"
   ]
  },
  {
   "cell_type": "markdown",
   "metadata": {},
   "source": [
    "Để trả lời câu hỏi, ta thực hiện các bước sau:\n",
    "- Bước 1: Gom nhóm các đối tượng theo công việc(job title sim) rồi tính trung bình về mức lương.\n",
    "- Bước 2: Vẽ biểu đồ barh thể hiện."
   ]
  },
  {
   "cell_type": "markdown",
   "metadata": {},
   "source": [
    "Code bước 1"
   ]
  },
  {
   "cell_type": "code",
   "execution_count": 63,
   "metadata": {
    "scrolled": true
   },
   "outputs": [
    {
     "data": {
      "text/plain": [
       "job_title_sim\n",
       "director                          137.666667\n",
       "machine learning engineer         128.045455\n",
       "data scientist                    116.336493\n",
       "data engineer                     102.866667\n",
       "other scientist                    90.905405\n",
       "data modeler                       84.000000\n",
       "Data scientist project manager     74.562500\n",
       "data analitics                     72.500000\n",
       "analyst                            68.428571\n",
       "Name: Avg Salary(K), dtype: float64"
      ]
     },
     "execution_count": 63,
     "metadata": {},
     "output_type": "execute_result"
    }
   ],
   "source": [
    "#Gom nhóm công việc rồi tính lương trung bình, sau đó sort theo giá trị giảm dần.\n",
    "job_salary_avg = ds_salary_df.groupby('job_title_sim')['Avg Salary(K)'].mean()\n",
    "job_salary_avg = job_salary_avg.sort_values(ascending = False)\n",
    "job_salary_avg"
   ]
  },
  {
   "cell_type": "markdown",
   "metadata": {},
   "source": [
    "Code bước 2"
   ]
  },
  {
   "cell_type": "code",
   "execution_count": 64,
   "metadata": {
    "scrolled": false
   },
   "outputs": [
    {
     "data": {
      "image/png": "[encoded data removed]",
      "text/plain": [
       "<Figure size 1080x504 with 1 Axes>"
      ]
     },
     "metadata": {
      "needs_background": "light"
     },
     "output_type": "display_data"
    }
   ],
   "source": [
    "#Vẽ biểu đồ barh để quan sát, điền thêm các giá trị của từng cột.\n",
    "plt.figure(figsize=(15, 7))\n",
    "ax = job_salary_avg.plot.barh()\n",
    "list_values = list(job_salary_avg.values.round(2))\n",
    "for i, v in enumerate(list_values):\n",
    "    ax.text(v, i - 0.1, str(v), color='blue', fontweight='bold')\n",
    "plt.title('Trung bình mức lương ứng với các công việc', size=16)\n",
    "plt.xlabel('Avg Salary');"
   ]
  },
  {
   "cell_type": "markdown",
   "metadata": {},
   "source": [
    "Không có gì bất ngờ khi director là công việc có lương trung bình cao nhất (137,67 K$). Tiếp theo là các công việc như machine learning engineer(128,05 K), data scientist(116,34 K), ... hoặc công việc có mức lương trung bình thấp nhất là analyst, data analyst.\n",
    "\n",
    "***Qua các phân tích ở trên ta biết được mức lương trung bình của các công việc cũng như các kĩ năng yêu cầu của các công việc này. Từ đó dễ dàng lựa chọn công việc cũng như các kĩ năng mà công việc yêu cầu để có thể tập trung chuyên sâu.***"
   ]
  },
  {
   "cell_type": "markdown",
   "metadata": {},
   "source": [
    "## Câu hỏi 2:"
   ]
  },
  {
   "cell_type": "markdown",
   "metadata": {},
   "source": [
    "***Phân bố việc làm khoa học dữ liệu ở mỗi bang như thế nào? Đâu là top các bang và thành phố có nhiều việc làm liên quan đến khoa học dữ liệu nhất?***"
   ]
  },
  {
   "cell_type": "markdown",
   "metadata": {},
   "source": [
    "### Tiền xử lý\n",
    "Các bước thực hiện:\n",
    "- Lấy ra cột Location là cột chứa dữ liệu cần để trả lời câu hỏi. Tuy nhiên, cột Location là tổ hợp của 2 thông tin gồm tên thành phố (hoặc thị trấn, ta xem như là tên thành phố) và tên bang. Do đó, ta cần tách cột Location ra thành 2 cột tên thành phố (City) và tên bang (State)."
   ]
  },
  {
   "cell_type": "code",
   "execution_count": 65,
   "metadata": {},
   "outputs": [
    {
     "data": {
      "text/html": [
       "<div>\n",
       "<style scoped>\n",
       "    .dataframe tbody tr th:only-of-type {\n",
       "        vertical-align: middle;\n",
       "    }\n",
       "\n",
       "    .dataframe tbody tr th {\n",
       "        vertical-align: top;\n",
       "    }\n",
       "\n",
       "    .dataframe thead th {\n",
       "        text-align: right;\n",
       "    }\n",
       "</style>\n",
       "<table border=\"1\" class=\"dataframe\">\n",
       "  <thead>\n",
       "    <tr style=\"text-align: right;\">\n",
       "      <th></th>\n",
       "      <th>0</th>\n",
       "      <th>1</th>\n",
       "      <th>2</th>\n",
       "    </tr>\n",
       "  </thead>\n",
       "  <tbody>\n",
       "    <tr>\n",
       "      <th>0</th>\n",
       "      <td>Albuquerque</td>\n",
       "      <td>NM</td>\n",
       "      <td>None</td>\n",
       "    </tr>\n",
       "    <tr>\n",
       "      <th>1</th>\n",
       "      <td>Linthicum</td>\n",
       "      <td>MD</td>\n",
       "      <td>None</td>\n",
       "    </tr>\n",
       "    <tr>\n",
       "      <th>2</th>\n",
       "      <td>Clearwater</td>\n",
       "      <td>FL</td>\n",
       "      <td>None</td>\n",
       "    </tr>\n",
       "  </tbody>\n",
       "</table>\n",
       "</div>"
      ],
      "text/plain": [
       "             0   1     2\n",
       "0  Albuquerque  NM  None\n",
       "1    Linthicum  MD  None\n",
       "2   Clearwater  FL  None"
      ]
     },
     "execution_count": 65,
     "metadata": {},
     "output_type": "execute_result"
    }
   ],
   "source": [
    "#lấy ra cột Location và thực hiện tách cột\n",
    "sub_df = ds_salary_df[\"Location\"]\n",
    "sub_df = sub_df.str.split(pat=\", \", expand=True)\n",
    "sub_df.head(3)"
   ]
  },
  {
   "cell_type": "markdown",
   "metadata": {},
   "source": [
    "Cột Location chỉ chứa 2 thông tin là tên thành phố (hoặc tên thị trấn) và tên bang, nhưng kết quả số cột sau khi tách ra từ cột Location lại là 3. Để tìm hiểu điều này, ta in ra tất cả các giá trị khác nhau trong cột thứ 3 này."
   ]
  },
  {
   "cell_type": "code",
   "execution_count": 66,
   "metadata": {},
   "outputs": [
    {
     "data": {
      "text/plain": [
       "array([None, 'CA'], dtype=object)"
      ]
     },
     "execution_count": 66,
     "metadata": {},
     "output_type": "execute_result"
    }
   ],
   "source": [
    "sub_df[2].unique()"
   ]
  },
  {
   "cell_type": "markdown",
   "metadata": {},
   "source": [
    "Kết quả cho thấy ngoài các giá trị None, cột này có xuất hiện giá trị \"CA\". Do đó, ta sẽ tìm tất cả các dòng có giá trị \"CA\" ở cột thứ 3 này."
   ]
  },
  {
   "cell_type": "code",
   "execution_count": 67,
   "metadata": {},
   "outputs": [
    {
     "data": {
      "text/html": [
       "<div>\n",
       "<style scoped>\n",
       "    .dataframe tbody tr th:only-of-type {\n",
       "        vertical-align: middle;\n",
       "    }\n",
       "\n",
       "    .dataframe tbody tr th {\n",
       "        vertical-align: top;\n",
       "    }\n",
       "\n",
       "    .dataframe thead th {\n",
       "        text-align: right;\n",
       "    }\n",
       "</style>\n",
       "<table border=\"1\" class=\"dataframe\">\n",
       "  <thead>\n",
       "    <tr style=\"text-align: right;\">\n",
       "      <th></th>\n",
       "      <th>0</th>\n",
       "      <th>1</th>\n",
       "      <th>2</th>\n",
       "    </tr>\n",
       "  </thead>\n",
       "  <tbody>\n",
       "    <tr>\n",
       "      <th>126</th>\n",
       "      <td>Santa Fe Springs</td>\n",
       "      <td>Los Angeles</td>\n",
       "      <td>CA</td>\n",
       "    </tr>\n",
       "  </tbody>\n",
       "</table>\n",
       "</div>"
      ],
      "text/plain": [
       "                    0            1   2\n",
       "126  Santa Fe Springs  Los Angeles  CA"
      ]
     },
     "execution_count": 67,
     "metadata": {},
     "output_type": "execute_result"
    }
   ],
   "source": [
    "sub_df[sub_df[2]==\"CA\"]"
   ]
  },
  {
   "cell_type": "markdown",
   "metadata": {},
   "source": [
    "Nguyên nhân do Santa Fe Springs là một thành phố nhỏ trong một thành phố lớn hơn là Los Angeles. Để xử lý ngoại lệ này, ta lựa chọn lấy tên thành phố là Los Angeles (vì các dòng dữ liệu khác cũng để tên thành phố là Los Angeles thay vì tên các thành phố nhỏ)."
   ]
  },
  {
   "cell_type": "code",
   "execution_count": 68,
   "metadata": {},
   "outputs": [],
   "source": [
    "#xóa cột thứ 3 chứa toàn giá trị None\n",
    "sub_df = sub_df.drop([2], axis=1)\n",
    "\n",
    "#đổi tên các cột thành \"City\" và \"State\"\n",
    "sub_df.rename(columns={0: \"City\", 1: \"State\"}, inplace=True)\n",
    "\n",
    "#đổi giá trị City và State ở dòng 126 thành Los Angeles và CA\n",
    "sub_df.iloc[126] = [\"Los Angeles\", \"CA\"]"
   ]
  },
  {
   "cell_type": "markdown",
   "metadata": {},
   "source": [
    "### Phân tích dữ liệu"
   ]
  },
  {
   "cell_type": "markdown",
   "metadata": {},
   "source": [
    "#### Các bang nào có số lượng việc làm liên quan đến KHDL cao nhất?"
   ]
  },
  {
   "cell_type": "markdown",
   "metadata": {},
   "source": [
    "Để trả lời câu hỏi, ta thực hiện các bước sau:\n",
    "- Bước 1: Đếm số lượng việc làm ở mỗi bang và sắp xếp theo giá trị giảm dần, sau đó lấy ra top 5 bang có số lượng việc làm cao nhất.\n",
    "- Bước 2: Tính tỉ trọng của mỗi bang bằng cách lấy số việc làm ở mỗi bang chia cho tổng số việc làm ở cả 5 bang. Vẽ biểu đồ tròn để minh họa."
   ]
  },
  {
   "cell_type": "markdown",
   "metadata": {},
   "source": [
    "Code bước 1:"
   ]
  },
  {
   "cell_type": "code",
   "execution_count": 69,
   "metadata": {},
   "outputs": [],
   "source": [
    "#lấy ra top5\n",
    "top5_states = sub_df.groupby(\"State\").size().sort_values(ascending=False)[:5]"
   ]
  },
  {
   "cell_type": "markdown",
   "metadata": {},
   "source": [
    "Code bước 2:"
   ]
  },
  {
   "cell_type": "code",
   "execution_count": 70,
   "metadata": {},
   "outputs": [
    {
     "data": {
      "image/png": "[encoded data removed]",
      "text/plain": [
       "<Figure size 432x288 with 1 Axes>"
      ]
     },
     "metadata": {},
     "output_type": "display_data"
    }
   ],
   "source": [
    "#tính tỉ lệ giữa các bang trong top 5 \n",
    "top5_ratio = top5_states / top5_states.sum() * 100\n",
    "\n",
    "#vẽ biểu đồ tròn để minh họa\n",
    "my_explode=(0.03, 0.1,0.1,0.1,0.1)\n",
    "plt.pie(top5_ratio, autopct='%1.2f%%',explode=my_explode, shadow=True,startangle=300)\n",
    "plt.title('\\n Top 5 bang tuyển dụng nhiều vị trí liên quan đến khoa học dữ liệu nhất \\n', size=12, color='black')\n",
    "plt.legend(labels=list(top5_ratio.index), bbox_to_anchor=(1,1))\n",
    "plt.show()"
   ]
  },
  {
   "cell_type": "markdown",
   "metadata": {},
   "source": [
    "Kết quả cho thấy 5 bang tuyển dụng nhiều vị trí liên quan đến KHDL nhất lần lượt là California (CA), Massachusetts (MA), New York (NY), Virginia (VA) và Illinois (IL). Trong đó, 2 bang CA và MA chiếm tỉ trọng lớn hơn hẳn các bang còn lại."
   ]
  },
  {
   "cell_type": "markdown",
   "metadata": {},
   "source": [
    "#### Ở mỗi bang, các thành phố nào có nhiều việc làm liên quan đến khoa học dữ liệu nhất?"
   ]
  },
  {
   "cell_type": "markdown",
   "metadata": {},
   "source": [
    "Để trả lời câu hỏi, ta thực hiện các bước sau:\n",
    "- Bước 1: Lấy ra các dòng dữ liệu có tên bang nằm trong top 5 bang có nhiều việc làm nhất và lưu vào biến top5_df.\n",
    "- Bước 2: Tính số lượng việc làm của mỗi thành phố thuộc các bang này, sau đó lọc ra 3 thành phố có nhiều việc làm nhất ở mỗi bang và lưu vào biến top_cities_states.\n",
    "- Bước 3: Vẽ biểu đồ cột minh họa sự chênh lệch số lượng việc làm ở mỗi thành phố."
   ]
  },
  {
   "cell_type": "markdown",
   "metadata": {},
   "source": [
    "Code bước 1:"
   ]
  },
  {
   "cell_type": "code",
   "execution_count": 71,
   "metadata": {},
   "outputs": [],
   "source": [
    "#lấy ra các dòng có tên bang nằm trong top 5 bang\n",
    "top5_df = sub_df[sub_df[\"State\"].isin(list(top5_states.index))]"
   ]
  },
  {
   "cell_type": "markdown",
   "metadata": {},
   "source": [
    "Code bước 2:"
   ]
  },
  {
   "cell_type": "code",
   "execution_count": 72,
   "metadata": {},
   "outputs": [
    {
     "data": {
      "text/html": [
       "<div>\n",
       "<style scoped>\n",
       "    .dataframe tbody tr th:only-of-type {\n",
       "        vertical-align: middle;\n",
       "    }\n",
       "\n",
       "    .dataframe tbody tr th {\n",
       "        vertical-align: top;\n",
       "    }\n",
       "\n",
       "    .dataframe thead th {\n",
       "        text-align: right;\n",
       "    }\n",
       "</style>\n",
       "<table border=\"1\" class=\"dataframe\">\n",
       "  <thead>\n",
       "    <tr style=\"text-align: right;\">\n",
       "      <th></th>\n",
       "      <th>State</th>\n",
       "      <th>City</th>\n",
       "      <th>Counts</th>\n",
       "    </tr>\n",
       "  </thead>\n",
       "  <tbody>\n",
       "    <tr>\n",
       "      <th>0</th>\n",
       "      <td>CA</td>\n",
       "      <td>San Francisco</td>\n",
       "      <td>34</td>\n",
       "    </tr>\n",
       "    <tr>\n",
       "      <th>1</th>\n",
       "      <td>CA</td>\n",
       "      <td>San Jose</td>\n",
       "      <td>8</td>\n",
       "    </tr>\n",
       "    <tr>\n",
       "      <th>2</th>\n",
       "      <td>CA</td>\n",
       "      <td>South San Francisco</td>\n",
       "      <td>5</td>\n",
       "    </tr>\n",
       "    <tr>\n",
       "      <th>3</th>\n",
       "      <td>IL</td>\n",
       "      <td>Chicago</td>\n",
       "      <td>18</td>\n",
       "    </tr>\n",
       "    <tr>\n",
       "      <th>4</th>\n",
       "      <td>IL</td>\n",
       "      <td>Bloomington</td>\n",
       "      <td>1</td>\n",
       "    </tr>\n",
       "    <tr>\n",
       "      <th>5</th>\n",
       "      <td>IL</td>\n",
       "      <td>Hoopeston</td>\n",
       "      <td>1</td>\n",
       "    </tr>\n",
       "    <tr>\n",
       "      <th>6</th>\n",
       "      <td>MA</td>\n",
       "      <td>Cambridge</td>\n",
       "      <td>28</td>\n",
       "    </tr>\n",
       "    <tr>\n",
       "      <th>7</th>\n",
       "      <td>MA</td>\n",
       "      <td>Boston</td>\n",
       "      <td>13</td>\n",
       "    </tr>\n",
       "    <tr>\n",
       "      <th>8</th>\n",
       "      <td>MA</td>\n",
       "      <td>Marlborough</td>\n",
       "      <td>3</td>\n",
       "    </tr>\n",
       "    <tr>\n",
       "      <th>9</th>\n",
       "      <td>NY</td>\n",
       "      <td>New York</td>\n",
       "      <td>37</td>\n",
       "    </tr>\n",
       "    <tr>\n",
       "      <th>10</th>\n",
       "      <td>NY</td>\n",
       "      <td>Rochester</td>\n",
       "      <td>3</td>\n",
       "    </tr>\n",
       "    <tr>\n",
       "      <th>11</th>\n",
       "      <td>NY</td>\n",
       "      <td>Armonk</td>\n",
       "      <td>2</td>\n",
       "    </tr>\n",
       "    <tr>\n",
       "      <th>12</th>\n",
       "      <td>VA</td>\n",
       "      <td>Herndon</td>\n",
       "      <td>7</td>\n",
       "    </tr>\n",
       "    <tr>\n",
       "      <th>13</th>\n",
       "      <td>VA</td>\n",
       "      <td>Chantilly</td>\n",
       "      <td>4</td>\n",
       "    </tr>\n",
       "    <tr>\n",
       "      <th>14</th>\n",
       "      <td>VA</td>\n",
       "      <td>Arlington</td>\n",
       "      <td>3</td>\n",
       "    </tr>\n",
       "  </tbody>\n",
       "</table>\n",
       "</div>"
      ],
      "text/plain": [
       "   State                 City  Counts\n",
       "0     CA        San Francisco      34\n",
       "1     CA             San Jose       8\n",
       "2     CA  South San Francisco       5\n",
       "3     IL              Chicago      18\n",
       "4     IL          Bloomington       1\n",
       "5     IL            Hoopeston       1\n",
       "6     MA            Cambridge      28\n",
       "7     MA               Boston      13\n",
       "8     MA          Marlborough       3\n",
       "9     NY             New York      37\n",
       "10    NY            Rochester       3\n",
       "11    NY               Armonk       2\n",
       "12    VA              Herndon       7\n",
       "13    VA            Chantilly       4\n",
       "14    VA            Arlington       3"
      ]
     },
     "execution_count": 72,
     "metadata": {},
     "output_type": "execute_result"
    }
   ],
   "source": [
    "#tính số lượng việc làm ở mỗi thành phố\n",
    "top5_df = top5_df.groupby([\"State\", \"City\"]).size().reset_index(name=\"Counts\")\n",
    "\n",
    "#lấy ra 3 thành phố có nhiều việc làm nhất ở mỗi bang\n",
    "top_cities_states = top5_df.groupby(\"State\").apply(lambda x: (x.sort_values(\"Counts\", ascending=False)).head(3))\n",
    "top_cities_states = top_cities_states.reset_index(drop=True)\n",
    "top_cities_states"
   ]
  },
  {
   "cell_type": "markdown",
   "metadata": {},
   "source": [
    "Ta thấy các thành phố có nhiều việc làm nhất ở các bang CA, IL, MA, NY và VG lần lượt là San Francisco, Chicago, Cambridge, New York và Herndon."
   ]
  },
  {
   "cell_type": "markdown",
   "metadata": {},
   "source": [
    "Code bước 3:"
   ]
  },
  {
   "cell_type": "code",
   "execution_count": 73,
   "metadata": {},
   "outputs": [
    {
     "data": {
      "text/plain": [
       "<AxesSubplot:xlabel='City'>"
      ]
     },
     "execution_count": 73,
     "metadata": {},
     "output_type": "execute_result"
    },
    {
     "data": {
      "image/png": "[encoded data removed]",
      "text/plain": [
       "<Figure size 432x288 with 1 Axes>"
      ]
     },
     "metadata": {
      "needs_background": "light"
     },
     "output_type": "display_data"
    }
   ],
   "source": [
    "#vẽ biểu đồ cột số lượng việc làm ở mỗi thành phố\n",
    "top_cities = top_cities_states[[\"City\", \"Counts\"]]\n",
    "top_cities = top_cities.set_index(\"City\")\n",
    "top_cities.plot.bar()"
   ]
  },
  {
   "cell_type": "markdown",
   "metadata": {},
   "source": [
    "Ta thấy 5 thành phố New York, San Francisco, Cambridge, Chicago và Boston có số lượng việc làm nổi bật hơn nhiều so với các thành phố còn lại. Ngoài ra, biểu đồ còn cho thấy bang MA có đến 2 thành phố nằm trong top 5, thành phố Boston của bang này có số lượng việc làm lớn hơn nhiều so với thành phố có nhiều việc làm nhất bang IL là Herndon. \n",
    "\n",
    "Vậy trong top 5 thành phố có nhiều việc làm nhất (xét trên toàn bộ dữ liệu), liệu có thành phố nào không nằm trong nhóm 15 thành phố ở trên không?"
   ]
  },
  {
   "cell_type": "code",
   "execution_count": 74,
   "metadata": {},
   "outputs": [
    {
     "data": {
      "text/html": [
       "<div>\n",
       "<style scoped>\n",
       "    .dataframe tbody tr th:only-of-type {\n",
       "        vertical-align: middle;\n",
       "    }\n",
       "\n",
       "    .dataframe tbody tr th {\n",
       "        vertical-align: top;\n",
       "    }\n",
       "\n",
       "    .dataframe thead th {\n",
       "        text-align: right;\n",
       "    }\n",
       "</style>\n",
       "<table border=\"1\" class=\"dataframe\">\n",
       "  <thead>\n",
       "    <tr style=\"text-align: right;\">\n",
       "      <th></th>\n",
       "      <th>City</th>\n",
       "      <th>Counts</th>\n",
       "    </tr>\n",
       "  </thead>\n",
       "  <tbody>\n",
       "    <tr>\n",
       "      <th>118</th>\n",
       "      <td>New York</td>\n",
       "      <td>37</td>\n",
       "    </tr>\n",
       "    <tr>\n",
       "      <th>159</th>\n",
       "      <td>San Francisco</td>\n",
       "      <td>34</td>\n",
       "    </tr>\n",
       "    <tr>\n",
       "      <th>28</th>\n",
       "      <td>Cambridge</td>\n",
       "      <td>29</td>\n",
       "    </tr>\n",
       "    <tr>\n",
       "      <th>37</th>\n",
       "      <td>Chicago</td>\n",
       "      <td>18</td>\n",
       "    </tr>\n",
       "    <tr>\n",
       "      <th>24</th>\n",
       "      <td>Boston</td>\n",
       "      <td>13</td>\n",
       "    </tr>\n",
       "  </tbody>\n",
       "</table>\n",
       "</div>"
      ],
      "text/plain": [
       "              City  Counts\n",
       "118       New York      37\n",
       "159  San Francisco      34\n",
       "28       Cambridge      29\n",
       "37         Chicago      18\n",
       "24          Boston      13"
      ]
     },
     "execution_count": 74,
     "metadata": {},
     "output_type": "execute_result"
    }
   ],
   "source": [
    "#Tính số lượng việc làm ở mỗi thành phố\n",
    "top_cities_general = sub_df.groupby(\"City\").size().reset_index(name=\"Counts\")\n",
    "\n",
    "#sắp xếp số lượng việc làm theo thứ tự giảm dần và lấy ra top 5 thành phố\n",
    "top_cities_general = top_cities_general.sort_values(by=\"Counts\", ascending=False)\n",
    "top_cities_general[:5]"
   ]
  },
  {
   "cell_type": "markdown",
   "metadata": {},
   "source": [
    "Kết quả cho thấy top 5 thành phố có nhiều việc làm nhất cũng chính là các thành phố trong top 5 thành phố có nhiều việc làm nhất ở 5 bang. Điều này hoàn toàn hợp lý khi nhìn vào biểu đồ cột ở trên, ta thấy tổng số việc làm của cả 3 thành phố Herndon, Chantilly, Arlington của bang VA (bang cuối cùng trong top 5) cũng mới chỉ nhỉnh hơn một chút so với thành phố Boston (thành phố cuối cũng trong top 5). Do đó, sẽ không có thành phố nào ở các bang không nằm trong top có thể lọt vào top 5 thành phố nhiều việc làm nhất."
   ]
  },
  {
   "cell_type": "markdown",
   "metadata": {},
   "source": [
    "## 5. Nhìn lại quá trình làm đồ án"
   ]
  },
  {
   "cell_type": "markdown",
   "metadata": {},
   "source": [
    "- TV1 : Những khó khăn?\n",
    "        Học được gì?"
   ]
  },
  {
   "cell_type": "markdown",
   "metadata": {},
   "source": [
    "- TV2: Những khó khăn?\n",
    "        Học được gì?"
   ]
  },
  {
   "cell_type": "markdown",
   "metadata": {},
   "source": [
    "- Nhóm: nếu có thêm thời gian thì sẽ làm gì?"
   ]
  },
  {
   "cell_type": "markdown",
   "metadata": {},
   "source": [
    "## 6. Tài liệu tham khảo"
   ]
  },
  {
   "cell_type": "code",
   "execution_count": null,
   "metadata": {},
   "outputs": [],
   "source": []
  }
 ],
 "metadata": {
  "kernelspec": {
   "display_name": "Python 3",
   "language": "python",
   "name": "python3"
  },
  "language_info": {
   "codemirror_mode": {
    "name": "ipython",
    "version": 3
   },
   "file_extension": ".py",
   "mimetype": "text/x-python",
   "name": "python",
   "nbconvert_exporter": "python",
   "pygments_lexer": "ipython3",
   "version": "3.8.3"
  }
 },
 "nbformat": 4,
 "nbformat_minor": 5
}
