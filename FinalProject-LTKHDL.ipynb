{
 "cells": [
  {
   "cell_type": "markdown",
   "metadata": {},
   "source": [
    "# FINAL PROJECT\n",
    "\n",
    "Người thực hiện\n",
    "\n",
    "    Họ tên: Nguyễn Đình Tuyên. MSSV: 1712888\n",
    "\n",
    "    Họ tên: Đặng Đỗ Huỳnh Như. MSSV: 18120219"
   ]
  },
  {
   "cell_type": "markdown",
   "metadata": {},
   "source": [
    "## Import các thư viện cần thiết"
   ]
  },
  {
   "cell_type": "code",
   "execution_count": 1,
   "metadata": {},
   "outputs": [],
   "source": [
    "import numpy as np\n",
    "import pandas as pd\n",
    "import matplotlib.pyplot as plt"
   ]
  },
  {
   "cell_type": "markdown",
   "metadata": {},
   "source": [
    "## 1. Thu thập dữ liệu"
   ]
  },
  {
   "cell_type": "markdown",
   "metadata": {},
   "source": [
    "- Dữ liệu về chủ đề gì và lấy từ nguồn nào?"
   ]
  },
  {
   "cell_type": "markdown",
   "metadata": {},
   "source": [
    "- Tên Dataset: Data scientist salary.\n",
    "- Nguồn: Kaggle.\n",
    "- Tác giả: Nikhil Bhathi.\n",
    "- Link: https://www.kaggle.com/nikhilbhathi/data-scientist-salary-us-glassdoor?fbclid=IwAR1a7W_NDn-VS416XxzxXS3NsQAm7bf65Qz0M_a63cgOk1hRfvwWDdVfKII\n",
    "- Chủ đề: Dữ liệu chứa thông tin về các công việc thuộc lĩnh vực data science ở các bang nước Mỹ."
   ]
  },
  {
   "cell_type": "markdown",
   "metadata": {},
   "source": [
    "- Dữ liệu có được cho phép sử dụng không? (xem license của dữ liệu)"
   ]
  },
  {
   "cell_type": "markdown",
   "metadata": {},
   "source": [
    "License của dữ liệu là CC0: Public domain. Do đó, dữ liệu cho phép sử dụng."
   ]
  },
  {
   "cell_type": "markdown",
   "metadata": {},
   "source": [
    "- Dữ liệu được người ta thu thập như thế nào?"
   ]
  },
  {
   "cell_type": "markdown",
   "metadata": {},
   "source": [
    "Dữ liệu được thu thập từ trang web việc làm Glassdoor bằng công cụ Selenium."
   ]
  },
  {
   "cell_type": "markdown",
   "metadata": {},
   "source": [
    "## 2. Khám phá dữ liệu"
   ]
  },
  {
   "cell_type": "markdown",
   "metadata": {},
   "source": [
    "### Đọc dữ liệu từ file csv vào dataframe"
   ]
  },
  {
   "cell_type": "code",
   "execution_count": 13,
   "metadata": {},
   "outputs": [],
   "source": [
    "df = pd.read_csv(\"data_scientist_salary.csv\")"
   ]
  },
  {
   "cell_type": "code",
   "execution_count": 14,
   "metadata": {},
   "outputs": [
    {
     "data": {
      "text/html": [
       "<div>\n",
       "<style scoped>\n",
       "    .dataframe tbody tr th:only-of-type {\n",
       "        vertical-align: middle;\n",
       "    }\n",
       "\n",
       "    .dataframe tbody tr th {\n",
       "        vertical-align: top;\n",
       "    }\n",
       "\n",
       "    .dataframe thead th {\n",
       "        text-align: right;\n",
       "    }\n",
       "</style>\n",
       "<table border=\"1\" class=\"dataframe\">\n",
       "  <thead>\n",
       "    <tr style=\"text-align: right;\">\n",
       "      <th></th>\n",
       "      <th>index</th>\n",
       "      <th>Job Title</th>\n",
       "      <th>Salary Estimate</th>\n",
       "      <th>Job Description</th>\n",
       "      <th>Rating</th>\n",
       "      <th>Company Name</th>\n",
       "      <th>Location</th>\n",
       "      <th>Headquarters</th>\n",
       "      <th>Size</th>\n",
       "      <th>Founded</th>\n",
       "      <th>...</th>\n",
       "      <th>tensor</th>\n",
       "      <th>hadoop</th>\n",
       "      <th>tableau</th>\n",
       "      <th>bi</th>\n",
       "      <th>flink</th>\n",
       "      <th>mongo</th>\n",
       "      <th>google_an</th>\n",
       "      <th>job_title_sim</th>\n",
       "      <th>seniority_by_title</th>\n",
       "      <th>Degree</th>\n",
       "    </tr>\n",
       "  </thead>\n",
       "  <tbody>\n",
       "    <tr>\n",
       "      <th>0</th>\n",
       "      <td>0</td>\n",
       "      <td>Data Scientist</td>\n",
       "      <td>$53K-$91K (Glassdoor est.)</td>\n",
       "      <td>Data Scientist\\r\\nLocation: Albuquerque, NM\\r\\...</td>\n",
       "      <td>3.8</td>\n",
       "      <td>Tecolote Research\\r\\n3.8</td>\n",
       "      <td>Albuquerque, NM</td>\n",
       "      <td>Goleta, CA</td>\n",
       "      <td>501 - 1000</td>\n",
       "      <td>1973</td>\n",
       "      <td>...</td>\n",
       "      <td>0</td>\n",
       "      <td>0</td>\n",
       "      <td>1</td>\n",
       "      <td>1</td>\n",
       "      <td>0</td>\n",
       "      <td>0</td>\n",
       "      <td>0</td>\n",
       "      <td>data scientist</td>\n",
       "      <td>na</td>\n",
       "      <td>M</td>\n",
       "    </tr>\n",
       "    <tr>\n",
       "      <th>1</th>\n",
       "      <td>1</td>\n",
       "      <td>Healthcare Data Scientist</td>\n",
       "      <td>$63K-$112K (Glassdoor est.)</td>\n",
       "      <td>What You Will Do:\\r\\n\\r\\nI. General Summary\\r\\...</td>\n",
       "      <td>3.4</td>\n",
       "      <td>University of Maryland Medical System\\r\\n3.4</td>\n",
       "      <td>Linthicum, MD</td>\n",
       "      <td>Baltimore, MD</td>\n",
       "      <td>10000+</td>\n",
       "      <td>1984</td>\n",
       "      <td>...</td>\n",
       "      <td>0</td>\n",
       "      <td>0</td>\n",
       "      <td>0</td>\n",
       "      <td>0</td>\n",
       "      <td>0</td>\n",
       "      <td>0</td>\n",
       "      <td>0</td>\n",
       "      <td>data scientist</td>\n",
       "      <td>na</td>\n",
       "      <td>M</td>\n",
       "    </tr>\n",
       "    <tr>\n",
       "      <th>2</th>\n",
       "      <td>2</td>\n",
       "      <td>Data Scientist</td>\n",
       "      <td>$80K-$90K (Glassdoor est.)</td>\n",
       "      <td>KnowBe4, Inc. is a high growth information sec...</td>\n",
       "      <td>4.8</td>\n",
       "      <td>KnowBe4\\r\\n4.8</td>\n",
       "      <td>Clearwater, FL</td>\n",
       "      <td>Clearwater, FL</td>\n",
       "      <td>501 - 1000</td>\n",
       "      <td>2010</td>\n",
       "      <td>...</td>\n",
       "      <td>0</td>\n",
       "      <td>0</td>\n",
       "      <td>0</td>\n",
       "      <td>0</td>\n",
       "      <td>0</td>\n",
       "      <td>0</td>\n",
       "      <td>0</td>\n",
       "      <td>data scientist</td>\n",
       "      <td>na</td>\n",
       "      <td>M</td>\n",
       "    </tr>\n",
       "  </tbody>\n",
       "</table>\n",
       "<p>3 rows × 42 columns</p>\n",
       "</div>"
      ],
      "text/plain": [
       "   index                  Job Title              Salary Estimate  \\\n",
       "0      0             Data Scientist   $53K-$91K (Glassdoor est.)   \n",
       "1      1  Healthcare Data Scientist  $63K-$112K (Glassdoor est.)   \n",
       "2      2             Data Scientist   $80K-$90K (Glassdoor est.)   \n",
       "\n",
       "                                     Job Description  Rating  \\\n",
       "0  Data Scientist\\r\\nLocation: Albuquerque, NM\\r\\...     3.8   \n",
       "1  What You Will Do:\\r\\n\\r\\nI. General Summary\\r\\...     3.4   \n",
       "2  KnowBe4, Inc. is a high growth information sec...     4.8   \n",
       "\n",
       "                                   Company Name         Location  \\\n",
       "0                      Tecolote Research\\r\\n3.8  Albuquerque, NM   \n",
       "1  University of Maryland Medical System\\r\\n3.4    Linthicum, MD   \n",
       "2                                KnowBe4\\r\\n4.8   Clearwater, FL   \n",
       "\n",
       "     Headquarters         Size  Founded  ... tensor hadoop tableau bi flink  \\\n",
       "0      Goleta, CA  501 - 1000      1973  ...      0      0       1  1     0   \n",
       "1   Baltimore, MD      10000+      1984  ...      0      0       0  0     0   \n",
       "2  Clearwater, FL  501 - 1000      2010  ...      0      0       0  0     0   \n",
       "\n",
       "   mongo  google_an   job_title_sim  seniority_by_title  Degree  \n",
       "0      0          0  data scientist                  na       M  \n",
       "1      0          0  data scientist                  na       M  \n",
       "2      0          0  data scientist                  na       M  \n",
       "\n",
       "[3 rows x 42 columns]"
      ]
     },
     "execution_count": 14,
     "metadata": {},
     "output_type": "execute_result"
    }
   ],
   "source": [
    "df.head(3)"
   ]
  },
  {
   "cell_type": "code",
   "execution_count": 15,
   "metadata": {},
   "outputs": [
    {
     "data": {
      "text/html": [
       "<div>\n",
       "<style scoped>\n",
       "    .dataframe tbody tr th:only-of-type {\n",
       "        vertical-align: middle;\n",
       "    }\n",
       "\n",
       "    .dataframe tbody tr th {\n",
       "        vertical-align: top;\n",
       "    }\n",
       "\n",
       "    .dataframe thead th {\n",
       "        text-align: right;\n",
       "    }\n",
       "</style>\n",
       "<table border=\"1\" class=\"dataframe\">\n",
       "  <thead>\n",
       "    <tr style=\"text-align: right;\">\n",
       "      <th></th>\n",
       "      <th>index</th>\n",
       "      <th>Job Title</th>\n",
       "      <th>Salary Estimate</th>\n",
       "      <th>Job Description</th>\n",
       "      <th>Rating</th>\n",
       "      <th>Company Name</th>\n",
       "      <th>Location</th>\n",
       "      <th>Headquarters</th>\n",
       "      <th>Size</th>\n",
       "      <th>Founded</th>\n",
       "      <th>...</th>\n",
       "      <th>tensor</th>\n",
       "      <th>hadoop</th>\n",
       "      <th>tableau</th>\n",
       "      <th>bi</th>\n",
       "      <th>flink</th>\n",
       "      <th>mongo</th>\n",
       "      <th>google_an</th>\n",
       "      <th>job_title_sim</th>\n",
       "      <th>seniority_by_title</th>\n",
       "      <th>Degree</th>\n",
       "    </tr>\n",
       "  </thead>\n",
       "  <tbody>\n",
       "    <tr>\n",
       "      <th>739</th>\n",
       "      <td>952</td>\n",
       "      <td>Project Scientist - Auton Lab, Robotics Institute</td>\n",
       "      <td>$56K-$91K (Glassdoor est.)</td>\n",
       "      <td>The Auton Lab at Carnegie Mellon University is...</td>\n",
       "      <td>2.6</td>\n",
       "      <td>Software Engineering Institute\\r\\n2.6</td>\n",
       "      <td>Pittsburgh, PA</td>\n",
       "      <td>Pittsburgh, PA</td>\n",
       "      <td>501 - 1000</td>\n",
       "      <td>1984</td>\n",
       "      <td>...</td>\n",
       "      <td>0</td>\n",
       "      <td>0</td>\n",
       "      <td>0</td>\n",
       "      <td>0</td>\n",
       "      <td>0</td>\n",
       "      <td>0</td>\n",
       "      <td>0</td>\n",
       "      <td>other scientist</td>\n",
       "      <td>na</td>\n",
       "      <td>P</td>\n",
       "    </tr>\n",
       "    <tr>\n",
       "      <th>740</th>\n",
       "      <td>953</td>\n",
       "      <td>Data Science Manager</td>\n",
       "      <td>$95K-$160K (Glassdoor est.)</td>\n",
       "      <td>Data Science ManagerResponsibilities:\\r\\n\\r\\nO...</td>\n",
       "      <td>3.2</td>\n",
       "      <td>Numeric, LLC\\r\\n3.2</td>\n",
       "      <td>Allentown, PA</td>\n",
       "      <td>Chadds Ford, PA</td>\n",
       "      <td>1 - 50</td>\n",
       "      <td>-1</td>\n",
       "      <td>...</td>\n",
       "      <td>0</td>\n",
       "      <td>0</td>\n",
       "      <td>0</td>\n",
       "      <td>0</td>\n",
       "      <td>0</td>\n",
       "      <td>0</td>\n",
       "      <td>0</td>\n",
       "      <td>data scientist</td>\n",
       "      <td>na</td>\n",
       "      <td>na</td>\n",
       "    </tr>\n",
       "    <tr>\n",
       "      <th>741</th>\n",
       "      <td>955</td>\n",
       "      <td>Research Scientist – Security and Privacy</td>\n",
       "      <td>$61K-$126K (Glassdoor est.)</td>\n",
       "      <td>Returning Candidate? Log back in to the Career...</td>\n",
       "      <td>3.6</td>\n",
       "      <td>Riverside Research Institute\\r\\n3.6</td>\n",
       "      <td>Beavercreek, OH</td>\n",
       "      <td>Arlington, VA</td>\n",
       "      <td>501 - 1000</td>\n",
       "      <td>1967</td>\n",
       "      <td>...</td>\n",
       "      <td>0</td>\n",
       "      <td>0</td>\n",
       "      <td>0</td>\n",
       "      <td>0</td>\n",
       "      <td>0</td>\n",
       "      <td>0</td>\n",
       "      <td>0</td>\n",
       "      <td>other scientist</td>\n",
       "      <td>na</td>\n",
       "      <td>M</td>\n",
       "    </tr>\n",
       "  </tbody>\n",
       "</table>\n",
       "<p>3 rows × 42 columns</p>\n",
       "</div>"
      ],
      "text/plain": [
       "     index                                          Job Title  \\\n",
       "739    952  Project Scientist - Auton Lab, Robotics Institute   \n",
       "740    953                               Data Science Manager   \n",
       "741    955          Research Scientist – Security and Privacy   \n",
       "\n",
       "                 Salary Estimate  \\\n",
       "739   $56K-$91K (Glassdoor est.)   \n",
       "740  $95K-$160K (Glassdoor est.)   \n",
       "741  $61K-$126K (Glassdoor est.)   \n",
       "\n",
       "                                       Job Description  Rating  \\\n",
       "739  The Auton Lab at Carnegie Mellon University is...     2.6   \n",
       "740  Data Science ManagerResponsibilities:\\r\\n\\r\\nO...     3.2   \n",
       "741  Returning Candidate? Log back in to the Career...     3.6   \n",
       "\n",
       "                              Company Name         Location     Headquarters  \\\n",
       "739  Software Engineering Institute\\r\\n2.6   Pittsburgh, PA   Pittsburgh, PA   \n",
       "740                    Numeric, LLC\\r\\n3.2    Allentown, PA  Chadds Ford, PA   \n",
       "741    Riverside Research Institute\\r\\n3.6  Beavercreek, OH    Arlington, VA   \n",
       "\n",
       "            Size  Founded  ... tensor hadoop tableau bi flink  mongo  \\\n",
       "739  501 - 1000      1984  ...      0      0       0  0     0      0   \n",
       "740      1 - 50        -1  ...      0      0       0  0     0      0   \n",
       "741  501 - 1000      1967  ...      0      0       0  0     0      0   \n",
       "\n",
       "     google_an    job_title_sim  seniority_by_title  Degree  \n",
       "739          0  other scientist                  na       P  \n",
       "740          0   data scientist                  na      na  \n",
       "741          0  other scientist                  na       M  \n",
       "\n",
       "[3 rows x 42 columns]"
      ]
     },
     "execution_count": 15,
     "metadata": {},
     "output_type": "execute_result"
    }
   ],
   "source": [
    "df.tail(3)"
   ]
  },
  {
   "cell_type": "markdown",
   "metadata": {},
   "source": [
    "Loại bỏ cột index vì ta sẽ tự động pandas sẽ tự đánh số thứ tự cho các dòng dữ liệu."
   ]
  },
  {
   "cell_type": "code",
   "execution_count": 16,
   "metadata": {},
   "outputs": [
    {
     "data": {
      "text/html": [
       "<div>\n",
       "<style scoped>\n",
       "    .dataframe tbody tr th:only-of-type {\n",
       "        vertical-align: middle;\n",
       "    }\n",
       "\n",
       "    .dataframe tbody tr th {\n",
       "        vertical-align: top;\n",
       "    }\n",
       "\n",
       "    .dataframe thead th {\n",
       "        text-align: right;\n",
       "    }\n",
       "</style>\n",
       "<table border=\"1\" class=\"dataframe\">\n",
       "  <thead>\n",
       "    <tr style=\"text-align: right;\">\n",
       "      <th></th>\n",
       "      <th>Job Title</th>\n",
       "      <th>Salary Estimate</th>\n",
       "      <th>Job Description</th>\n",
       "      <th>Rating</th>\n",
       "      <th>Company Name</th>\n",
       "      <th>Location</th>\n",
       "      <th>Headquarters</th>\n",
       "      <th>Size</th>\n",
       "      <th>Founded</th>\n",
       "      <th>Type of ownership</th>\n",
       "      <th>...</th>\n",
       "      <th>tensor</th>\n",
       "      <th>hadoop</th>\n",
       "      <th>tableau</th>\n",
       "      <th>bi</th>\n",
       "      <th>flink</th>\n",
       "      <th>mongo</th>\n",
       "      <th>google_an</th>\n",
       "      <th>job_title_sim</th>\n",
       "      <th>seniority_by_title</th>\n",
       "      <th>Degree</th>\n",
       "    </tr>\n",
       "  </thead>\n",
       "  <tbody>\n",
       "    <tr>\n",
       "      <th>0</th>\n",
       "      <td>Data Scientist</td>\n",
       "      <td>$53K-$91K (Glassdoor est.)</td>\n",
       "      <td>Data Scientist\\r\\nLocation: Albuquerque, NM\\r\\...</td>\n",
       "      <td>3.8</td>\n",
       "      <td>Tecolote Research\\r\\n3.8</td>\n",
       "      <td>Albuquerque, NM</td>\n",
       "      <td>Goleta, CA</td>\n",
       "      <td>501 - 1000</td>\n",
       "      <td>1973</td>\n",
       "      <td>Company - Private</td>\n",
       "      <td>...</td>\n",
       "      <td>0</td>\n",
       "      <td>0</td>\n",
       "      <td>1</td>\n",
       "      <td>1</td>\n",
       "      <td>0</td>\n",
       "      <td>0</td>\n",
       "      <td>0</td>\n",
       "      <td>data scientist</td>\n",
       "      <td>na</td>\n",
       "      <td>M</td>\n",
       "    </tr>\n",
       "    <tr>\n",
       "      <th>1</th>\n",
       "      <td>Healthcare Data Scientist</td>\n",
       "      <td>$63K-$112K (Glassdoor est.)</td>\n",
       "      <td>What You Will Do:\\r\\n\\r\\nI. General Summary\\r\\...</td>\n",
       "      <td>3.4</td>\n",
       "      <td>University of Maryland Medical System\\r\\n3.4</td>\n",
       "      <td>Linthicum, MD</td>\n",
       "      <td>Baltimore, MD</td>\n",
       "      <td>10000+</td>\n",
       "      <td>1984</td>\n",
       "      <td>Other Organization</td>\n",
       "      <td>...</td>\n",
       "      <td>0</td>\n",
       "      <td>0</td>\n",
       "      <td>0</td>\n",
       "      <td>0</td>\n",
       "      <td>0</td>\n",
       "      <td>0</td>\n",
       "      <td>0</td>\n",
       "      <td>data scientist</td>\n",
       "      <td>na</td>\n",
       "      <td>M</td>\n",
       "    </tr>\n",
       "    <tr>\n",
       "      <th>2</th>\n",
       "      <td>Data Scientist</td>\n",
       "      <td>$80K-$90K (Glassdoor est.)</td>\n",
       "      <td>KnowBe4, Inc. is a high growth information sec...</td>\n",
       "      <td>4.8</td>\n",
       "      <td>KnowBe4\\r\\n4.8</td>\n",
       "      <td>Clearwater, FL</td>\n",
       "      <td>Clearwater, FL</td>\n",
       "      <td>501 - 1000</td>\n",
       "      <td>2010</td>\n",
       "      <td>Company - Private</td>\n",
       "      <td>...</td>\n",
       "      <td>0</td>\n",
       "      <td>0</td>\n",
       "      <td>0</td>\n",
       "      <td>0</td>\n",
       "      <td>0</td>\n",
       "      <td>0</td>\n",
       "      <td>0</td>\n",
       "      <td>data scientist</td>\n",
       "      <td>na</td>\n",
       "      <td>M</td>\n",
       "    </tr>\n",
       "  </tbody>\n",
       "</table>\n",
       "<p>3 rows × 41 columns</p>\n",
       "</div>"
      ],
      "text/plain": [
       "                   Job Title              Salary Estimate  \\\n",
       "0             Data Scientist   $53K-$91K (Glassdoor est.)   \n",
       "1  Healthcare Data Scientist  $63K-$112K (Glassdoor est.)   \n",
       "2             Data Scientist   $80K-$90K (Glassdoor est.)   \n",
       "\n",
       "                                     Job Description  Rating  \\\n",
       "0  Data Scientist\\r\\nLocation: Albuquerque, NM\\r\\...     3.8   \n",
       "1  What You Will Do:\\r\\n\\r\\nI. General Summary\\r\\...     3.4   \n",
       "2  KnowBe4, Inc. is a high growth information sec...     4.8   \n",
       "\n",
       "                                   Company Name         Location  \\\n",
       "0                      Tecolote Research\\r\\n3.8  Albuquerque, NM   \n",
       "1  University of Maryland Medical System\\r\\n3.4    Linthicum, MD   \n",
       "2                                KnowBe4\\r\\n4.8   Clearwater, FL   \n",
       "\n",
       "     Headquarters         Size  Founded   Type of ownership  ... tensor  \\\n",
       "0      Goleta, CA  501 - 1000      1973   Company - Private  ...      0   \n",
       "1   Baltimore, MD      10000+      1984  Other Organization  ...      0   \n",
       "2  Clearwater, FL  501 - 1000      2010   Company - Private  ...      0   \n",
       "\n",
       "  hadoop tableau bi  flink  mongo  google_an   job_title_sim  \\\n",
       "0      0       1  1      0      0          0  data scientist   \n",
       "1      0       0  0      0      0          0  data scientist   \n",
       "2      0       0  0      0      0          0  data scientist   \n",
       "\n",
       "   seniority_by_title Degree  \n",
       "0                  na      M  \n",
       "1                  na      M  \n",
       "2                  na      M  \n",
       "\n",
       "[3 rows x 41 columns]"
      ]
     },
     "execution_count": 16,
     "metadata": {},
     "output_type": "execute_result"
    }
   ],
   "source": [
    "df = df.drop(columns=\"index\")\n",
    "df.head(3)"
   ]
  },
  {
   "cell_type": "markdown",
   "metadata": {},
   "source": [
    "### Dữ liệu có bao nhiêu dòng và bao nhiêu cột?"
   ]
  },
  {
   "cell_type": "code",
   "execution_count": 10,
   "metadata": {},
   "outputs": [
    {
     "name": "stdout",
     "output_type": "stream",
     "text": [
      "Dữ liệu gồm:\n",
      "- 742 dòng.\n",
      "- 41 cột.\n"
     ]
    }
   ],
   "source": [
    "num_rows, num_cols = df.shape\n",
    "print(\"Dữ liệu gồm:\")\n",
    "print(\"-\", num_rows, \"dòng.\")\n",
    "print(\"-\", num_cols, \"cột.\")"
   ]
  },
  {
   "cell_type": "markdown",
   "metadata": {},
   "source": [
    "### Mỗi dòng có ý nghĩa gì? Có vấn đề các dòng có ý nghĩa khác nhau không?"
   ]
  },
  {
   "cell_type": "markdown",
   "metadata": {},
   "source": [
    "Theo mô tả của tác giả bộ dữ liệu và theo quan sát sơ bộ, dữ liệu một dòng cho biết thông tin của một công việc trong lĩnh vực Data science được đăng tuyển trên trang web việc làm Glassdoor và có vẻ không có dòng nào bị lạc loài."
   ]
  },
  {
   "cell_type": "markdown",
   "metadata": {},
   "source": [
    "### Dữ liệu có các dòng bị lặp không?"
   ]
  },
  {
   "cell_type": "code",
   "execution_count": 17,
   "metadata": {},
   "outputs": [
    {
     "data": {
      "text/plain": [
       "True"
      ]
     },
     "execution_count": 17,
     "metadata": {},
     "output_type": "execute_result"
    }
   ],
   "source": [
    "have_duplicated_rows = df.duplicated().any()\n",
    "have_duplicated_rows"
   ]
  },
  {
   "cell_type": "markdown",
   "metadata": {},
   "source": [
    "Kết quả của câu lệnh trên cho thấy dữ liệu có các dòng bị lặp."
   ]
  },
  {
   "cell_type": "markdown",
   "metadata": {},
   "source": [
    "### Mỗi cột có ý nghĩa gì?"
   ]
  },
  {
   "cell_type": "markdown",
   "metadata": {},
   "source": [
    "Dưới đây là mô tả của tác giả về các cột trong file \"data_scientist_salary.csv\":\n",
    "- **Job Title**: Chức danh của công việc, ví dụ: Data scientist, junior data scientist, senior data scientist, ...\n",
    "- **Salary Estimate**: Khoảng lương và nguồn lấy thông tin.\n",
    "- **Job Description**: Mô tả chung về công việc, cho biết các yêu cầu kỹ năng mà công ty mong muốn và những việc mà người trúng tuyển sẽ đảm nhiệm.\n",
    "- **Rating**: Điểm đánh giá cho công ty.\n",
    "- **Company name**: Tên công ty.\n",
    "- **Location**: Địa điểm làm việc.\n",
    "- **Headquarters**: Địa điểm trụ sở chính của công ty.\n",
    "- **Size**: Quy mô nhân lực của công ty.\n",
    "- **Founded**: Năm thành lập công ty.\n",
    "- **Type of ownership**: Cho biết đây là công ty tư nhân, đại chúng hay thuộc nhà nước.\n",
    "- **Industry**: Cho biết hoạt động kinh doanh của công ty thuộc ngành công nghiệp nào, ví dụ: công nghệ thông tin, công nghiệp dược phẩm, ...\n",
    "- **Sector**: Lĩnh vực mà công ty hoạt động.\n",
    "- **Revenue**: Tổng số doanh thu hàng năm của công ty.\n",
    "- **Competitors**: Cho biết những đối thủ cạnh tranh hiện tại của công ty.\n",
    "- **Hourly**: Có giá trị 1 nếu mức lương được báo cáo theo giờ và có giá trị là 0 ở các trường hợp còn lại.\n",
    "- **Employer provided**: Có giá trị là 1 nếu mức lương được cung cấp bởi nhà tuyển dụng và có giá trị là 0 ở các trường hợp còn lại.\n",
    "- **Lower Salary**: Mức lương tối thiểu cho công việc này của công ty.\n",
    "- **Uppper Salary**: Mức lương tối đa cho công việc này của công ty.\n",
    "- **Avg Salary(K)**: Mức lương trung bình cho công việc này của công ty.\n",
    "- **company_txt**: Chứa tên công ty.\n",
    "- **Job Location**: Tên viết tắt của vị trí công ty (bang).\n",
    "- **Age** Tuổi của công ty (tính theo năm).\n",
    "- **Python**: Có giá trị là 1 nếu công việc đòi hỏi kỹ năng python, ngược lại có giá trị 0\n",
    "- **spark**: Có giá trị là 1 nếu công việc đòi hỏi kỹ năng spark, ngược lại có giá trị 0.\n",
    "- **aws**: Có giá trị là 1 nếu công việc đòi hỏi kỹ năng aws, ngược lại có giá trị 0.\n",
    "- **excel**: Có giá trị là 1 nếu công việc đòi hỏi kỹ năng excel, ngược lại có giá trị 0.\n",
    "- **sql**: Có giá trị là 1 nếu công việc đòi hỏi kỹ năng sql, ngược lại có giá trị 0.\n",
    "- **sas**: Có giá trị là 1 nếu công việc đòi hỏi kỹ năng sas, ngược lại có giá trị 0.\n",
    "- **keras**: Có giá trị là 1 nếu công việc đòi hỏi kỹ năng keras, ngược lại có giá trị 0.\n",
    "- **pytorch**: Có giá trị là 1 nếu công việc đòi hỏi kỹ năng pytorch, ngược lại có giá trị 0.\n",
    "- **scikit**: Có giá trị là 1 nếu công việc đòi hỏi kỹ năng scikit, ngược lại có giá trị 0.\n",
    "- **tensor**: Có giá trị là 1 nếu công việc đòi hỏi kỹ năng tensor, ngược lại có giá trị 0.\n",
    "- **hadoop**: Có giá trị là 1 nếu công việc đòi hỏi kỹ năng hadoop, ngược lại có giá trị 0.\n",
    "- **tableau**: Có giá trị là 1 nếu công việc đòi hỏi kỹ năng tableau, ngược lại có giá trị 0.\n",
    "- **bi**: Có giá trị là 1 nếu công việc đòi hỏi kỹ năng PowerBi, ngược lại có giá trị 0.\n",
    "- **flink**: Có giá trị là 1 nếu công việc đòi hỏi kỹ năng flink, ngược lại có giá trị 0.\n",
    "- **mongo**: Có giá trị là 1 nếu công việc đòi hỏi kỹ năng mongodb, ngược lại có giá trị 0.\n",
    "- **google_an**: Có giá trị là 1 nếu công việc đòi hỏi kỹ năng google analytics, ngược lại có giá trị 0.\n",
    "- **job_title_sim**: Tên đơn giản của chức danh công việc.\n",
    "- **seniority_by_title**: Có chữ senior trong chức danh.\n",
    "- **Degree**: Có giá trị M nếu công việc yêu cầu bằng cấp hoặc số năm kinh nghiệm; có giá trị P trong các trường hợp còn lại."
   ]
  },
  {
   "cell_type": "markdown",
   "metadata": {},
   "source": [
    "### Mỗi cột hiện đang có kiểu dữ liệu gì? Có cột nào có kiểu dữ liệu chưa phù hợp để có thể xử lý tiếp không?"
   ]
  },
  {
   "cell_type": "markdown",
   "metadata": {},
   "source": [
    "Lấy giá trị dtype (kiểu dữ liệu của mỗi phần tử) của mỗi cột trong dataframe:"
   ]
  },
  {
   "cell_type": "code",
   "execution_count": 18,
   "metadata": {},
   "outputs": [
    {
     "data": {
      "text/plain": [
       "Job Title              object\n",
       "Salary Estimate        object\n",
       "Job Description        object\n",
       "Rating                float64\n",
       "Company Name           object\n",
       "Location               object\n",
       "Headquarters           object\n",
       "Size                   object\n",
       "Founded                 int64\n",
       "Type of ownership      object\n",
       "Industry               object\n",
       "Sector                 object\n",
       "Revenue                object\n",
       "Competitors            object\n",
       "Hourly                  int64\n",
       "Employer provided       int64\n",
       "Lower Salary            int64\n",
       "Upper Salary            int64\n",
       "Avg Salary(K)         float64\n",
       "company_txt            object\n",
       "Job Location           object\n",
       "Age                     int64\n",
       "Python                  int64\n",
       "spark                   int64\n",
       "aws                     int64\n",
       "excel                   int64\n",
       "sql                     int64\n",
       "sas                     int64\n",
       "keras                   int64\n",
       "pytorch                 int64\n",
       "scikit                  int64\n",
       "tensor                  int64\n",
       "hadoop                  int64\n",
       "tableau                 int64\n",
       "bi                      int64\n",
       "flink                   int64\n",
       "mongo                   int64\n",
       "google_an               int64\n",
       "job_title_sim          object\n",
       "seniority_by_title     object\n",
       "Degree                 object\n",
       "dtype: object"
      ]
     },
     "execution_count": 18,
     "metadata": {},
     "output_type": "execute_result"
    }
   ],
   "source": [
    "col_dtypes = df.dtypes\n",
    "col_dtypes"
   ]
  },
  {
   "cell_type": "markdown",
   "metadata": {},
   "source": [
    "Ta thấy:\n",
    "- Các cột Size, Revenue có dtype là object thay vì dạng số.\n",
    "- Cột Salary Estimate, Location chứa nhiều hơn một thông tin.\n",
    "\n",
    "Do đó, dữ liệu trong các cột này chưa phù hợp để đưa ra các phân tích. Tuy nhiên, ta chưa vội tiền xử lý các cột này, vì ta cần đưa ra câu hỏi trước để quyết định những cột dữ liệu nào cần cho việc trả lời câu hỏi, khi đó ta sẽ tiền xử lý các cột liên quan đến câu hỏi (nhằm tránh tình trạng bỏ thời gian tiền xử lý trước dữ liệu nhưng những cột dữ liệu này lại không cần cho quá trình tìm câu trả lời cho câu hỏi).\n",
    "\n",
    "Ta cũng nhận thấy có một số cột trùng dữ liệu so với cột khác hoặc dữ liệu của cột đó không chứa thông tin cần thiết cho quá trình phân tích sau này. Do đó, ta loại bỏ các cột này ra khỏi dataframe để tiện cho việc xử lý và phân tích."
   ]
  },
  {
   "cell_type": "markdown",
   "metadata": {},
   "source": [
    "#### Vấn đề cần tiền xử lý:"
   ]
  },
  {
   "cell_type": "markdown",
   "metadata": {},
   "source": [
    "- Loại bỏ các cột bị trùng dữ liệu với cột khác: company_txt (trùng với Company Name).\n",
    "- Loại bỏ các cột chứa thông tin không cần thiết: Headquarters, Competitors, Hourly, Employer provided."
   ]
  },
  {
   "cell_type": "code",
   "execution_count": 23,
   "metadata": {},
   "outputs": [
    {
     "data": {
      "text/plain": [
       "(742, 36)"
      ]
     },
     "execution_count": 23,
     "metadata": {},
     "output_type": "execute_result"
    }
   ],
   "source": [
    "df = df.drop(columns=[\"company_txt\", \"Headquarters\", \"Competitors\", \"Hourly\", \"Employer provided\"])\n",
    "df.shape"
   ]
  },
  {
   "cell_type": "markdown",
   "metadata": {},
   "source": [
    "### Với mỗi cột có kiểu dữ liệu dạng số (numerical), các giá trị được phân bố như thế nào?\n",
    "(tính tỉ lệ các giá trị thiếu, min/max của các cột có kiểu dữ liệu dạng số)"
   ]
  },
  {
   "cell_type": "markdown",
   "metadata": {},
   "source": [
    "Lấy ra các cột có kiểu dữ liệu dạng số:"
   ]
  },
  {
   "cell_type": "code",
   "execution_count": 40,
   "metadata": {},
   "outputs": [
    {
     "data": {
      "text/plain": [
       "['Rating',\n",
       " 'Founded',\n",
       " 'Lower Salary',\n",
       " 'Upper Salary',\n",
       " 'Avg Salary(K)',\n",
       " 'Age',\n",
       " 'Python',\n",
       " 'spark',\n",
       " 'aws',\n",
       " 'excel',\n",
       " 'sql',\n",
       " 'sas',\n",
       " 'keras',\n",
       " 'pytorch',\n",
       " 'scikit',\n",
       " 'tensor',\n",
       " 'hadoop',\n",
       " 'tableau',\n",
       " 'bi',\n",
       " 'flink',\n",
       " 'mongo',\n",
       " 'google_an']"
      ]
     },
     "execution_count": 40,
     "metadata": {},
     "output_type": "execute_result"
    }
   ],
   "source": [
    "col_dtypes = df.dtypes\n",
    "numerical_cols = col_dtypes[col_dtypes != \"object\"] #vì trong df này chỉ có 3 loại dtype là object, int và float\n",
    "numerical_cols = list(numerical_cols.index)\n",
    "numerical_cols"
   ]
  },
  {
   "cell_type": "markdown",
   "metadata": {},
   "source": [
    "Theo như tác giả đề cập, các giá trị -1 trong bộ dữ liệu ám chỉ các thông tin không được cung cấp hoặc không thể thu thập bằng selenium. Do đó, ta sẽ thay những giá trị này bằng NaN"
   ]
  },
  {
   "cell_type": "code",
   "execution_count": 44,
   "metadata": {},
   "outputs": [],
   "source": [
    "df = df.replace(-1, np.nan)"
   ]
  },
  {
   "cell_type": "code",
   "execution_count": 52,
   "metadata": {},
   "outputs": [
    {
     "data": {
      "text/html": [
       "<div>\n",
       "<style scoped>\n",
       "    .dataframe tbody tr th:only-of-type {\n",
       "        vertical-align: middle;\n",
       "    }\n",
       "\n",
       "    .dataframe tbody tr th {\n",
       "        vertical-align: top;\n",
       "    }\n",
       "\n",
       "    .dataframe thead th {\n",
       "        text-align: right;\n",
       "    }\n",
       "</style>\n",
       "<table border=\"1\" class=\"dataframe\">\n",
       "  <thead>\n",
       "    <tr style=\"text-align: right;\">\n",
       "      <th></th>\n",
       "      <th>Rating</th>\n",
       "      <th>Founded</th>\n",
       "      <th>Lower Salary</th>\n",
       "      <th>Upper Salary</th>\n",
       "      <th>Avg Salary(K)</th>\n",
       "      <th>Age</th>\n",
       "      <th>Python</th>\n",
       "      <th>spark</th>\n",
       "      <th>aws</th>\n",
       "      <th>excel</th>\n",
       "      <th>...</th>\n",
       "      <th>keras</th>\n",
       "      <th>pytorch</th>\n",
       "      <th>scikit</th>\n",
       "      <th>tensor</th>\n",
       "      <th>hadoop</th>\n",
       "      <th>tableau</th>\n",
       "      <th>bi</th>\n",
       "      <th>flink</th>\n",
       "      <th>mongo</th>\n",
       "      <th>google_an</th>\n",
       "    </tr>\n",
       "  </thead>\n",
       "  <tbody>\n",
       "    <tr>\n",
       "      <th>missing_ratio</th>\n",
       "      <td>1.48248</td>\n",
       "      <td>6.738544</td>\n",
       "      <td>0.0</td>\n",
       "      <td>0.0</td>\n",
       "      <td>0.0</td>\n",
       "      <td>6.738544</td>\n",
       "      <td>0.0</td>\n",
       "      <td>0.0</td>\n",
       "      <td>0.0</td>\n",
       "      <td>0.0</td>\n",
       "      <td>...</td>\n",
       "      <td>0.0</td>\n",
       "      <td>0.0</td>\n",
       "      <td>0.0</td>\n",
       "      <td>0.0</td>\n",
       "      <td>0.0</td>\n",
       "      <td>0.0</td>\n",
       "      <td>0.0</td>\n",
       "      <td>0.0</td>\n",
       "      <td>0.0</td>\n",
       "      <td>0.0</td>\n",
       "    </tr>\n",
       "    <tr>\n",
       "      <th>min</th>\n",
       "      <td>1.90000</td>\n",
       "      <td>1744.000000</td>\n",
       "      <td>15.0</td>\n",
       "      <td>16.0</td>\n",
       "      <td>15.5</td>\n",
       "      <td>2.000000</td>\n",
       "      <td>0.0</td>\n",
       "      <td>0.0</td>\n",
       "      <td>0.0</td>\n",
       "      <td>0.0</td>\n",
       "      <td>...</td>\n",
       "      <td>0.0</td>\n",
       "      <td>0.0</td>\n",
       "      <td>0.0</td>\n",
       "      <td>0.0</td>\n",
       "      <td>0.0</td>\n",
       "      <td>0.0</td>\n",
       "      <td>0.0</td>\n",
       "      <td>0.0</td>\n",
       "      <td>0.0</td>\n",
       "      <td>0.0</td>\n",
       "    </tr>\n",
       "    <tr>\n",
       "      <th>max</th>\n",
       "      <td>5.00000</td>\n",
       "      <td>2019.000000</td>\n",
       "      <td>202.0</td>\n",
       "      <td>306.0</td>\n",
       "      <td>254.0</td>\n",
       "      <td>277.000000</td>\n",
       "      <td>1.0</td>\n",
       "      <td>1.0</td>\n",
       "      <td>1.0</td>\n",
       "      <td>1.0</td>\n",
       "      <td>...</td>\n",
       "      <td>1.0</td>\n",
       "      <td>1.0</td>\n",
       "      <td>1.0</td>\n",
       "      <td>1.0</td>\n",
       "      <td>1.0</td>\n",
       "      <td>1.0</td>\n",
       "      <td>1.0</td>\n",
       "      <td>1.0</td>\n",
       "      <td>1.0</td>\n",
       "      <td>1.0</td>\n",
       "    </tr>\n",
       "  </tbody>\n",
       "</table>\n",
       "<p>3 rows × 22 columns</p>\n",
       "</div>"
      ],
      "text/plain": [
       "                Rating      Founded  Lower Salary  Upper Salary  \\\n",
       "missing_ratio  1.48248     6.738544           0.0           0.0   \n",
       "min            1.90000  1744.000000          15.0          16.0   \n",
       "max            5.00000  2019.000000         202.0         306.0   \n",
       "\n",
       "               Avg Salary(K)         Age  Python  spark  aws  excel  ...  \\\n",
       "missing_ratio            0.0    6.738544     0.0    0.0  0.0    0.0  ...   \n",
       "min                     15.5    2.000000     0.0    0.0  0.0    0.0  ...   \n",
       "max                    254.0  277.000000     1.0    1.0  1.0    1.0  ...   \n",
       "\n",
       "               keras  pytorch  scikit  tensor  hadoop  tableau   bi  flink  \\\n",
       "missing_ratio    0.0      0.0     0.0     0.0     0.0      0.0  0.0    0.0   \n",
       "min              0.0      0.0     0.0     0.0     0.0      0.0  0.0    0.0   \n",
       "max              1.0      1.0     1.0     1.0     1.0      1.0  1.0    1.0   \n",
       "\n",
       "               mongo  google_an  \n",
       "missing_ratio    0.0        0.0  \n",
       "min              0.0        0.0  \n",
       "max              1.0        1.0  \n",
       "\n",
       "[3 rows x 22 columns]"
      ]
     },
     "execution_count": 52,
     "metadata": {},
     "output_type": "execute_result"
    }
   ],
   "source": [
    "numerical_df = df[numerical_cols]\n",
    "nume_col_profiles_df = pd.DataFrame(data={\"missing_ratio\": numerical_df.isnull().mean() * 100,\n",
    "                       \"min\": numerical_df.min(),\n",
    "                       \"max\": numerical_df.max()})\n",
    "nume_col_profiles_df = nume_col_profiles_df.T\n",
    "nume_col_profiles_df"
   ]
  },
  {
   "cell_type": "markdown",
   "metadata": {},
   "source": [
    "### Với mỗi cột có kiểu dữ liệu dạng phân loại (categorical), các giá trị được phân bố như thế nào?\n",
    "(tính tỉ lệ các giá trị thiếu, số lượng các giá trị khác nhau, show một vài giá trị)"
   ]
  },
  {
   "cell_type": "markdown",
   "metadata": {},
   "source": [
    "Lấy ra các cột dạng categorical:"
   ]
  },
  {
   "cell_type": "code",
   "execution_count": 55,
   "metadata": {},
   "outputs": [
    {
     "data": {
      "text/plain": [
       "['Job Title',\n",
       " 'Salary Estimate',\n",
       " 'Job Description',\n",
       " 'Company Name',\n",
       " 'Location',\n",
       " 'Size',\n",
       " 'Type of ownership',\n",
       " 'Industry',\n",
       " 'Sector',\n",
       " 'Revenue',\n",
       " 'Job Location',\n",
       " 'job_title_sim',\n",
       " 'seniority_by_title',\n",
       " 'Degree']"
      ]
     },
     "execution_count": 55,
     "metadata": {},
     "output_type": "execute_result"
    }
   ],
   "source": [
    "cate_cols = df.dtypes\n",
    "cate_cols = cate_cols[cate_cols == \"object\"]\n",
    "cate_cols = list(cate_cols.index)\n",
    "cate_cols"
   ]
  },
  {
   "cell_type": "markdown",
   "metadata": {},
   "source": [
    "Ở cột Location có các giá trị \"Unknown\", ta thay chúng bằng NaN.Tương tự, ta cũng thay các giá trị \"na\" trong cột seniority_by_title và Degree bằng NaN."
   ]
  },
  {
   "cell_type": "code",
   "execution_count": 61,
   "metadata": {},
   "outputs": [],
   "source": [
    "df = df.replace(\"Unknown\", np.nan)\n",
    "df = df.replace(\"na\", np.nan)"
   ]
  },
  {
   "cell_type": "code",
   "execution_count": 62,
   "metadata": {},
   "outputs": [
    {
     "data": {
      "text/html": [
       "<div>\n",
       "<style scoped>\n",
       "    .dataframe tbody tr th:only-of-type {\n",
       "        vertical-align: middle;\n",
       "    }\n",
       "\n",
       "    .dataframe tbody tr th {\n",
       "        vertical-align: top;\n",
       "    }\n",
       "\n",
       "    .dataframe thead th {\n",
       "        text-align: right;\n",
       "    }\n",
       "</style>\n",
       "<table border=\"1\" class=\"dataframe\">\n",
       "  <thead>\n",
       "    <tr style=\"text-align: right;\">\n",
       "      <th></th>\n",
       "      <th>Job Title</th>\n",
       "      <th>Salary Estimate</th>\n",
       "      <th>Job Description</th>\n",
       "      <th>Company Name</th>\n",
       "      <th>Location</th>\n",
       "      <th>Size</th>\n",
       "      <th>Type of ownership</th>\n",
       "      <th>Industry</th>\n",
       "      <th>Sector</th>\n",
       "      <th>Revenue</th>\n",
       "      <th>Job Location</th>\n",
       "      <th>job_title_sim</th>\n",
       "      <th>seniority_by_title</th>\n",
       "      <th>Degree</th>\n",
       "    </tr>\n",
       "  </thead>\n",
       "  <tbody>\n",
       "    <tr>\n",
       "      <th>missing_ratio</th>\n",
       "      <td>0</td>\n",
       "      <td>0</td>\n",
       "      <td>0</td>\n",
       "      <td>0</td>\n",
       "      <td>0</td>\n",
       "      <td>0</td>\n",
       "      <td>0</td>\n",
       "      <td>0</td>\n",
       "      <td>0</td>\n",
       "      <td>0</td>\n",
       "      <td>0</td>\n",
       "      <td>1.34771</td>\n",
       "      <td>69.9461</td>\n",
       "      <td>51.6173</td>\n",
       "    </tr>\n",
       "    <tr>\n",
       "      <th>num_diff_vals</th>\n",
       "      <td>264</td>\n",
       "      <td>416</td>\n",
       "      <td>463</td>\n",
       "      <td>343</td>\n",
       "      <td>200</td>\n",
       "      <td>8</td>\n",
       "      <td>9</td>\n",
       "      <td>60</td>\n",
       "      <td>25</td>\n",
       "      <td>13</td>\n",
       "      <td>37</td>\n",
       "      <td>9</td>\n",
       "      <td>2</td>\n",
       "      <td>2</td>\n",
       "    </tr>\n",
       "    <tr>\n",
       "      <th>diff_vals</th>\n",
       "      <td>[Senior Data Scientist Statistics, Sr. Scienti...</td>\n",
       "      <td>[$119K-$187K (Glassdoor est.), $49K-$76K (Glas...</td>\n",
       "      <td>[Data Scientist\\r\\nAffinity Solutions / Market...</td>\n",
       "      <td>[Factual\\r\\n4.3, Demandbase\\r\\n4.5, IZEA\\r\\n4....</td>\n",
       "      <td>[Dayton, OH, Portsmouth, VA, Salt Lake City, U...</td>\n",
       "      <td>[unknown, 1 - 50 , 5001 - 10000 , 51 - 200 , 2...</td>\n",
       "      <td>[Company - Public, Government, Nonprofit Organ...</td>\n",
       "      <td>[Wholesale, -1, Mining, Trucking, Construction...</td>\n",
       "      <td>[Education, -1, Insurance, Transportation &amp; Lo...</td>\n",
       "      <td>[$1 to $2 billion (USD), $10 to $25 million (U...</td>\n",
       "      <td>[DE, CT, ID, KS, DC, MN, VA, TN, CA, OH, IN, G...</td>\n",
       "      <td>[director, data modeler, data engineer, machin...</td>\n",
       "      <td>[jr, sr]</td>\n",
       "      <td>[M, P]</td>\n",
       "    </tr>\n",
       "  </tbody>\n",
       "</table>\n",
       "</div>"
      ],
      "text/plain": [
       "                                                       Job Title  \\\n",
       "missing_ratio                                                  0   \n",
       "num_diff_vals                                                264   \n",
       "diff_vals      [Senior Data Scientist Statistics, Sr. Scienti...   \n",
       "\n",
       "                                                 Salary Estimate  \\\n",
       "missing_ratio                                                  0   \n",
       "num_diff_vals                                                416   \n",
       "diff_vals      [$119K-$187K (Glassdoor est.), $49K-$76K (Glas...   \n",
       "\n",
       "                                                 Job Description  \\\n",
       "missing_ratio                                                  0   \n",
       "num_diff_vals                                                463   \n",
       "diff_vals      [Data Scientist\\r\\nAffinity Solutions / Market...   \n",
       "\n",
       "                                                    Company Name  \\\n",
       "missing_ratio                                                  0   \n",
       "num_diff_vals                                                343   \n",
       "diff_vals      [Factual\\r\\n4.3, Demandbase\\r\\n4.5, IZEA\\r\\n4....   \n",
       "\n",
       "                                                        Location  \\\n",
       "missing_ratio                                                  0   \n",
       "num_diff_vals                                                200   \n",
       "diff_vals      [Dayton, OH, Portsmouth, VA, Salt Lake City, U...   \n",
       "\n",
       "                                                            Size  \\\n",
       "missing_ratio                                                  0   \n",
       "num_diff_vals                                                  8   \n",
       "diff_vals      [unknown, 1 - 50 , 5001 - 10000 , 51 - 200 , 2...   \n",
       "\n",
       "                                               Type of ownership  \\\n",
       "missing_ratio                                                  0   \n",
       "num_diff_vals                                                  9   \n",
       "diff_vals      [Company - Public, Government, Nonprofit Organ...   \n",
       "\n",
       "                                                        Industry  \\\n",
       "missing_ratio                                                  0   \n",
       "num_diff_vals                                                 60   \n",
       "diff_vals      [Wholesale, -1, Mining, Trucking, Construction...   \n",
       "\n",
       "                                                          Sector  \\\n",
       "missing_ratio                                                  0   \n",
       "num_diff_vals                                                 25   \n",
       "diff_vals      [Education, -1, Insurance, Transportation & Lo...   \n",
       "\n",
       "                                                         Revenue  \\\n",
       "missing_ratio                                                  0   \n",
       "num_diff_vals                                                 13   \n",
       "diff_vals      [$1 to $2 billion (USD), $10 to $25 million (U...   \n",
       "\n",
       "                                                    Job Location  \\\n",
       "missing_ratio                                                  0   \n",
       "num_diff_vals                                                 37   \n",
       "diff_vals      [DE, CT, ID, KS, DC, MN, VA, TN, CA, OH, IN, G...   \n",
       "\n",
       "                                                   job_title_sim  \\\n",
       "missing_ratio                                            1.34771   \n",
       "num_diff_vals                                                  9   \n",
       "diff_vals      [director, data modeler, data engineer, machin...   \n",
       "\n",
       "              seniority_by_title   Degree  \n",
       "missing_ratio            69.9461  51.6173  \n",
       "num_diff_vals                  2        2  \n",
       "diff_vals               [jr, sr]   [M, P]  "
      ]
     },
     "execution_count": 62,
     "metadata": {},
     "output_type": "execute_result"
    }
   ],
   "source": [
    "cate_df = df[cate_cols]\n",
    "\n",
    "def remove_nan(col):\n",
    "    return col[col==col]\n",
    "\n",
    "values = cate_df.values.T\n",
    "notnan_values = list(map(remove_nan, values))\n",
    "\n",
    "cate_col_profiles_df = pd.DataFrame(data={\"missing_ratio\": cate_df.isnull().mean() * 100,\n",
    "                       \"num_diff_vals\": cate_df.nunique(),\n",
    "                       \"diff_vals\": list(map(list, map(set, notnan_values)))})\n",
    "\n",
    "cate_col_profiles_df = cate_col_profiles_df.T\n",
    "\n",
    "cate_col_profiles_df"
   ]
  },
  {
   "cell_type": "markdown",
   "metadata": {},
   "source": [
    "## 3. Đưa ra các câu hỏi có ý nghĩa cần trả lời"
   ]
  },
  {
   "cell_type": "markdown",
   "metadata": {},
   "source": [
    "### Câu hỏi 1: "
   ]
  },
  {
   "cell_type": "markdown",
   "metadata": {},
   "source": [
    "- Trả lời được có lợi ích gì?"
   ]
  },
  {
   "cell_type": "markdown",
   "metadata": {},
   "source": [
    "### Câu hỏi 2:"
   ]
  },
  {
   "cell_type": "markdown",
   "metadata": {},
   "source": [
    "- Trả lời được có lợi ích gì?"
   ]
  },
  {
   "cell_type": "markdown",
   "metadata": {},
   "source": [
    "## 4. Tiền xử lý và phân tích dữ liệu để trả lời các câu hỏi"
   ]
  },
  {
   "cell_type": "markdown",
   "metadata": {},
   "source": [
    "## Câu hỏi 1:"
   ]
  },
  {
   "cell_type": "markdown",
   "metadata": {},
   "source": [
    "### Tiền xử lý\n",
    "- Các bước thực hiện:"
   ]
  },
  {
   "cell_type": "code",
   "execution_count": null,
   "metadata": {},
   "outputs": [],
   "source": [
    "#Code"
   ]
  },
  {
   "cell_type": "markdown",
   "metadata": {},
   "source": [
    "### Phân tích dữ liệu\n",
    "- Các bước thực hiện:"
   ]
  },
  {
   "cell_type": "code",
   "execution_count": 4,
   "metadata": {},
   "outputs": [],
   "source": [
    "#Code"
   ]
  },
  {
   "cell_type": "markdown",
   "metadata": {},
   "source": [
    "## Câu hỏi 2:"
   ]
  },
  {
   "cell_type": "markdown",
   "metadata": {},
   "source": [
    "### Tiền xử lý\n",
    "- Các bước thực hiện:"
   ]
  },
  {
   "cell_type": "code",
   "execution_count": 5,
   "metadata": {},
   "outputs": [],
   "source": [
    "#Code"
   ]
  },
  {
   "cell_type": "markdown",
   "metadata": {},
   "source": [
    "### Phân tích dữ liệu\n",
    "- Các bước thực hiện:"
   ]
  },
  {
   "cell_type": "code",
   "execution_count": 6,
   "metadata": {},
   "outputs": [],
   "source": [
    "#Code"
   ]
  },
  {
   "cell_type": "markdown",
   "metadata": {},
   "source": [
    "## 5. Nhìn lại quá trình làm đồ án"
   ]
  },
  {
   "cell_type": "markdown",
   "metadata": {},
   "source": [
    "- TV1 : Những khó khăn?\n",
    "        Học được gì?"
   ]
  },
  {
   "cell_type": "markdown",
   "metadata": {},
   "source": [
    "- TV2: Những khó khăn?\n",
    "        Học được gì?"
   ]
  },
  {
   "cell_type": "markdown",
   "metadata": {},
   "source": [
    "- Nhóm: nếu có thêm thời gian thì sẽ làm gì?"
   ]
  },
  {
   "cell_type": "markdown",
   "metadata": {},
   "source": [
    "## 6. Tài liệu tham khảo"
   ]
  },
  {
   "cell_type": "code",
   "execution_count": null,
   "metadata": {},
   "outputs": [],
   "source": []
  }
 ],
 "metadata": {
  "kernelspec": {
   "display_name": "Python 3",
   "language": "python",
   "name": "python3"
  },
  "language_info": {
   "codemirror_mode": {
    "name": "ipython",
    "version": 3
   },
   "file_extension": ".py",
   "mimetype": "text/x-python",
   "name": "python",
   "nbconvert_exporter": "python",
   "pygments_lexer": "ipython3",
   "version": "3.8.3"
  }
 },
 "nbformat": 4,
 "nbformat_minor": 5
}
