{
 "cells": [
  {
   "cell_type": "markdown",
   "id": "336e8bb7",
   "metadata": {},
   "source": [
    "# FINAL PROJECT\n",
    "\n",
    "Người thực hiện\n",
    "\n",
    "    Họ tên: Nguyễn Đình Tuyên. MSSV: 1712888\n",
    "\n",
    "    Họ tên: Đặng Đỗ Huỳnh Như. MSSV: 18120219"
   ]
  },
  {
   "cell_type": "markdown",
   "id": "2512e8f0",
   "metadata": {},
   "source": [
    "## Import các thư viện cần thiết"
   ]
  },
  {
   "cell_type": "code",
   "execution_count": 1,
   "id": "858f15f3",
   "metadata": {},
   "outputs": [],
   "source": [
    "import numpy as np\n",
    "import pandas as pd\n",
    "import matplotlib.pyplot as plt"
   ]
  },
  {
   "cell_type": "markdown",
   "id": "dbee0d80",
   "metadata": {},
   "source": [
    "## 1. Thu thập dữ liệu"
   ]
  },
  {
   "cell_type": "markdown",
   "id": "75900d5c",
   "metadata": {},
   "source": [
    "- Dữ liệu trong file \"data_scientist_salary.csv\" được lấy trên kaggle mô tả về mức lương của nhà khoa học dữ liệu tại các bang của nước Mỹ. "
   ]
  },
  {
   "cell_type": "markdown",
   "id": "02d2cf68",
   "metadata": {},
   "source": [
    "- License của dữ liệu là CC0: Public domain. Do đó, dữ liệu cho phép sử dụng."
   ]
  },
  {
   "cell_type": "markdown",
   "id": "e1300182",
   "metadata": {},
   "source": [
    "- Dữ liệu được thu thập từ trang web GlassDoor bằng cách sử dụng trình quét Selenium."
   ]
  },
  {
   "cell_type": "markdown",
   "id": "d675f187",
   "metadata": {},
   "source": [
    "## 2. Khám phá dữ liệu"
   ]
  },
  {
   "cell_type": "markdown",
   "id": "cd21f69c",
   "metadata": {},
   "source": [
    "### Đọc dữ liệu từ file csv vào dataframe"
   ]
  },
  {
   "cell_type": "code",
   "execution_count": 2,
   "id": "65c965de",
   "metadata": {
    "scrolled": true
   },
   "outputs": [
    {
     "data": {
      "text/html": [
       "<div>\n",
       "<style scoped>\n",
       "    .dataframe tbody tr th:only-of-type {\n",
       "        vertical-align: middle;\n",
       "    }\n",
       "\n",
       "    .dataframe tbody tr th {\n",
       "        vertical-align: top;\n",
       "    }\n",
       "\n",
       "    .dataframe thead th {\n",
       "        text-align: right;\n",
       "    }\n",
       "</style>\n",
       "<table border=\"1\" class=\"dataframe\">\n",
       "  <thead>\n",
       "    <tr style=\"text-align: right;\">\n",
       "      <th></th>\n",
       "      <th>index</th>\n",
       "      <th>Job Title</th>\n",
       "      <th>Salary Estimate</th>\n",
       "      <th>Job Description</th>\n",
       "      <th>Rating</th>\n",
       "      <th>Company Name</th>\n",
       "      <th>Location</th>\n",
       "      <th>Headquarters</th>\n",
       "      <th>Size</th>\n",
       "      <th>Founded</th>\n",
       "      <th>...</th>\n",
       "      <th>tensor</th>\n",
       "      <th>hadoop</th>\n",
       "      <th>tableau</th>\n",
       "      <th>bi</th>\n",
       "      <th>flink</th>\n",
       "      <th>mongo</th>\n",
       "      <th>google_an</th>\n",
       "      <th>job_title_sim</th>\n",
       "      <th>seniority_by_title</th>\n",
       "      <th>Degree</th>\n",
       "    </tr>\n",
       "  </thead>\n",
       "  <tbody>\n",
       "    <tr>\n",
       "      <th>0</th>\n",
       "      <td>0</td>\n",
       "      <td>Data Scientist</td>\n",
       "      <td>$53K-$91K (Glassdoor est.)</td>\n",
       "      <td>Data Scientist\\nLocation: Albuquerque, NM\\nEdu...</td>\n",
       "      <td>3.8</td>\n",
       "      <td>Tecolote Research\\n3.8</td>\n",
       "      <td>Albuquerque, NM</td>\n",
       "      <td>Goleta, CA</td>\n",
       "      <td>501 - 1000</td>\n",
       "      <td>1973</td>\n",
       "      <td>...</td>\n",
       "      <td>0</td>\n",
       "      <td>0</td>\n",
       "      <td>1</td>\n",
       "      <td>1</td>\n",
       "      <td>0</td>\n",
       "      <td>0</td>\n",
       "      <td>0</td>\n",
       "      <td>data scientist</td>\n",
       "      <td>na</td>\n",
       "      <td>M</td>\n",
       "    </tr>\n",
       "    <tr>\n",
       "      <th>1</th>\n",
       "      <td>1</td>\n",
       "      <td>Healthcare Data Scientist</td>\n",
       "      <td>$63K-$112K (Glassdoor est.)</td>\n",
       "      <td>What You Will Do:\\n\\nI. General Summary\\n\\nThe...</td>\n",
       "      <td>3.4</td>\n",
       "      <td>University of Maryland Medical System\\n3.4</td>\n",
       "      <td>Linthicum, MD</td>\n",
       "      <td>Baltimore, MD</td>\n",
       "      <td>10000+</td>\n",
       "      <td>1984</td>\n",
       "      <td>...</td>\n",
       "      <td>0</td>\n",
       "      <td>0</td>\n",
       "      <td>0</td>\n",
       "      <td>0</td>\n",
       "      <td>0</td>\n",
       "      <td>0</td>\n",
       "      <td>0</td>\n",
       "      <td>data scientist</td>\n",
       "      <td>na</td>\n",
       "      <td>M</td>\n",
       "    </tr>\n",
       "    <tr>\n",
       "      <th>2</th>\n",
       "      <td>2</td>\n",
       "      <td>Data Scientist</td>\n",
       "      <td>$80K-$90K (Glassdoor est.)</td>\n",
       "      <td>KnowBe4, Inc. is a high growth information sec...</td>\n",
       "      <td>4.8</td>\n",
       "      <td>KnowBe4\\n4.8</td>\n",
       "      <td>Clearwater, FL</td>\n",
       "      <td>Clearwater, FL</td>\n",
       "      <td>501 - 1000</td>\n",
       "      <td>2010</td>\n",
       "      <td>...</td>\n",
       "      <td>0</td>\n",
       "      <td>0</td>\n",
       "      <td>0</td>\n",
       "      <td>0</td>\n",
       "      <td>0</td>\n",
       "      <td>0</td>\n",
       "      <td>0</td>\n",
       "      <td>data scientist</td>\n",
       "      <td>na</td>\n",
       "      <td>M</td>\n",
       "    </tr>\n",
       "    <tr>\n",
       "      <th>3</th>\n",
       "      <td>3</td>\n",
       "      <td>Data Scientist</td>\n",
       "      <td>$56K-$97K (Glassdoor est.)</td>\n",
       "      <td>*Organization and Job ID**\\nJob ID: 310709\\n\\n...</td>\n",
       "      <td>3.8</td>\n",
       "      <td>PNNL\\n3.8</td>\n",
       "      <td>Richland, WA</td>\n",
       "      <td>Richland, WA</td>\n",
       "      <td>1001 - 5000</td>\n",
       "      <td>1965</td>\n",
       "      <td>...</td>\n",
       "      <td>0</td>\n",
       "      <td>0</td>\n",
       "      <td>0</td>\n",
       "      <td>0</td>\n",
       "      <td>0</td>\n",
       "      <td>0</td>\n",
       "      <td>0</td>\n",
       "      <td>data scientist</td>\n",
       "      <td>na</td>\n",
       "      <td>na</td>\n",
       "    </tr>\n",
       "    <tr>\n",
       "      <th>4</th>\n",
       "      <td>4</td>\n",
       "      <td>Data Scientist</td>\n",
       "      <td>$86K-$143K (Glassdoor est.)</td>\n",
       "      <td>Data Scientist\\nAffinity Solutions / Marketing...</td>\n",
       "      <td>2.9</td>\n",
       "      <td>Affinity Solutions\\n2.9</td>\n",
       "      <td>New York, NY</td>\n",
       "      <td>New York, NY</td>\n",
       "      <td>51 - 200</td>\n",
       "      <td>1998</td>\n",
       "      <td>...</td>\n",
       "      <td>0</td>\n",
       "      <td>0</td>\n",
       "      <td>0</td>\n",
       "      <td>0</td>\n",
       "      <td>0</td>\n",
       "      <td>0</td>\n",
       "      <td>0</td>\n",
       "      <td>data scientist</td>\n",
       "      <td>na</td>\n",
       "      <td>na</td>\n",
       "    </tr>\n",
       "  </tbody>\n",
       "</table>\n",
       "<p>5 rows × 42 columns</p>\n",
       "</div>"
      ],
      "text/plain": [
       "   index                  Job Title              Salary Estimate  \\\n",
       "0      0             Data Scientist   $53K-$91K (Glassdoor est.)   \n",
       "1      1  Healthcare Data Scientist  $63K-$112K (Glassdoor est.)   \n",
       "2      2             Data Scientist   $80K-$90K (Glassdoor est.)   \n",
       "3      3             Data Scientist   $56K-$97K (Glassdoor est.)   \n",
       "4      4             Data Scientist  $86K-$143K (Glassdoor est.)   \n",
       "\n",
       "                                     Job Description  Rating  \\\n",
       "0  Data Scientist\\nLocation: Albuquerque, NM\\nEdu...     3.8   \n",
       "1  What You Will Do:\\n\\nI. General Summary\\n\\nThe...     3.4   \n",
       "2  KnowBe4, Inc. is a high growth information sec...     4.8   \n",
       "3  *Organization and Job ID**\\nJob ID: 310709\\n\\n...     3.8   \n",
       "4  Data Scientist\\nAffinity Solutions / Marketing...     2.9   \n",
       "\n",
       "                                 Company Name         Location  \\\n",
       "0                      Tecolote Research\\n3.8  Albuquerque, NM   \n",
       "1  University of Maryland Medical System\\n3.4    Linthicum, MD   \n",
       "2                                KnowBe4\\n4.8   Clearwater, FL   \n",
       "3                                   PNNL\\n3.8     Richland, WA   \n",
       "4                     Affinity Solutions\\n2.9     New York, NY   \n",
       "\n",
       "     Headquarters          Size  Founded  ... tensor hadoop tableau bi flink  \\\n",
       "0      Goleta, CA   501 - 1000      1973  ...      0      0       1  1     0   \n",
       "1   Baltimore, MD       10000+      1984  ...      0      0       0  0     0   \n",
       "2  Clearwater, FL   501 - 1000      2010  ...      0      0       0  0     0   \n",
       "3    Richland, WA  1001 - 5000      1965  ...      0      0       0  0     0   \n",
       "4    New York, NY     51 - 200      1998  ...      0      0       0  0     0   \n",
       "\n",
       "   mongo  google_an   job_title_sim  seniority_by_title  Degree  \n",
       "0      0          0  data scientist                  na       M  \n",
       "1      0          0  data scientist                  na       M  \n",
       "2      0          0  data scientist                  na       M  \n",
       "3      0          0  data scientist                  na      na  \n",
       "4      0          0  data scientist                  na      na  \n",
       "\n",
       "[5 rows x 42 columns]"
      ]
     },
     "execution_count": 2,
     "metadata": {},
     "output_type": "execute_result"
    }
   ],
   "source": [
    "ds_salary_df = pd.read_csv('data_scientist_salary.csv')\n",
    "ds_salary_df.head()"
   ]
  },
  {
   "cell_type": "markdown",
   "id": "a1beafdc",
   "metadata": {},
   "source": [
    "- Bỏ cột **index**, sử dụng theo index của pandas, vì theo quan sát ta thấy cột này chỉ chỉ mục của dòng nhưng lại không liên tục."
   ]
  },
  {
   "cell_type": "code",
   "execution_count": 3,
   "id": "e4c6b068",
   "metadata": {},
   "outputs": [],
   "source": [
    "ds_salary_df = ds_salary_df.drop(columns = ['index'])"
   ]
  },
  {
   "cell_type": "markdown",
   "id": "f2bb5e0c",
   "metadata": {},
   "source": [
    "### Dữ liệu có bao nhiêu dòng và bao nhiêu cột?"
   ]
  },
  {
   "cell_type": "markdown",
   "id": "07b40fa0",
   "metadata": {},
   "source": [
    "- Biến num_rows và num_columns chỉ số dòng và số cột của dữ liệu"
   ]
  },
  {
   "cell_type": "code",
   "execution_count": 4,
   "id": "1d6f7249",
   "metadata": {},
   "outputs": [
    {
     "data": {
      "text/plain": [
       "(742, 41)"
      ]
     },
     "execution_count": 4,
     "metadata": {},
     "output_type": "execute_result"
    }
   ],
   "source": [
    "num_rows = len(ds_salary_df)\n",
    "num_columns = len(ds_salary_df.columns)\n",
    "num_rows, num_columns"
   ]
  },
  {
   "cell_type": "markdown",
   "id": "c532c878",
   "metadata": {},
   "source": [
    "- Dữ liệu có 742 dòng và 42 cột"
   ]
  },
  {
   "cell_type": "markdown",
   "id": "3adea2ce",
   "metadata": {},
   "source": [
    "### Mỗi dòng có ý nghĩa gì? Có vấn đề các dòng có ý nghĩa khác nhau không?"
   ]
  },
  {
   "cell_type": "markdown",
   "id": "e433022b",
   "metadata": {},
   "source": [
    "- Mỗi dòng có thông tin về mức lương tối thiểu, mức lương tối đa, mô tả về công việc, công ty,... liên quan đến nhà khoa học dữ liệu. Theo quan sát sơ bộ và mô tả về dữ liệu thì không có dòng nào có ý nghĩa khác."
   ]
  },
  {
   "cell_type": "markdown",
   "id": "2fac14d1",
   "metadata": {},
   "source": [
    "### Dữ liệu có các dòng bị lặp không?"
   ]
  },
  {
   "cell_type": "markdown",
   "id": "b04de0df",
   "metadata": {},
   "source": [
    "- Biến duplicated_rows dùng để kiểm tra có dòng lặp hay không bằng phương thức duplicated của pandas, trả về True nếu bị lặp, ngược lại là False."
   ]
  },
  {
   "cell_type": "code",
   "execution_count": 5,
   "id": "204f7ac8",
   "metadata": {
    "scrolled": false
   },
   "outputs": [
    {
     "data": {
      "text/plain": [
       "True"
      ]
     },
     "execution_count": 5,
     "metadata": {},
     "output_type": "execute_result"
    }
   ],
   "source": [
    "duplicated_rows = ds_salary_df.duplicated().any()\n",
    "duplicated_rows"
   ]
  },
  {
   "cell_type": "markdown",
   "id": "6a06c3cf",
   "metadata": {},
   "source": [
    "- Do dữ liệu có dòng bị lặp nên mình tiến hành loại bỏ các dòng bị lặp, chỉ giữ lại dòng đầu tiên."
   ]
  },
  {
   "cell_type": "code",
   "execution_count": 6,
   "id": "7961bd28",
   "metadata": {},
   "outputs": [
    {
     "data": {
      "text/plain": [
       "(467, 41)"
      ]
     },
     "execution_count": 6,
     "metadata": {},
     "output_type": "execute_result"
    }
   ],
   "source": [
    "ds_salary_df = ds_salary_df.drop_duplicates()\n",
    "ds_salary_df.shape"
   ]
  },
  {
   "cell_type": "markdown",
   "id": "bba21f0d",
   "metadata": {},
   "source": [
    "### Mỗi cột có ý nghĩa gì?"
   ]
  },
  {
   "cell_type": "markdown",
   "id": "a226eafe",
   "metadata": {},
   "source": [
    "Dưới đây là phần mô tả về các cột trong file \"data_scientist_salary\":\n",
    "- **Job title**: Chức danh của công việc, ví dụ: Data scientist, junior data scientist, senior data scientist, ...\n",
    "- **Salary Estimate**: Khoảng lương và nguồn lấy thông tin.\n",
    "- **Job Description**: Mô tả chung về công việc, cho biết các yêu cầu kỹ năng mà công ty mong muốn và những việc mà người trúng tuyển sẽ đảm nhiệm.\n",
    "- **Rating**: Điểm đánh giá cho công ty.\n",
    "- **Company Name**: Tên công ty.\n",
    "- **Location**: Địa điểm làm việc.\n",
    "- **Headquarters**: Địa điểm trụ sở chính của công ty.\n",
    "- **Size**: Quy mô nhân lực của công ty.\n",
    "- **Founded**: Năm thành lập công ty. \n",
    "- **Type of ownership**: Cho biết đây là công ty tư nhân, đại chúng hay thuộc nhà nước. \n",
    "- **Industry**: Cho biết hoạt động kinh doanh của công ty thuộc ngành công nghiệp nào, ví dụ: công nghệ thông tin, công nghiệp dược phẩm, ... \n",
    "- **Sector**: Lĩnh vực mà công ty hoạt động.\n",
    "- **Revenue**: Tổng số doanh thu hàng năm của công ty. \n",
    "- **Competitors**: Cho biết những đối thủ cạnh tranh hiện tại của công ty. \n",
    "- **Hourly**: Có giá trị 1 nếu mức lương được báo cáo theo giờ và có giá trị là 0 ở các trường hợp còn lại.\n",
    "- **Employer provided**: Có giá trị là 1 nếu mức lương được cung cấp bởi nhà tuyển dụng và có giá trị là 0 ở các trường hợp còn lại.\n",
    "- **Lower Salary**: Mức lương tối thiểu cho công việc này của công ty.\n",
    "- **Upper Salary**: Mức lương tối đa cho công việc này của công ty.\n",
    "- **Avg Salary(K)**: Mức lương trung bình cho công việc này của công ty.\n",
    "- **company_txt**: Chứa tên công ty.\n",
    "- **Job Location**: Tên viết tắt của vị trí công ty (bang).\n",
    "- **Age**: Tuổi của công ty (tính theo năm).\n",
    "- **Python -> google_an**: Có giá trị là 1 nếu công việc đòi hỏi kỹ năng ..., ngược lại có giá trị 0.\n",
    "- **job_title_sim**: Tên đơn giản của chức danh công việc.\n",
    "- **seniority_by_title**: Có chữ senior trong chức danh.\n",
    "- **Degree**: Có giá trị M nếu công việc yêu cầu bằng cấp hoặc số năm kinh nghiệm; có giá trị P trong các trường hợp còn lại."
   ]
  },
  {
   "cell_type": "markdown",
   "id": "88ac8327",
   "metadata": {},
   "source": [
    "**Nhận xét**\n",
    "- Ở đây có quá nhiều cột dữ liệu, vì vậy để dễ dàng theo dõi và nhận xét thì ta sẽ bỏ bớt các cột không cần thiết ví dụ như:\n",
    "    - Bỏ các cột có thông tin ngoài lề như: **Headquarters**(vị trí trụ sở), **Competitors**(Đối thủ cạnh tranh của cty), **Hourly**(lương theo giờ hay không), **Employer provided**(thông tin do nhân viên cung cấp hay không).\n",
    "    - Bỏ cột trùng dữ liệu: **company_txt**(tên của công ty) trùng với Company Name."
   ]
  },
  {
   "cell_type": "code",
   "execution_count": 7,
   "id": "b214d522",
   "metadata": {},
   "outputs": [
    {
     "data": {
      "text/plain": [
       "(467, 36)"
      ]
     },
     "execution_count": 7,
     "metadata": {},
     "output_type": "execute_result"
    }
   ],
   "source": [
    "ds_salary_df = ds_salary_df.drop(columns = ['Headquarters','Competitors','Hourly', \\\n",
    "                                            'Employer provided','company_txt'])\n",
    "ds_salary_df.shape"
   ]
  },
  {
   "cell_type": "markdown",
   "id": "8307a15d",
   "metadata": {},
   "source": [
    "### Mỗi cột hiện đang có kiểu dữ liệu gì? Có cột nào có kiểu dữ liệu chưa phù hợp để có thể xử lý tiếp không?"
   ]
  },
  {
   "cell_type": "markdown",
   "id": "aba93f7b",
   "metadata": {},
   "source": [
    "- Dùng chức năng dtypes để xem kiểu dữ liệu của các cột."
   ]
  },
  {
   "cell_type": "code",
   "execution_count": 8,
   "id": "e9f21dad",
   "metadata": {
    "scrolled": true
   },
   "outputs": [
    {
     "data": {
      "text/plain": [
       "Job Title              object\n",
       "Salary Estimate        object\n",
       "Job Description        object\n",
       "Rating                float64\n",
       "Company Name           object\n",
       "Location               object\n",
       "Size                   object\n",
       "Founded                 int64\n",
       "Type of ownership      object\n",
       "Industry               object\n",
       "Sector                 object\n",
       "Revenue                object\n",
       "Lower Salary            int64\n",
       "Upper Salary            int64\n",
       "Avg Salary(K)         float64\n",
       "Job Location           object\n",
       "Age                     int64\n",
       "Python                  int64\n",
       "spark                   int64\n",
       "aws                     int64\n",
       "excel                   int64\n",
       "sql                     int64\n",
       "sas                     int64\n",
       "keras                   int64\n",
       "pytorch                 int64\n",
       "scikit                  int64\n",
       "tensor                  int64\n",
       "hadoop                  int64\n",
       "tableau                 int64\n",
       "bi                      int64\n",
       "flink                   int64\n",
       "mongo                   int64\n",
       "google_an               int64\n",
       "job_title_sim          object\n",
       "seniority_by_title     object\n",
       "Degree                 object\n",
       "dtype: object"
      ]
     },
     "execution_count": 8,
     "metadata": {},
     "output_type": "execute_result"
    }
   ],
   "source": [
    "col_dtypes = ds_salary_df.dtypes\n",
    "col_dtypes"
   ]
  },
  {
   "cell_type": "markdown",
   "id": "1fcd7135",
   "metadata": {},
   "source": [
    "- Các cột có kiểu dữ liệu đã phù hợp ngoại trừ cột **Founded**: dùng để chỉ năm thành lập của công ty, nên chuyển thành datetime với format là '%Y'.\n",
    "- Tuy nhiên khi xử lý sẽ gặp lỗi bởi vì các giá trị thiếu được điền là '-1'. Vì vậy để dễ xử lý ta cần thay đổi các giá trị '-1' thành np.NaN."
   ]
  },
  {
   "cell_type": "code",
   "execution_count": 9,
   "id": "2c81576b",
   "metadata": {},
   "outputs": [
    {
     "data": {
      "text/plain": [
       "0   1973-01-01\n",
       "1   1984-01-01\n",
       "2   2010-01-01\n",
       "3   1965-01-01\n",
       "4   1998-01-01\n",
       "Name: Founded, dtype: datetime64[ns]"
      ]
     },
     "execution_count": 9,
     "metadata": {},
     "output_type": "execute_result"
    }
   ],
   "source": [
    "ds_salary_df = ds_salary_df.replace(-1, np.NaN)\n",
    "ds_salary_df['Founded'] = pd.to_datetime(ds_salary_df['Founded'],format = '%Y')\n",
    "ds_salary_df['Founded'].head()"
   ]
  },
  {
   "cell_type": "markdown",
   "id": "7a7ac659",
   "metadata": {},
   "source": [
    "### Với mỗi cột có kiểu dữ liệu dạng số (numerical), các giá trị được phân bố như thế nào?\n",
    "(tính tỉ lệ các giá trị thiếu, min/max của các cột có kiểu dữ liệu dạng số)"
   ]
  },
  {
   "cell_type": "markdown",
   "id": "7ce558a1",
   "metadata": {},
   "source": [
    "Vì các cột từ Python -> google_an: chỉ gồm 1 nếu công việc yêu cầu skill này hoặc ngược lại là 0 cho nên ta không cần xét sự phân bố các cột này. Các cột có kiểu dữ liệu dạng số (numerical) cần xét còn lại là: **\"Rating\", \"Lower Salary\", \"Upper Salary\", \"Avg Salary(K)\", \"Age\"**. \n",
    "\n",
    "Với mỗi cột này ta tính phần trăm các giá trị thiếu, min, max bằng cách dùng cấu trúc agg để tổng hợp các tính năng tính giá trị trong mỗi cột."
   ]
  },
  {
   "cell_type": "code",
   "execution_count": 10,
   "id": "14dab995",
   "metadata": {
    "scrolled": true
   },
   "outputs": [
    {
     "data": {
      "text/html": [
       "<div>\n",
       "<style scoped>\n",
       "    .dataframe tbody tr th:only-of-type {\n",
       "        vertical-align: middle;\n",
       "    }\n",
       "\n",
       "    .dataframe tbody tr th {\n",
       "        vertical-align: top;\n",
       "    }\n",
       "\n",
       "    .dataframe thead th {\n",
       "        text-align: right;\n",
       "    }\n",
       "</style>\n",
       "<table border=\"1\" class=\"dataframe\">\n",
       "  <thead>\n",
       "    <tr style=\"text-align: right;\">\n",
       "      <th></th>\n",
       "      <th>Rating</th>\n",
       "      <th>Lower Salary</th>\n",
       "      <th>Upper Salary</th>\n",
       "      <th>Avg Salary(K)</th>\n",
       "      <th>Age</th>\n",
       "    </tr>\n",
       "  </thead>\n",
       "  <tbody>\n",
       "    <tr>\n",
       "      <th>missing_ratio</th>\n",
       "      <td>1.498929</td>\n",
       "      <td>0.0</td>\n",
       "      <td>0.0</td>\n",
       "      <td>0.0</td>\n",
       "      <td>7.066381</td>\n",
       "    </tr>\n",
       "    <tr>\n",
       "      <th>min</th>\n",
       "      <td>1.900000</td>\n",
       "      <td>15.0</td>\n",
       "      <td>16.0</td>\n",
       "      <td>15.5</td>\n",
       "      <td>2.000000</td>\n",
       "    </tr>\n",
       "    <tr>\n",
       "      <th>max</th>\n",
       "      <td>5.000000</td>\n",
       "      <td>202.0</td>\n",
       "      <td>306.0</td>\n",
       "      <td>254.0</td>\n",
       "      <td>277.000000</td>\n",
       "    </tr>\n",
       "  </tbody>\n",
       "</table>\n",
       "</div>"
      ],
      "text/plain": [
       "                 Rating  Lower Salary  Upper Salary  Avg Salary(K)         Age\n",
       "missing_ratio  1.498929           0.0           0.0            0.0    7.066381\n",
       "min            1.900000          15.0          16.0           15.5    2.000000\n",
       "max            5.000000         202.0         306.0          254.0  277.000000"
      ]
     },
     "execution_count": 10,
     "metadata": {},
     "output_type": "execute_result"
    }
   ],
   "source": [
    "numerical_df = ds_salary_df[[\"Rating\", \"Lower Salary\", \"Upper Salary\", \"Avg Salary(K)\", \"Age\"]]\n",
    "def missing_ratio(x):\n",
    "    return x.isna().mean() * 100\n",
    "\n",
    "numerical_df = numerical_df.agg([missing_ratio, pd.Series.min, pd.Series.max])\n",
    "numerical_df"
   ]
  },
  {
   "cell_type": "markdown",
   "id": "965fe876",
   "metadata": {},
   "source": [
    "- Ta có thể thấy min/max các cột không có gì bất thường, ngoại trừ Age của 1 công ty có tuổi '277'?"
   ]
  },
  {
   "cell_type": "markdown",
   "id": "91e022d7",
   "metadata": {},
   "source": [
    "### Với mỗi cột có kiểu dữ liệu dạng phân loại (categorical), các giá trị được phân bố như thế nào?\n",
    "(tính tỉ lệ các giá trị thiếu, số lượng các giá trị khác nhau, show một vài giá trị)"
   ]
  },
  {
   "cell_type": "markdown",
   "id": "d3f95d9a",
   "metadata": {},
   "source": [
    "Theo như quan sát và tìm hiểu dữ liệu thì các cột categorical của dữ liệu trên sẽ là các cột có dtypes là object.\n",
    "\n",
    "Tuy nhiên: \n",
    "- Ở các cột **seniority_by_title**, **Degree** thì các giá trị thiếu được điền là na -> cần chuyển thành np.NaN để có thể hoạt động tốt trên các hàm của pandas.\n",
    "- Ở cột **Revenue** thì các giá trị thiếu được điền là Unknown -> cần chuyển thành np.NaN"
   ]
  },
  {
   "cell_type": "code",
   "execution_count": 11,
   "id": "1bac9e16",
   "metadata": {},
   "outputs": [],
   "source": [
    "ds_salary_df = ds_salary_df.replace(['na', 'Unknown / Non-Applicable'], np.NaN)"
   ]
  },
  {
   "cell_type": "code",
   "execution_count": 12,
   "id": "cd2cec26",
   "metadata": {
    "scrolled": true
   },
   "outputs": [
    {
     "data": {
      "text/html": [
       "<div>\n",
       "<style scoped>\n",
       "    .dataframe tbody tr th:only-of-type {\n",
       "        vertical-align: middle;\n",
       "    }\n",
       "\n",
       "    .dataframe tbody tr th {\n",
       "        vertical-align: top;\n",
       "    }\n",
       "\n",
       "    .dataframe thead th {\n",
       "        text-align: right;\n",
       "    }\n",
       "</style>\n",
       "<table border=\"1\" class=\"dataframe\">\n",
       "  <thead>\n",
       "    <tr style=\"text-align: right;\">\n",
       "      <th></th>\n",
       "      <th>Job Title</th>\n",
       "      <th>Salary Estimate</th>\n",
       "      <th>Job Description</th>\n",
       "      <th>Company Name</th>\n",
       "      <th>Location</th>\n",
       "      <th>Size</th>\n",
       "      <th>Type of ownership</th>\n",
       "      <th>Industry</th>\n",
       "      <th>Sector</th>\n",
       "      <th>Revenue</th>\n",
       "      <th>Job Location</th>\n",
       "      <th>job_title_sim</th>\n",
       "      <th>seniority_by_title</th>\n",
       "      <th>Degree</th>\n",
       "    </tr>\n",
       "  </thead>\n",
       "  <tbody>\n",
       "    <tr>\n",
       "      <th>missing_ratio</th>\n",
       "      <td>0.0</td>\n",
       "      <td>0.0</td>\n",
       "      <td>0.0</td>\n",
       "      <td>0.0</td>\n",
       "      <td>0.0</td>\n",
       "      <td>0.0</td>\n",
       "      <td>0.0</td>\n",
       "      <td>0.0</td>\n",
       "      <td>0.0</td>\n",
       "      <td>28.69379</td>\n",
       "      <td>0.0</td>\n",
       "      <td>1.284797</td>\n",
       "      <td>72.805139</td>\n",
       "      <td>52.462527</td>\n",
       "    </tr>\n",
       "    <tr>\n",
       "      <th>num_diff_vals</th>\n",
       "      <td>264</td>\n",
       "      <td>416</td>\n",
       "      <td>463</td>\n",
       "      <td>343</td>\n",
       "      <td>200</td>\n",
       "      <td>8</td>\n",
       "      <td>9</td>\n",
       "      <td>60</td>\n",
       "      <td>25</td>\n",
       "      <td>12</td>\n",
       "      <td>37</td>\n",
       "      <td>9</td>\n",
       "      <td>2</td>\n",
       "      <td>2</td>\n",
       "    </tr>\n",
       "    <tr>\n",
       "      <th>diff_vals</th>\n",
       "      <td>[Data Scientist, Healthcare Data Scientist, Re...</td>\n",
       "      <td>[$53K-$91K (Glassdoor est.), $63K-$112K (Glass...</td>\n",
       "      <td>[Data Scientist\\nLocation: Albuquerque, NM\\nEd...</td>\n",
       "      <td>[Tecolote Research\\n3.8, University of Marylan...</td>\n",
       "      <td>[Albuquerque, NM, Linthicum, MD, Clearwater, F...</td>\n",
       "      <td>[501 - 1000 , 10000+ , 1001 - 5000 , 51 - 200 ...</td>\n",
       "      <td>[Company - Private, Other Organization, Govern...</td>\n",
       "      <td>[Aerospace &amp; Defense, Health Care Services &amp; H...</td>\n",
       "      <td>[Aerospace &amp; Defense, Health Care, Business Se...</td>\n",
       "      <td>[$50 to $100 million (USD), $2 to $5 billion (...</td>\n",
       "      <td>[NM, MD, FL, WA, NY, TX, CA, VA, MA, NJ, CO, I...</td>\n",
       "      <td>[data scientist, other scientist, analyst, dat...</td>\n",
       "      <td>[sr, jr]</td>\n",
       "      <td>[M, P]</td>\n",
       "    </tr>\n",
       "  </tbody>\n",
       "</table>\n",
       "</div>"
      ],
      "text/plain": [
       "                                                       Job Title  \\\n",
       "missing_ratio                                                0.0   \n",
       "num_diff_vals                                                264   \n",
       "diff_vals      [Data Scientist, Healthcare Data Scientist, Re...   \n",
       "\n",
       "                                                 Salary Estimate  \\\n",
       "missing_ratio                                                0.0   \n",
       "num_diff_vals                                                416   \n",
       "diff_vals      [$53K-$91K (Glassdoor est.), $63K-$112K (Glass...   \n",
       "\n",
       "                                                 Job Description  \\\n",
       "missing_ratio                                                0.0   \n",
       "num_diff_vals                                                463   \n",
       "diff_vals      [Data Scientist\\nLocation: Albuquerque, NM\\nEd...   \n",
       "\n",
       "                                                    Company Name  \\\n",
       "missing_ratio                                                0.0   \n",
       "num_diff_vals                                                343   \n",
       "diff_vals      [Tecolote Research\\n3.8, University of Marylan...   \n",
       "\n",
       "                                                        Location  \\\n",
       "missing_ratio                                                0.0   \n",
       "num_diff_vals                                                200   \n",
       "diff_vals      [Albuquerque, NM, Linthicum, MD, Clearwater, F...   \n",
       "\n",
       "                                                            Size  \\\n",
       "missing_ratio                                                0.0   \n",
       "num_diff_vals                                                  8   \n",
       "diff_vals      [501 - 1000 , 10000+ , 1001 - 5000 , 51 - 200 ...   \n",
       "\n",
       "                                               Type of ownership  \\\n",
       "missing_ratio                                                0.0   \n",
       "num_diff_vals                                                  9   \n",
       "diff_vals      [Company - Private, Other Organization, Govern...   \n",
       "\n",
       "                                                        Industry  \\\n",
       "missing_ratio                                                0.0   \n",
       "num_diff_vals                                                 60   \n",
       "diff_vals      [Aerospace & Defense, Health Care Services & H...   \n",
       "\n",
       "                                                          Sector  \\\n",
       "missing_ratio                                                0.0   \n",
       "num_diff_vals                                                 25   \n",
       "diff_vals      [Aerospace & Defense, Health Care, Business Se...   \n",
       "\n",
       "                                                         Revenue  \\\n",
       "missing_ratio                                           28.69379   \n",
       "num_diff_vals                                                 12   \n",
       "diff_vals      [$50 to $100 million (USD), $2 to $5 billion (...   \n",
       "\n",
       "                                                    Job Location  \\\n",
       "missing_ratio                                                0.0   \n",
       "num_diff_vals                                                 37   \n",
       "diff_vals      [NM, MD, FL, WA, NY, TX, CA, VA, MA, NJ, CO, I...   \n",
       "\n",
       "                                                   job_title_sim  \\\n",
       "missing_ratio                                           1.284797   \n",
       "num_diff_vals                                                  9   \n",
       "diff_vals      [data scientist, other scientist, analyst, dat...   \n",
       "\n",
       "              seniority_by_title     Degree  \n",
       "missing_ratio          72.805139  52.462527  \n",
       "num_diff_vals                  2          2  \n",
       "diff_vals               [sr, jr]     [M, P]  "
      ]
     },
     "execution_count": 12,
     "metadata": {},
     "output_type": "execute_result"
    }
   ],
   "source": [
    "columns_cate = list(ds_salary_df.dtypes[ds_salary_df.dtypes == 'object'].index)\n",
    "categorical_df = ds_salary_df[columns_cate]\n",
    "def diff_vals(s):\n",
    "    return s.dropna().unique()\n",
    "def num_diff_vals(s):\n",
    "    return s.nunique()\n",
    "categorical_df = categorical_df.agg([missing_ratio,num_diff_vals,diff_vals])\n",
    "categorical_df"
   ]
  },
  {
   "cell_type": "markdown",
   "id": "077d564e",
   "metadata": {},
   "source": [
    "## 3. Đưa ra các câu hỏi có ý nghĩa cần trả lời"
   ]
  },
  {
   "cell_type": "markdown",
   "id": "da6fc23e",
   "metadata": {},
   "source": [
    "### Câu hỏi 1: "
   ]
  },
  {
   "cell_type": "markdown",
   "id": "6b125288",
   "metadata": {},
   "source": [
    "- Trả lời được có lợi ích gì?"
   ]
  },
  {
   "cell_type": "markdown",
   "id": "32c2ced6",
   "metadata": {},
   "source": [
    "### Câu hỏi 2:"
   ]
  },
  {
   "cell_type": "markdown",
   "id": "34bd95ae",
   "metadata": {},
   "source": [
    "- Trả lời được có lợi ích gì?"
   ]
  },
  {
   "cell_type": "markdown",
   "id": "641cd8ff",
   "metadata": {},
   "source": [
    "## 4. Tiền xử lý và phân tích dữ liệu để trả lời các câu hỏi"
   ]
  },
  {
   "cell_type": "markdown",
   "id": "1fa8f76c",
   "metadata": {},
   "source": [
    "## Câu hỏi 1:"
   ]
  },
  {
   "cell_type": "markdown",
   "id": "04062184",
   "metadata": {},
   "source": [
    "### Tiền xử lý\n",
    "- Các bước thực hiện:"
   ]
  },
  {
   "cell_type": "code",
   "execution_count": 14,
   "id": "d4609140",
   "metadata": {},
   "outputs": [],
   "source": [
    "#Code"
   ]
  },
  {
   "cell_type": "markdown",
   "id": "c5073464",
   "metadata": {},
   "source": [
    "### Phân tích dữ liệu\n",
    "- Các bước thực hiện:"
   ]
  },
  {
   "cell_type": "code",
   "execution_count": 15,
   "id": "17e3181b",
   "metadata": {},
   "outputs": [],
   "source": [
    "#Code"
   ]
  },
  {
   "cell_type": "markdown",
   "id": "6ab411c3",
   "metadata": {},
   "source": [
    "## Câu hỏi 2:"
   ]
  },
  {
   "cell_type": "markdown",
   "id": "2d6a9bf2",
   "metadata": {},
   "source": [
    "### Tiền xử lý\n",
    "- Các bước thực hiện:"
   ]
  },
  {
   "cell_type": "code",
   "execution_count": 16,
   "id": "b0554f58",
   "metadata": {},
   "outputs": [],
   "source": [
    "#Code"
   ]
  },
  {
   "cell_type": "markdown",
   "id": "708ec77b",
   "metadata": {},
   "source": [
    "### Phân tích dữ liệu\n",
    "- Các bước thực hiện:"
   ]
  },
  {
   "cell_type": "code",
   "execution_count": 17,
   "id": "8748a64f",
   "metadata": {},
   "outputs": [],
   "source": [
    "#Code"
   ]
  },
  {
   "cell_type": "markdown",
   "id": "73c0d487",
   "metadata": {},
   "source": [
    "## 5. Nhìn lại quá trình làm đồ án"
   ]
  },
  {
   "cell_type": "markdown",
   "id": "d8dc5841",
   "metadata": {},
   "source": [
    "- TV1 : Những khó khăn?\n",
    "        Học được gì?"
   ]
  },
  {
   "cell_type": "markdown",
   "id": "2ce17254",
   "metadata": {},
   "source": [
    "- TV2: Những khó khăn?\n",
    "        Học được gì?"
   ]
  },
  {
   "cell_type": "markdown",
   "id": "52fb71aa",
   "metadata": {},
   "source": [
    "- Nhóm: nếu có thêm thời gian thì sẽ làm gì?"
   ]
  },
  {
   "cell_type": "markdown",
   "id": "9feb3bd1",
   "metadata": {},
   "source": [
    "## 6. Tài liệu tham khảo"
   ]
  },
  {
   "cell_type": "code",
   "execution_count": null,
   "id": "785c3d96",
   "metadata": {},
   "outputs": [],
   "source": []
  }
 ],
 "metadata": {
  "kernelspec": {
   "display_name": "Python 3 (ipykernel)",
   "language": "python",
   "name": "python3"
  },
  "language_info": {
   "codemirror_mode": {
    "name": "ipython",
    "version": 3
   },
   "file_extension": ".py",
   "mimetype": "text/x-python",
   "name": "python",
   "nbconvert_exporter": "python",
   "pygments_lexer": "ipython3",
   "version": "3.8.8"
  }
 },
 "nbformat": 4,
 "nbformat_minor": 5
}
